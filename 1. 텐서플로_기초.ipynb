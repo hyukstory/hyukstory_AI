{
  "nbformat": 4,
  "nbformat_minor": 0,
  "metadata": {
    "colab": {
      "name": "텐서플로 기초",
      "provenance": [],
      "collapsed_sections": [],
      "toc_visible": true,
      "include_colab_link": true
    },
    "kernelspec": {
      "name": "python3",
      "display_name": "Python 3"
    }
  },
  "cells": [
    {
      "cell_type": "markdown",
      "metadata": {
        "id": "view-in-github",
        "colab_type": "text"
      },
      "source": [
        "<a href=\"https://colab.research.google.com/github/hyukstory/hyukstory_AI/blob/main/%ED%85%90%EC%84%9C%ED%94%8C%EB%A1%9C_%EA%B8%B0%EC%B4%88.ipynb\" target=\"_parent\"><img src=\"https://colab.research.google.com/assets/colab-badge.svg\" alt=\"Open In Colab\"/></a>"
      ]
    },
    {
      "cell_type": "markdown",
      "metadata": {
        "id": "dSatVOO2HKJ3"
      },
      "source": [
        "# 0.텐서플로우 버전 선택코드 (V_1.15.2, V_2.2.0)\r\n",
        "버전 1과 2를 선택하여 불러와 줄 수 있습니다. \r\n",
        "(단, 버전 수정은 런타임 초기화 작업 필요)"
      ]
    },
    {
      "cell_type": "code",
      "metadata": {
        "id": "nDA_JQPiHgbz"
      },
      "source": [
        "try:\r\n",
        "  #%tensorflow_version 1.x\r\n",
        "  %tensorflow_version 2.x\r\n",
        "except Exception:\r\n",
        "  pass\r\n",
        "import tensorflow as tf"
      ],
      "execution_count": null,
      "outputs": []
    },
    {
      "cell_type": "markdown",
      "metadata": {
        "id": "R0F8jej3Hksb"
      },
      "source": [
        "단순히 tensorflow를 불러오게 되면 가장 최신버전을 불러와 주게 됩니다.\r\n"
      ]
    },
    {
      "cell_type": "code",
      "metadata": {
        "colab": {
          "base_uri": "https://localhost:8080/"
        },
        "id": "WKg0ecNTH8k1",
        "outputId": "ceab556b-296a-48eb-b325-f4851cdc8174"
      },
      "source": [
        "#버전 확인\r\n",
        "print(tf.__version__) "
      ],
      "execution_count": null,
      "outputs": [
        {
          "output_type": "stream",
          "text": [
            "2.4.0\n"
          ],
          "name": "stdout"
        }
      ]
    },
    {
      "cell_type": "markdown",
      "metadata": {
        "id": "-SZF7UTYIFVi"
      },
      "source": [
        "# 1.텐서플로 기초\r\n"
      ]
    },
    {
      "cell_type": "markdown",
      "metadata": {
        "id": "8vdGk07AIIzV"
      },
      "source": [
        "## 1.1 난수 생성\r\n",
        "- random.uniform\r\n"
      ]
    },
    {
      "cell_type": "code",
      "metadata": {
        "id": "s7SqRMmEIMPP"
      },
      "source": [
        "rand = tf.random.uniform([1],0,1)\r\n",
        "print(rand)"
      ],
      "execution_count": null,
      "outputs": []
    },
    {
      "cell_type": "code",
      "metadata": {
        "id": "ey9aJH6fIO2F"
      },
      "source": [
        "rand = tf.random.uniform([4],0,1)\r\n",
        "print(rand)"
      ],
      "execution_count": null,
      "outputs": []
    },
    {
      "cell_type": "code",
      "metadata": {
        "id": "JD-cBzNSIRsc"
      },
      "source": [
        "rand = tf.random.uniform([4,2],0,1)\r\n",
        "print(rand)"
      ],
      "execution_count": null,
      "outputs": []
    },
    {
      "cell_type": "code",
      "metadata": {
        "id": "uI9nwMeOITPf"
      },
      "source": [
        "rand = tf.random.uniform([6,8],0,1)\r\n",
        "print(rand)"
      ],
      "execution_count": null,
      "outputs": []
    },
    {
      "cell_type": "code",
      "metadata": {
        "id": "pJmH4uukIVRb"
      },
      "source": [
        "rand = tf.random.uniform([6,2,3],0,1)\r\n",
        "print(rand)"
      ],
      "execution_count": null,
      "outputs": []
    },
    {
      "cell_type": "markdown",
      "metadata": {
        "id": "yy0OSg5DIY4c"
      },
      "source": [
        "- random.normal (정규분포)"
      ]
    },
    {
      "cell_type": "code",
      "metadata": {
        "id": "0A_GUzfcIbPA"
      },
      "source": [
        "tf.random.normal([4],0,1)"
      ],
      "execution_count": null,
      "outputs": []
    },
    {
      "cell_type": "code",
      "metadata": {
        "id": "4y-zHgv5Iiep"
      },
      "source": [
        "tf.random.normal([3,2],0,1)"
      ],
      "execution_count": null,
      "outputs": []
    },
    {
      "cell_type": "markdown",
      "metadata": {
        "id": "4jq_SB2LIlNO"
      },
      "source": [
        "## 1.2 뉴런 만들기"
      ]
    },
    {
      "cell_type": "markdown",
      "metadata": {
        "id": "1T1tqIurImj4"
      },
      "source": [
        "#### 활성화 함수 : 시그모이드(sigmoid  함수)"
      ]
    },
    {
      "cell_type": "code",
      "metadata": {
        "id": "n7TkIsp8IpS4"
      },
      "source": [
        "# 시그모이드 함수 정의\r\n",
        "\r\n",
        "import math\r\n",
        "def sigmoid(x) :\r\n",
        "  return 1/ (1 + math.exp(-x))"
      ],
      "execution_count": null,
      "outputs": []
    },
    {
      "cell_type": "markdown",
      "metadata": {
        "id": "yYXQL_R4Ireh"
      },
      "source": [
        "ex) 입력값이 1일 때 기대출력이 0이 되는 뉴런"
      ]
    },
    {
      "cell_type": "code",
      "metadata": {
        "id": "KRGwiVVcIuF-"
      },
      "source": [
        "x = 1\r\n",
        "y = 0\r\n",
        "w = tf.random.normal([1], 0, 1)   # w : 가중치\r\n",
        "output = sigmoid(x * w)"
      ],
      "execution_count": null,
      "outputs": []
    },
    {
      "cell_type": "markdown",
      "metadata": {
        "id": "ntR6uDQdIypr"
      },
      "source": [
        "- 위에서 나온 실제출력(output)을 0에서 뺀 값\r\n",
        "0 - output값 = -output값 을 에러(error)라고 한다. \r\n",
        "\r\n",
        "- 뉴런의 학습은 이 에러가 0 에 가까워지게 해서 출력으로 기댓값에 가까운 값을 얻는 것\r\n",
        "\r\n",
        "- 뉴런 (w) 학습 알고리즘 : 경사하강법\r\n",
        "\r\n",
        "\r\n",
        "#### **경사하강법(Gradient Descent)**\r\n",
        "(경사 : 손실 곡선의 기울기)\r\n",
        "\r\n",
        "식 :  *w = w + x * a * error*\r\n",
        "\r\n",
        "*a는 w 를 업데이트하는 정도(**학습률**)*\r\n",
        "\r\n",
        "큰 값으로 설정하면 학습이 더 빨리 되지만 과도한 학습으로 적정한 수치를 벗어날 우려가 있고 , 너무 작은 값으로 설정하면 학습 속도가 너무 느려질 수 있음."
      ]
    },
    {
      "cell_type": "code",
      "metadata": {
        "colab": {
          "base_uri": "https://localhost:8080/"
        },
        "id": "a7MhOoCZI9jh",
        "outputId": "1f22f847-67a0-4efa-ce79-45acf518ada1"
      },
      "source": [
        "# a(학습률) = 0.1 로 했을 때\r\n",
        "\r\n",
        "for i in range(1000) :\r\n",
        "  output = sigmoid(x*w)\r\n",
        "  error = y - output\r\n",
        "  w = w + x*0.1*error\r\n",
        "\r\n",
        "  if i % 100 == 99 :\r\n",
        "    print('반복 횟수 {0} : , 에러값 : {1}, 결과값 : {2}'.format(i, error, output))"
      ],
      "execution_count": null,
      "outputs": [
        {
          "output_type": "stream",
          "text": [
            "반복 횟수 99 : , 에러값 : -0.10909537057281046, 결과값 : 0.10909537057281046\n",
            "반복 횟수 199 : , 에러값 : -0.05422273811384234, 결과값 : 0.05422273811384234\n",
            "반복 횟수 299 : , 에러값 : -0.035681774770393394, 결과값 : 0.035681774770393394\n",
            "반복 횟수 399 : , 에러값 : -0.026501666930054058, 결과값 : 0.026501666930054058\n",
            "반복 횟수 499 : , 에러값 : -0.021048633170569327, 결과값 : 0.021048633170569327\n",
            "반복 횟수 599 : , 에러값 : -0.017443816846908634, 결과값 : 0.017443816846908634\n",
            "반복 횟수 699 : , 에러값 : -0.014886763879022246, 결과값 : 0.014886763879022246\n",
            "반복 횟수 799 : , 에러값 : -0.012980004610878573, 결과값 : 0.012980004610878573\n",
            "반복 횟수 899 : , 에러값 : -0.01150409234839889, 결과값 : 0.01150409234839889\n",
            "반복 횟수 999 : , 에러값 : -0.010328220755280825, 결과값 : 0.010328220755280825\n"
          ],
          "name": "stdout"
        }
      ]
    },
    {
      "cell_type": "markdown",
      "metadata": {
        "id": "3elldA9AJFqU"
      },
      "source": [
        "가중치, 반복횟수, 학습률 조절해보기\r\n"
      ]
    },
    {
      "cell_type": "code",
      "metadata": {
        "colab": {
          "base_uri": "https://localhost:8080/"
        },
        "id": "hzVnCNwPJGaF",
        "outputId": "b611b7d5-355f-4763-a077-1c0c1e604b6a"
      },
      "source": [
        "x = 1\r\n",
        "y = 0\r\n",
        "w = tf.random.normal([1], 0, 0.02)   # w : 가중치\r\n",
        "output = sigmoid(x * w)\r\n",
        "print(output)\r\n",
        "\r\n",
        "for i in range(5000) :\r\n",
        "  output = sigmoid(x*w)\r\n",
        "  error = y - output\r\n",
        "  w = w + x*0.15*error\r\n",
        "\r\n",
        "  if i % 1000 == 999 :\r\n",
        "    print('반복 횟수 {0} : , 에러값 : {1}, 결과값 : {2}'.format(i, error, output))"
      ],
      "execution_count": null,
      "outputs": [
        {
          "output_type": "stream",
          "text": [
            "0.5021210544169781\n",
            "반복 횟수 999 : , 에러값 : -0.006794744219287976, 결과값 : 0.006794744219287976\n",
            "반복 횟수 1999 : , 에러값 : -0.0033724268129494677, 결과값 : 0.0033724268129494677\n",
            "반복 횟수 2999 : , 에러값 : -0.0022414364503833377, 결과값 : 0.0022414364503833377\n",
            "반복 횟수 3999 : , 에러값 : -0.0016782040851658557, 결과값 : 0.0016782040851658557\n",
            "반복 횟수 4999 : , 에러값 : -0.0013410814274943713, 결과값 : 0.0013410814274943713\n"
          ],
          "name": "stdout"
        }
      ]
    },
    {
      "cell_type": "markdown",
      "metadata": {
        "id": "IK3xql2TJQtu"
      },
      "source": [
        "####편향 : 입력을 0 으로 넣었을 때 출력으로 1 을 얻는 뉴런은 어떻게 만들까\r\n",
        "- 편향(bias) 을 넣어줘야 한다.\r\n",
        "(늘 한쪽으로 치우친 고정된 값 (ex:1)을 받아서 입력으로 0 을 받았을 때 뉴런이 아무것도 배우지 못하는 상황을 방지합니다)\r\n",
        "\r\n",
        "![1.PNG](data:image/png;base64,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)\r\n"
      ]
    },
    {
      "cell_type": "code",
      "metadata": {
        "colab": {
          "base_uri": "https://localhost:8080/"
        },
        "id": "_M4kP5xwJR0i",
        "outputId": "39f73c09-5f2d-4cbf-9a7d-f197db5374c8"
      },
      "source": [
        "x = 0\r\n",
        "y = 1\r\n",
        "w = tf.random.normal([1], 0, 1)\r\n",
        "b = tf.random.normal([1], 0, 1)\r\n",
        "\r\n",
        "for i in range(1000) :\r\n",
        "  output = sigmoid(x * w +  1 * b)\r\n",
        "  error = y- output\r\n",
        "  w = w + x * 0.1 * error\r\n",
        "  b = b + 1 * 0.1 * error\r\n",
        "  \r\n",
        "  if i % 100 == 99 :\r\n",
        "    print('반복 횟수 {0} : , 에러값 : {1}, 결과값 : {2}'.format(i, error, output))"
      ],
      "execution_count": null,
      "outputs": [
        {
          "output_type": "stream",
          "text": [
            "반복 횟수 99 : , 에러값 : 0.11678798918091904, 결과값 : 0.883212010819081\n",
            "반복 횟수 199 : , 에러값 : 0.056176687582400464, 결과값 : 0.9438233124175995\n",
            "반복 횟수 299 : , 에러값 : 0.03653414475390393, 결과값 : 0.9634658552460961\n",
            "반복 횟수 399 : , 에러값 : 0.02697341622477234, 결과값 : 0.9730265837752277\n",
            "반복 횟수 499 : , 에러값 : 0.021346766681704987, 결과값 : 0.978653233318295\n",
            "반복 횟수 599 : , 에러값 : 0.017648819637558155, 결과값 : 0.9823511803624418\n",
            "반복 횟수 699 : , 에러값 : 0.015036173191003255, 결과값 : 0.9849638268089967\n",
            "반복 횟수 799 : , 에러값 : 0.013093612962001622, 결과값 : 0.9869063870379984\n",
            "반복 횟수 899 : , 에러값 : 0.011593394237285781, 결과값 : 0.9884066057627142\n",
            "반복 횟수 999 : , 에러값 : 0.010400247742740731, 결과값 : 0.9895997522572593\n"
          ],
          "name": "stdout"
        }
      ]
    },
    {
      "cell_type": "markdown",
      "metadata": {
        "id": "1aaPrv1eJVjO"
      },
      "source": [
        "## 1.3.1 첫 번째 신경망 네트워크 : AND"
      ]
    },
    {
      "cell_type": "markdown",
      "metadata": {
        "id": "PHliloNCJaWG"
      },
      "source": [
        "AND 연산 진리표                                                                           \r\n",
        "![image.png](data:image/png;base64,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)\r\n"
      ]
    },
    {
      "cell_type": "markdown",
      "metadata": {
        "id": "eJq146QYJf4M"
      },
      "source": [
        "위 4개의 AND연산 쌍을 신경망에 넣어 학습시키면\r\n",
        "AND 연산을 할 수 있는 신경망 네트워크를 만들 수 있다.\r\n",
        "\r\n",
        "![image.png](data:image/png;base64,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)\r\n"
      ]
    },
    {
      "cell_type": "code",
      "metadata": {
        "colab": {
          "base_uri": "https://localhost:8080/"
        },
        "id": "DhKY_4tqJlpN",
        "outputId": "2703ba0b-982f-4c96-f67a-bc56ba45a599"
      },
      "source": [
        "import numpy as np\r\n",
        "x = np.array([[1,1],[1,0],[0,1],[0,0]])   # AND 연산의 입력값\r\n",
        "y = np.array([[1],[0],[0],[0]])   # AND 연산의 출력값\r\n",
        "w = tf.random.normal([2], 0, 1)   #가중치가 두개\r\n",
        "b = tf.random.normal([1], 0, 1)\r\n",
        "b_x = 1 # 편향\r\n",
        "\r\n",
        "for i in range(2000) :\r\n",
        "  error_sum = 0\r\n",
        "  for j in range(4) :\r\n",
        "    # 활성화 함수 : Y = f(X_1 * w_1 + X_2 * w_2 + 1 * b)\r\n",
        "    output = sigmoid(np.sum(x[j]*w) + b_x*b)\r\n",
        "    error = y[j][0] - output\r\n",
        "    w = w + x[j] * 0.1 * error\r\n",
        "    b = b + b_x * 0.1 * error\r\n",
        "    error_sum += error\r\n",
        "\r\n",
        "    if i % 1000 == 999 :\r\n",
        "      print(i, error_sum)"
      ],
      "execution_count": null,
      "outputs": [
        {
          "output_type": "stream",
          "text": [
            "999 0.06844075289922436\n",
            "999 0.01968495946630245\n",
            "999 -0.02912500018635681\n",
            "999 -0.029313348137605177\n",
            "1999 0.035189371739625885\n",
            "1999 0.010081638595215166\n",
            "1999 -0.015041447409607514\n",
            "1999 -0.015065339660548181\n"
          ],
          "name": "stdout"
        }
      ]
    },
    {
      "cell_type": "markdown",
      "metadata": {
        "id": "89xtxyYjJstD"
      },
      "source": [
        "결과값이 기대출력에 가까운지 확인\r\n"
      ]
    },
    {
      "cell_type": "code",
      "metadata": {
        "colab": {
          "base_uri": "https://localhost:8080/"
        },
        "id": "5fvYrphAJvUo",
        "outputId": "ff5c8523-67d4-4ffe-ff1a-d3e8f120fe8c"
      },
      "source": [
        "for i in range(4) :\r\n",
        "  print('X: ', x[i], 'Y:', y[i], 'Output :' , sigmoid(np.sum(x[i]*w) + b))"
      ],
      "execution_count": null,
      "outputs": [
        {
          "output_type": "stream",
          "text": [
            "X:  [1 1] Y: [1] Output : 0.9648279141659607\n",
            "X:  [1 0] Y: [0] Output : 0.02492392061358937\n",
            "X:  [0 1] Y: [0] Output : 0.02500025144308602\n",
            "X:  [0 0] Y: [0] Output : 2.3892182586120323e-05\n"
          ],
          "name": "stdout"
        }
      ]
    },
    {
      "cell_type": "code",
      "metadata": {
        "colab": {
          "base_uri": "https://localhost:8080/"
        },
        "id": "SlO4m-e7J1PA",
        "outputId": "3200b323-51cd-419d-a544-d4baf5ea2004"
      },
      "source": [
        "print('w :', w)\r\n",
        "print('b :', b)"
      ],
      "execution_count": null,
      "outputs": [
        {
          "output_type": "stream",
          "text": [
            "w : tf.Tensor([6.975248 6.978384], shape=(2,), dtype=float32)\n",
            "b : tf.Tensor([-10.641935], shape=(1,), dtype=float32)\n"
          ],
          "name": "stdout"
        }
      ]
    },
    {
      "cell_type": "markdown",
      "metadata": {
        "id": "q6W02Xa6J4O2"
      },
      "source": [
        "## 1.3.2 두 번째 신경망 네트워크 : OR\r\n"
      ]
    },
    {
      "cell_type": "markdown",
      "metadata": {
        "id": "1L82rRErDRG4"
      },
      "source": [
        "![image.png](data:image/png;base64,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)"
      ]
    },
    {
      "cell_type": "code",
      "metadata": {
        "colab": {
          "base_uri": "https://localhost:8080/"
        },
        "id": "F2c6rse3DnlB",
        "outputId": "311c6bd2-9405-457b-a478-302da2496210"
      },
      "source": [
        "import numpy as np\r\n",
        "x = np.array([[1,1],[1,0],[0,1],[0,0]])   # OR 연산의 입력값 (AND와 같음)\r\n",
        "y = np.array([[1],[1],[1],[0]])   # OR 연산의 출력값\r\n",
        "w = tf.random.normal([2], 0, 1)   #가중치가 두개\r\n",
        "b = tf.random.normal([1], 0, 1)\r\n",
        "b_x = 1 # 편향\r\n",
        "\r\n",
        "for i in range(2000) :\r\n",
        "  error_sum = 0\r\n",
        "  for j in range(4) :\r\n",
        "    # 활성화 함수 : Y = f(X_1 * w_1 + X_2 * w_2 + 1 * b)\r\n",
        "    output = sigmoid(np.sum(x[j]*w) + b_x*b)\r\n",
        "    error = y[j][0] - output\r\n",
        "    w = w + x[j] * 0.1 * error\r\n",
        "    b = b + b_x * 0.1 * error\r\n",
        "    error_sum += error\r\n",
        "\r\n",
        "    if i % 1000 == 999 :\r\n",
        "      print(i, error_sum)"
      ],
      "execution_count": null,
      "outputs": [
        {
          "output_type": "stream",
          "text": [
            "999 2.1174949715430103e-05\n",
            "999 0.019931828996454293\n",
            "999 0.039551480772984426\n",
            "999 -0.010047330254017751\n",
            "1999 2.667266880695962e-06\n",
            "1999 0.01008092999366883\n",
            "1999 0.020125988994385113\n",
            "1999 -0.005068183514609519\n"
          ],
          "name": "stdout"
        }
      ]
    },
    {
      "cell_type": "markdown",
      "metadata": {
        "id": "iZ7uNbnwQDTN"
      },
      "source": [
        "결과값이 기대출력에 가까운지 확인"
      ]
    },
    {
      "cell_type": "code",
      "metadata": {
        "colab": {
          "base_uri": "https://localhost:8080/"
        },
        "id": "9bAL-zZUQDTO",
        "outputId": "ebd702fa-dc9f-4ac0-af89-1e1402f0213d"
      },
      "source": [
        "for i in range(4) :\r\n",
        "  print('X: ', x[i], 'Y:', y[i], 'Output :' , sigmoid(np.sum(x[i]*w) + b))"
      ],
      "execution_count": null,
      "outputs": [
        {
          "output_type": "stream",
          "text": [
            "X:  [1 1] Y: [1] Output : 0.9999973367415149\n",
            "X:  [1 0] Y: [1] Output : 0.9899267311681452\n",
            "X:  [0 1] Y: [1] Output : 0.9899498613216355\n",
            "X:  [0 0] Y: [0] Output : 0.025132372207835752\n"
          ],
          "name": "stdout"
        }
      ]
    },
    {
      "cell_type": "code",
      "metadata": {
        "colab": {
          "base_uri": "https://localhost:8080/"
        },
        "id": "M-USPlcsTNLi",
        "outputId": "4a65a95d-d7cf-49ab-d9be-39540bf92415"
      },
      "source": [
        "print('w :', w)\r\n",
        "print('b :', b)"
      ],
      "execution_count": null,
      "outputs": [
        {
          "output_type": "stream",
          "text": [
            "w : tf.Tensor([8.245891 8.248213], shape=(2,), dtype=float32)\n",
            "b : tf.Tensor([-3.658145], shape=(1,), dtype=float32)\n"
          ],
          "name": "stdout"
        }
      ]
    },
    {
      "cell_type": "markdown",
      "metadata": {
        "id": "ncBXlwTzGwJt"
      },
      "source": [
        "## 1.3.3 세 번째 신경망 네트워크 : XOR"
      ]
    },
    {
      "cell_type": "markdown",
      "metadata": {
        "id": "ZjxOjIXyG2y3"
      },
      "source": [
        "홀수 개의 입력이 참일 때만 결괏값이 참이 된다\r\n",
        "\r\n",
        "![image.png](data:image/png;base64,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)"
      ]
    },
    {
      "cell_type": "code",
      "metadata": {
        "id": "HU3EceOhGw85"
      },
      "source": [
        "import numpy as np\r\n",
        "x = np.array([[1,1],[1,0],[0,1],[0,0]])   # XOR 연산의 입력값\r\n",
        "y = np.array([[0],[1],[1],[0]])   # XOR 연산의 출력값\r\n",
        "w = tf.random.normal([2], 0, 1)   #가중치가 두개\r\n",
        "b = tf.random.normal([1], 0, 1)\r\n",
        "b_x = 1 # 편향\r\n"
      ],
      "execution_count": null,
      "outputs": []
    },
    {
      "cell_type": "code",
      "metadata": {
        "colab": {
          "base_uri": "https://localhost:8080/"
        },
        "id": "q0W6q_1pTl_K",
        "outputId": "3d7fd466-4416-46cf-9d9d-f2403b1683a7"
      },
      "source": [
        "for i in range(2000) :\r\n",
        "  error_sum = 0\r\n",
        "  for j in range(4) :\r\n",
        "    # 활성화 함수 : Y = f(X_1 * w_1 + X_2 * w_2 + 1 * b)\r\n",
        "    output = sigmoid(np.sum(x[j]*w) + b_x*b)\r\n",
        "    error = y[j][0] - output\r\n",
        "    w = w + x[j] * 0.1 * error\r\n",
        "    b = b + b_x * 0.1 * error\r\n",
        "    error_sum += error\r\n",
        "\r\n",
        "    if i % 500 == 499 :\r\n",
        "      print(i, error_sum)"
      ],
      "execution_count": null,
      "outputs": [
        {
          "output_type": "stream",
          "text": [
            "499 -0.5129462845907482\n",
            "499 -9.778429983919867e-05\n",
            "499 0.5127509486679643\n",
            "499 0.0001135221069662462\n",
            "999 -0.512817690098105\n",
            "999 -5.5842632296077e-08\n",
            "999 0.5128175784128404\n",
            "999 4.653552987399223e-09\n",
            "1499 -0.5128176323940516\n",
            "1499 -9.307106196843051e-10\n",
            "1499 0.512817631463341\n",
            "1499 1.8614210173240053e-09\n",
            "1999 -0.5128176323940516\n",
            "1999 -9.307106196843051e-10\n",
            "1999 0.512817631463341\n",
            "1999 1.8614210173240053e-09\n"
          ],
          "name": "stdout"
        }
      ]
    },
    {
      "cell_type": "markdown",
      "metadata": {
        "id": "SC5iibzuQNWG"
      },
      "source": [
        "결과값이 기대출력에 가까운지 확인"
      ]
    },
    {
      "cell_type": "code",
      "metadata": {
        "colab": {
          "base_uri": "https://localhost:8080/"
        },
        "id": "7W-RQpX3QNWH",
        "outputId": "d27e9c9c-2662-4533-9a9a-2a707f718a56"
      },
      "source": [
        "for i in range(4) :\r\n",
        "  print('X: ', x[i], 'Y:', y[i], 'Output :' , sigmoid(np.sum(x[i]*w) + b))"
      ],
      "execution_count": null,
      "outputs": [
        {
          "output_type": "stream",
          "text": [
            "X:  [1 1] Y: [0] Output : 0.5128176323940516\n",
            "X:  [1 0] Y: [1] Output : 0.5128176314633411\n",
            "X:  [0 1] Y: [1] Output : 0.4999999990686774\n",
            "X:  [0 0] Y: [0] Output : 0.49999999813735485\n"
          ],
          "name": "stdout"
        }
      ]
    },
    {
      "cell_type": "code",
      "metadata": {
        "colab": {
          "base_uri": "https://localhost:8080/"
        },
        "id": "-GGqULeLTRgd",
        "outputId": "f056572d-dd54-4302-ce9f-f5c07873974d"
      },
      "source": [
        "print('w :', w)\r\n",
        "print('b :', b)"
      ],
      "execution_count": null,
      "outputs": [
        {
          "output_type": "stream",
          "text": [
            "w : tf.Tensor([5.1281769e-02 3.7252903e-09], shape=(2,), dtype=float32)\n",
            "b : tf.Tensor([-7.450581e-09], shape=(1,), dtype=float32)\n"
          ],
          "name": "stdout"
        }
      ]
    },
    {
      "cell_type": "markdown",
      "metadata": {
        "id": "6JUyoTjhSbKi"
      },
      "source": [
        "=> 결과값이 기대출력과 달리 0.5에 가깝다\r\n",
        "\r\n",
        "=> ***XOR Problem***\r\n",
        "- 해결책 : 다층 퍼셉트론"
      ]
    },
    {
      "cell_type": "markdown",
      "metadata": {
        "id": "Oj7vAXppZ0Qu"
      },
      "source": [
        "## 1.4 다층 퍼셉트론"
      ]
    },
    {
      "cell_type": "markdown",
      "metadata": {
        "id": "2076l_7TdOH0"
      },
      "source": [
        "tf.keras 이용하여 세개의 퍼셉트론과 뉴런 사용 신경망 구축"
      ]
    },
    {
      "cell_type": "code",
      "metadata": {
        "colab": {
          "base_uri": "https://localhost:8080/"
        },
        "id": "Vdr2itrVb9F-",
        "outputId": "547f818c-b4e3-46ab-e9ae-a7a42c04563d"
      },
      "source": [
        "import numpy as np\r\n",
        "x = np.array([[1,1],[1,0], [0,1], [0,0]])\r\n",
        "y = np.array([[0],[1],[1],[0]])\r\n",
        "\r\n",
        "\r\n",
        "# 시퀀셜 모델 사용 (레이어를 일직선으로 배치)\r\n",
        "## 완전 연결계층(Dense) 사용\r\n",
        "model = tf.keras.Sequential(\r\n",
        "    [tf.keras.layers.Dense(units=2, activation='sigmoid', input_shape=(2,)),  # 첫번째 레이어 정의,  차원은 첫번째 레이어 정의할때만\r\n",
        "     tf.keras.layers.Dense(units=1, activation='sigmoid') ])                  # 두번째 레이어 정의\r\n",
        "\r\n",
        "\r\n",
        "\r\n",
        "model.compile(optimizer = tf.keras.optimizers.SGD(lr=0.1), loss = 'mse') \r\n",
        "# 최적화 함수 : SGD ((률적 경사하강법)\r\n",
        "# 손실 줄이는 법 : MSE (평균 제곱 오차)\r\n",
        "model.summary()"
      ],
      "execution_count": null,
      "outputs": [
        {
          "output_type": "stream",
          "text": [
            "Model: \"sequential_3\"\n",
            "_________________________________________________________________\n",
            "Layer (type)                 Output Shape              Param #   \n",
            "=================================================================\n",
            "dense_6 (Dense)              (None, 2)                 6         \n",
            "_________________________________________________________________\n",
            "dense_7 (Dense)              (None, 1)                 3         \n",
            "=================================================================\n",
            "Total params: 9\n",
            "Trainable params: 9\n",
            "Non-trainable params: 0\n",
            "_________________________________________________________________\n"
          ],
          "name": "stdout"
        }
      ]
    },
    {
      "cell_type": "markdown",
      "metadata": {
        "id": "bpyXBN_Nei6k"
      },
      "source": [
        "Total params : 9 인 것을 보아 편향이 포함되어 있다는 것을 알수 있다 \r\n",
        "\r\n",
        "=> 위의 식을 그림으로 표현하면\r\n",
        "\r\n",
        "\r\n",
        "\r\n",
        "> ![image.png](data:image/png;base64,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)"
      ]
    },
    {
      "cell_type": "markdown",
      "metadata": {
        "id": "pq2PJ7I8gKVj"
      },
      "source": [
        "네트워크 학습시키고 평가해보기"
      ]
    },
    {
      "cell_type": "code",
      "metadata": {
        "id": "yYVChZq-fr4V"
      },
      "source": [
        "history = model.fit(x, y, epochs= 2000,batch_size=1) \r\n",
        "# epochs : 훈련데이터를 반복학습 시키는 횟수\r\n",
        "# batch_sixe : 한번에 학습시키는 데이터의 수 "
      ],
      "execution_count": null,
      "outputs": []
    },
    {
      "cell_type": "code",
      "metadata": {
        "colab": {
          "base_uri": "https://localhost:8080/"
        },
        "id": "gGnhdCK4gNoj",
        "outputId": "64598cc2-61be-415d-cdaa-672d6d2fb3ad"
      },
      "source": [
        "model.predict(x)\r\n",
        "\r\n",
        "# 첫번째와 네번째는 0에 가깝고 두번째,세번째는 1에 가까우므로 잘 계산하고 있다. "
      ],
      "execution_count": null,
      "outputs": [
        {
          "output_type": "execute_result",
          "data": {
            "text/plain": [
              "array([[0.31938624],\n",
              "       [0.26654446],\n",
              "       [0.39034098],\n",
              "       [0.33210093]], dtype=float32)"
            ]
          },
          "metadata": {
            "tags": []
          },
          "execution_count": 15
        }
      ]
    }
  ]
}
