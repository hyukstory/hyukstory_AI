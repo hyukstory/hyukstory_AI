{
  "nbformat": 4,
  "nbformat_minor": 0,
  "metadata": {
    "colab": {
      "name": "소설 작가 분류 AI 경진대회",
      "provenance": [],
      "collapsed_sections": [],
      "toc_visible": true,
      "include_colab_link": true
    },
    "kernelspec": {
      "name": "python3",
      "display_name": "Python 3"
    },
    "accelerator": "GPU"
  },
  "cells": [
    {
      "cell_type": "markdown",
      "metadata": {
        "id": "view-in-github",
        "colab_type": "text"
      },
      "source": [
        "<a href=\"https://colab.research.google.com/github/hyukstory/hyukstory_AI/blob/main/%5BDACON%5D%20%EC%86%8C%EC%84%A4%20%EC%9E%91%EA%B0%80%20%EB%B6%84%EB%A5%98%20AI%20%EA%B2%BD%EC%A7%84%EB%8C%80%ED%9A%8C%20%EC%97%B0%EC%8A%B5.ipynb\" target=\"_parent\"><img src=\"https://colab.research.google.com/assets/colab-badge.svg\" alt=\"Open In Colab\"/></a>"
      ]
    },
    {
      "cell_type": "code",
      "metadata": {
        "colab": {
          "base_uri": "https://localhost:8080/"
        },
        "id": "VADI0ZPOy4CP",
        "outputId": "ca167cfe-92ee-4097-a503-b47925dd22f2"
      },
      "source": [
        "from google.colab import drive\n",
        "drive.mount('/content/drive')"
      ],
      "execution_count": null,
      "outputs": [
        {
          "output_type": "stream",
          "text": [
            "Mounted at /content/drive\n"
          ],
          "name": "stdout"
        }
      ]
    },
    {
      "cell_type": "code",
      "metadata": {
        "id": "ZcKmTX6PMzBv"
      },
      "source": [
        "import pandas as pd\r\n",
        "import numpy as np\r\n",
        "import re\r\n",
        "\r\n",
        "import seaborn as sns\r\n",
        "import matplotlib.pyplot as plt\r\n",
        "\r\n",
        "from sklearn.metrics import accuracy_score, log_loss\r\n",
        "from sklearn.model_selection import StratifiedKFold\r\n",
        "\r\n",
        "import tensorflow as tf\r\n",
        "from tensorflow.keras import Sequential\r\n",
        "from tensorflow.keras.layers import Dense, Embedding, LSTM, Dropout, Bidirectional\r\n",
        "from tensorflow.keras.preprocessing.sequence import pad_sequences\r\n",
        "from tensorflow.keras.preprocessing.text import Tokenizer\r\n",
        "from tensorflow.keras.callbacks import EarlyStopping, ReduceLROnPlateau\r\n",
        "from tensorflow.keras.utils import plot_model, to_categorical\r\n",
        "from tensorflow.keras.optimizers import Adam\r\n",
        "\r\n",
        "from keras.utils import np_utils\r\n",
        "\r\n",
        "import warnings \r\n",
        "warnings.filterwarnings(action='ignore')"
      ],
      "execution_count": null,
      "outputs": []
    },
    {
      "cell_type": "markdown",
      "metadata": {
        "id": "--G-gYDrGezN"
      },
      "source": [
        "# 1.NLP Preprocessing\r\n"
      ]
    },
    {
      "cell_type": "markdown",
      "metadata": {
        "id": "DQ6f_DVUJi1w"
      },
      "source": [
        "## 1-1. 데이터 불러오기"
      ]
    },
    {
      "cell_type": "code",
      "metadata": {
        "id": "qh6rMO4gFfux",
        "colab": {
          "base_uri": "https://localhost:8080/",
          "height": 399
        },
        "outputId": "96b62679-6010-4e2b-ee48-c2bbba4f03cb"
      },
      "source": [
        "# train 데이터 불러오기\r\n",
        "train = pd.read_csv(\"/content/drive/MyDrive/dacon_data/train.csv\")\r\n",
        "train"
      ],
      "execution_count": null,
      "outputs": [
        {
          "output_type": "execute_result",
          "data": {
            "text/html": [
              "<div>\n",
              "<style scoped>\n",
              "    .dataframe tbody tr th:only-of-type {\n",
              "        vertical-align: middle;\n",
              "    }\n",
              "\n",
              "    .dataframe tbody tr th {\n",
              "        vertical-align: top;\n",
              "    }\n",
              "\n",
              "    .dataframe thead th {\n",
              "        text-align: right;\n",
              "    }\n",
              "</style>\n",
              "<table border=\"1\" class=\"dataframe\">\n",
              "  <thead>\n",
              "    <tr style=\"text-align: right;\">\n",
              "      <th></th>\n",
              "      <th>index</th>\n",
              "      <th>text</th>\n",
              "      <th>author</th>\n",
              "    </tr>\n",
              "  </thead>\n",
              "  <tbody>\n",
              "    <tr>\n",
              "      <th>0</th>\n",
              "      <td>0</td>\n",
              "      <td>He was almost choking. There was so much, so m...</td>\n",
              "      <td>3</td>\n",
              "    </tr>\n",
              "    <tr>\n",
              "      <th>1</th>\n",
              "      <td>1</td>\n",
              "      <td>“Your sister asked for it, I suppose?”</td>\n",
              "      <td>2</td>\n",
              "    </tr>\n",
              "    <tr>\n",
              "      <th>2</th>\n",
              "      <td>2</td>\n",
              "      <td>She was engaged one day as she walked, in per...</td>\n",
              "      <td>1</td>\n",
              "    </tr>\n",
              "    <tr>\n",
              "      <th>3</th>\n",
              "      <td>3</td>\n",
              "      <td>The captain was in the porch, keeping himself ...</td>\n",
              "      <td>4</td>\n",
              "    </tr>\n",
              "    <tr>\n",
              "      <th>4</th>\n",
              "      <td>4</td>\n",
              "      <td>“Have mercy, gentlemen!” odin flung up his han...</td>\n",
              "      <td>3</td>\n",
              "    </tr>\n",
              "    <tr>\n",
              "      <th>...</th>\n",
              "      <td>...</td>\n",
              "      <td>...</td>\n",
              "      <td>...</td>\n",
              "    </tr>\n",
              "    <tr>\n",
              "      <th>54874</th>\n",
              "      <td>54874</td>\n",
              "      <td>“Is that you, Mr. Smith?” odin whispered. “I h...</td>\n",
              "      <td>2</td>\n",
              "    </tr>\n",
              "    <tr>\n",
              "      <th>54875</th>\n",
              "      <td>54875</td>\n",
              "      <td>I told my plan to the captain, and between us ...</td>\n",
              "      <td>4</td>\n",
              "    </tr>\n",
              "    <tr>\n",
              "      <th>54876</th>\n",
              "      <td>54876</td>\n",
              "      <td>\"Your sincere well-wisher, friend, and sister...</td>\n",
              "      <td>1</td>\n",
              "    </tr>\n",
              "    <tr>\n",
              "      <th>54877</th>\n",
              "      <td>54877</td>\n",
              "      <td>“Then you wanted me to lend you money?”</td>\n",
              "      <td>3</td>\n",
              "    </tr>\n",
              "    <tr>\n",
              "      <th>54878</th>\n",
              "      <td>54878</td>\n",
              "      <td>It certainly had not occurred to me before, bu...</td>\n",
              "      <td>0</td>\n",
              "    </tr>\n",
              "  </tbody>\n",
              "</table>\n",
              "<p>54879 rows × 3 columns</p>\n",
              "</div>"
            ],
            "text/plain": [
              "       index                                               text  author\n",
              "0          0  He was almost choking. There was so much, so m...       3\n",
              "1          1             “Your sister asked for it, I suppose?”       2\n",
              "2          2   She was engaged one day as she walked, in per...       1\n",
              "3          3  The captain was in the porch, keeping himself ...       4\n",
              "4          4  “Have mercy, gentlemen!” odin flung up his han...       3\n",
              "...      ...                                                ...     ...\n",
              "54874  54874  “Is that you, Mr. Smith?” odin whispered. “I h...       2\n",
              "54875  54875  I told my plan to the captain, and between us ...       4\n",
              "54876  54876   \"Your sincere well-wisher, friend, and sister...       1\n",
              "54877  54877            “Then you wanted me to lend you money?”       3\n",
              "54878  54878  It certainly had not occurred to me before, bu...       0\n",
              "\n",
              "[54879 rows x 3 columns]"
            ]
          },
          "metadata": {
            "tags": []
          },
          "execution_count": 5
        }
      ]
    },
    {
      "cell_type": "code",
      "metadata": {
        "colab": {
          "base_uri": "https://localhost:8080/",
          "height": 399
        },
        "id": "ULqO_aGaN5d9",
        "outputId": "a11b92a1-a8ff-4bb6-d908-d5a3e90b1673"
      },
      "source": [
        "# test 데이터 불러오기\r\n",
        "test = pd.read_csv(\"/content/drive/MyDrive/dacon_data/test_x.csv\")\r\n",
        "test"
      ],
      "execution_count": null,
      "outputs": [
        {
          "output_type": "execute_result",
          "data": {
            "text/html": [
              "<div>\n",
              "<style scoped>\n",
              "    .dataframe tbody tr th:only-of-type {\n",
              "        vertical-align: middle;\n",
              "    }\n",
              "\n",
              "    .dataframe tbody tr th {\n",
              "        vertical-align: top;\n",
              "    }\n",
              "\n",
              "    .dataframe thead th {\n",
              "        text-align: right;\n",
              "    }\n",
              "</style>\n",
              "<table border=\"1\" class=\"dataframe\">\n",
              "  <thead>\n",
              "    <tr style=\"text-align: right;\">\n",
              "      <th></th>\n",
              "      <th>index</th>\n",
              "      <th>text</th>\n",
              "    </tr>\n",
              "  </thead>\n",
              "  <tbody>\n",
              "    <tr>\n",
              "      <th>0</th>\n",
              "      <td>0</td>\n",
              "      <td>“Not at all. I think she is one of the most ch...</td>\n",
              "    </tr>\n",
              "    <tr>\n",
              "      <th>1</th>\n",
              "      <td>1</td>\n",
              "      <td>\"No,\" replied he, with sudden consciousness, \"...</td>\n",
              "    </tr>\n",
              "    <tr>\n",
              "      <th>2</th>\n",
              "      <td>2</td>\n",
              "      <td>As the lady had stated her intention of scream...</td>\n",
              "    </tr>\n",
              "    <tr>\n",
              "      <th>3</th>\n",
              "      <td>3</td>\n",
              "      <td>“And then suddenly in the silence I heard a so...</td>\n",
              "    </tr>\n",
              "    <tr>\n",
              "      <th>4</th>\n",
              "      <td>4</td>\n",
              "      <td>His conviction remained unchanged. So far as I...</td>\n",
              "    </tr>\n",
              "    <tr>\n",
              "      <th>...</th>\n",
              "      <td>...</td>\n",
              "      <td>...</td>\n",
              "    </tr>\n",
              "    <tr>\n",
              "      <th>19612</th>\n",
              "      <td>19612</td>\n",
              "      <td>At the end of another day or two, odin growing...</td>\n",
              "    </tr>\n",
              "    <tr>\n",
              "      <th>19613</th>\n",
              "      <td>19613</td>\n",
              "      <td>All afternoon we sat together, mostly in silen...</td>\n",
              "    </tr>\n",
              "    <tr>\n",
              "      <th>19614</th>\n",
              "      <td>19614</td>\n",
              "      <td>odin, having carried his thanks to odin, proc...</td>\n",
              "    </tr>\n",
              "    <tr>\n",
              "      <th>19615</th>\n",
              "      <td>19615</td>\n",
              "      <td>Soon after this, upon odin's leaving the room,...</td>\n",
              "    </tr>\n",
              "    <tr>\n",
              "      <th>19616</th>\n",
              "      <td>19616</td>\n",
              "      <td>And all the worse for the doomed man, that the...</td>\n",
              "    </tr>\n",
              "  </tbody>\n",
              "</table>\n",
              "<p>19617 rows × 2 columns</p>\n",
              "</div>"
            ],
            "text/plain": [
              "       index                                               text\n",
              "0          0  “Not at all. I think she is one of the most ch...\n",
              "1          1  \"No,\" replied he, with sudden consciousness, \"...\n",
              "2          2  As the lady had stated her intention of scream...\n",
              "3          3  “And then suddenly in the silence I heard a so...\n",
              "4          4  His conviction remained unchanged. So far as I...\n",
              "...      ...                                                ...\n",
              "19612  19612  At the end of another day or two, odin growing...\n",
              "19613  19613  All afternoon we sat together, mostly in silen...\n",
              "19614  19614   odin, having carried his thanks to odin, proc...\n",
              "19615  19615  Soon after this, upon odin's leaving the room,...\n",
              "19616  19616  And all the worse for the doomed man, that the...\n",
              "\n",
              "[19617 rows x 2 columns]"
            ]
          },
          "metadata": {
            "tags": []
          },
          "execution_count": 6
        }
      ]
    },
    {
      "cell_type": "code",
      "metadata": {
        "colab": {
          "base_uri": "https://localhost:8080/",
          "height": 399
        },
        "id": "Qv6DStuyOQiK",
        "outputId": "887f67c0-5bb9-49ba-95bb-4de9963a10f2"
      },
      "source": [
        "# sample_submission 불러오기\r\n",
        "sample_submission = pd.read_csv(\"/content/drive/MyDrive/dacon_data/sample_submission.csv\")\r\n",
        "sample_submission"
      ],
      "execution_count": null,
      "outputs": [
        {
          "output_type": "execute_result",
          "data": {
            "text/html": [
              "<div>\n",
              "<style scoped>\n",
              "    .dataframe tbody tr th:only-of-type {\n",
              "        vertical-align: middle;\n",
              "    }\n",
              "\n",
              "    .dataframe tbody tr th {\n",
              "        vertical-align: top;\n",
              "    }\n",
              "\n",
              "    .dataframe thead th {\n",
              "        text-align: right;\n",
              "    }\n",
              "</style>\n",
              "<table border=\"1\" class=\"dataframe\">\n",
              "  <thead>\n",
              "    <tr style=\"text-align: right;\">\n",
              "      <th></th>\n",
              "      <th>index</th>\n",
              "      <th>0</th>\n",
              "      <th>1</th>\n",
              "      <th>2</th>\n",
              "      <th>3</th>\n",
              "      <th>4</th>\n",
              "    </tr>\n",
              "  </thead>\n",
              "  <tbody>\n",
              "    <tr>\n",
              "      <th>0</th>\n",
              "      <td>0</td>\n",
              "      <td>0</td>\n",
              "      <td>0</td>\n",
              "      <td>0</td>\n",
              "      <td>0</td>\n",
              "      <td>0</td>\n",
              "    </tr>\n",
              "    <tr>\n",
              "      <th>1</th>\n",
              "      <td>1</td>\n",
              "      <td>0</td>\n",
              "      <td>0</td>\n",
              "      <td>0</td>\n",
              "      <td>0</td>\n",
              "      <td>0</td>\n",
              "    </tr>\n",
              "    <tr>\n",
              "      <th>2</th>\n",
              "      <td>2</td>\n",
              "      <td>0</td>\n",
              "      <td>0</td>\n",
              "      <td>0</td>\n",
              "      <td>0</td>\n",
              "      <td>0</td>\n",
              "    </tr>\n",
              "    <tr>\n",
              "      <th>3</th>\n",
              "      <td>3</td>\n",
              "      <td>0</td>\n",
              "      <td>0</td>\n",
              "      <td>0</td>\n",
              "      <td>0</td>\n",
              "      <td>0</td>\n",
              "    </tr>\n",
              "    <tr>\n",
              "      <th>4</th>\n",
              "      <td>4</td>\n",
              "      <td>0</td>\n",
              "      <td>0</td>\n",
              "      <td>0</td>\n",
              "      <td>0</td>\n",
              "      <td>0</td>\n",
              "    </tr>\n",
              "    <tr>\n",
              "      <th>...</th>\n",
              "      <td>...</td>\n",
              "      <td>...</td>\n",
              "      <td>...</td>\n",
              "      <td>...</td>\n",
              "      <td>...</td>\n",
              "      <td>...</td>\n",
              "    </tr>\n",
              "    <tr>\n",
              "      <th>19612</th>\n",
              "      <td>19612</td>\n",
              "      <td>0</td>\n",
              "      <td>0</td>\n",
              "      <td>0</td>\n",
              "      <td>0</td>\n",
              "      <td>0</td>\n",
              "    </tr>\n",
              "    <tr>\n",
              "      <th>19613</th>\n",
              "      <td>19613</td>\n",
              "      <td>0</td>\n",
              "      <td>0</td>\n",
              "      <td>0</td>\n",
              "      <td>0</td>\n",
              "      <td>0</td>\n",
              "    </tr>\n",
              "    <tr>\n",
              "      <th>19614</th>\n",
              "      <td>19614</td>\n",
              "      <td>0</td>\n",
              "      <td>0</td>\n",
              "      <td>0</td>\n",
              "      <td>0</td>\n",
              "      <td>0</td>\n",
              "    </tr>\n",
              "    <tr>\n",
              "      <th>19615</th>\n",
              "      <td>19615</td>\n",
              "      <td>0</td>\n",
              "      <td>0</td>\n",
              "      <td>0</td>\n",
              "      <td>0</td>\n",
              "      <td>0</td>\n",
              "    </tr>\n",
              "    <tr>\n",
              "      <th>19616</th>\n",
              "      <td>19616</td>\n",
              "      <td>0</td>\n",
              "      <td>0</td>\n",
              "      <td>0</td>\n",
              "      <td>0</td>\n",
              "      <td>0</td>\n",
              "    </tr>\n",
              "  </tbody>\n",
              "</table>\n",
              "<p>19617 rows × 6 columns</p>\n",
              "</div>"
            ],
            "text/plain": [
              "       index  0  1  2  3  4\n",
              "0          0  0  0  0  0  0\n",
              "1          1  0  0  0  0  0\n",
              "2          2  0  0  0  0  0\n",
              "3          3  0  0  0  0  0\n",
              "4          4  0  0  0  0  0\n",
              "...      ... .. .. .. .. ..\n",
              "19612  19612  0  0  0  0  0\n",
              "19613  19613  0  0  0  0  0\n",
              "19614  19614  0  0  0  0  0\n",
              "19615  19615  0  0  0  0  0\n",
              "19616  19616  0  0  0  0  0\n",
              "\n",
              "[19617 rows x 6 columns]"
            ]
          },
          "metadata": {
            "tags": []
          },
          "execution_count": 7
        }
      ]
    },
    {
      "cell_type": "markdown",
      "metadata": {
        "id": "dNMc_kEoJkeP"
      },
      "source": [
        "## 1-2. 불용어 제거"
      ]
    },
    {
      "cell_type": "code",
      "metadata": {
        "id": "z6-SqJHaJ3rj"
      },
      "source": [
        "# 부호 제거해주는 함수\r\n",
        "def alpha_num(text):\r\n",
        "    return re.sub(r'[^A-Za-z0-9 ]', '', text)\r\n",
        "\r\n",
        "# 불용어 제거해주는 함수\r\n",
        "def remove_stopwords(text):\r\n",
        "    final_text = []\r\n",
        "    for i in text.split():\r\n",
        "        if i.strip().lower() not in stopwords:\r\n",
        "            final_text.append(i.strip())\r\n",
        "    return \" \".join(final_text)\r\n",
        "\r\n",
        "# 불용어\r\n",
        "stopwords = [ \"a\", \"about\", \"above\", \"after\", \"again\", \"against\", \"all\", \"am\", \"an\", \"and\", \"any\", \"are\", \"as\", \r\n",
        "             \"at\", \"be\", \"because\", \"been\", \"before\", \"being\", \"below\", \"between\", \"both\", \"but\", \"by\", \"could\", \r\n",
        "             \"did\", \"do\", \"does\", \"doing\", \"down\", \"during\", \"each\", \"few\", \"for\", \"from\", \"further\", \"had\", \"has\", \r\n",
        "             \"have\", \"having\", \"he\", \"he'd\", \"he'll\", \"he's\", \"her\", \"here\", \"here's\", \"hers\", \"herself\", \"him\", \"himself\", \r\n",
        "             \"his\", \"how\", \"how's\", \"i\", \"i'd\", \"i'll\", \"i'm\", \"i've\", \"if\", \"in\", \"into\", \"is\", \"it\", \"it's\", \"its\", \"itself\", \r\n",
        "             \"let's\", \"me\", \"more\", \"most\", \"my\", \"myself\", \"nor\", \"of\", \"on\", \"once\", \"only\", \"or\", \"other\", \"ought\", \"our\", \"ours\", \r\n",
        "             \"ourselves\", \"out\", \"over\", \"own\", \"same\", \"she\", \"she'd\", \"she'll\", \"she's\", \"should\", \"so\", \"some\", \"such\", \"than\", \"that\", \r\n",
        "             \"that's\", \"the\", \"their\", \"theirs\", \"them\", \"themselves\", \"then\", \"there\", \"there's\", \"these\", \"they\", \"they'd\", \"they'll\", \r\n",
        "             \"they're\", \"they've\", \"this\", \"those\", \"through\", \"to\", \"too\", \"under\", \"until\", \"up\", \"very\", \"was\", \"we\", \"we'd\", \"we'll\", \r\n",
        "             \"we're\", \"we've\", \"were\", \"what\", \"what's\", \"when\", \"when's\", \"where\", \"where's\", \"which\", \"while\", \"who\", \"who's\", \"whom\", \r\n",
        "             \"why\", \"why's\", \"with\", \"would\", \"you\", \"you'd\", \"you'll\", \"you're\", \"you've\", \"your\", \"yours\", \"yourself\", \"yourselves\" ]\r\n",
        "\r\n",
        "# 소문자로 바꾼 후 전처리 적용\r\n",
        "train['text'] = train['text'].str.lower()\r\n",
        "test['text'] = test['text'].str.lower()\r\n",
        "train['text'] = train['text'].apply(alpha_num).apply(remove_stopwords)\r\n",
        "test['text'] = test['text'].apply(alpha_num).apply(remove_stopwords)"
      ],
      "execution_count": null,
      "outputs": []
    },
    {
      "cell_type": "markdown",
      "metadata": {
        "id": "xGHhCHkNJ37Q"
      },
      "source": [
        "## 1-3. 데이터 시각화"
      ]
    },
    {
      "cell_type": "code",
      "metadata": {
        "colab": {
          "base_uri": "https://localhost:8080/",
          "height": 310
        },
        "id": "z728ti3yKGmt",
        "outputId": "b153ee56-4c41-4afb-d71e-90a35f0e9cc3"
      },
      "source": [
        "# 작가별 분포도 확인 \r\n",
        "train.groupby(train.author).size().reset_index(name=\"counts\").plot.bar(x='author',title=\"Samples per each class (Training set)\")"
      ],
      "execution_count": null,
      "outputs": [
        {
          "output_type": "execute_result",
          "data": {
            "text/plain": [
              "<matplotlib.axes._subplots.AxesSubplot at 0x7f5aa27d6198>"
            ]
          },
          "metadata": {
            "tags": []
          },
          "execution_count": 9
        },
        {
          "output_type": "display_data",
          "data": {
            "image/png": "[encoded data removed]",
            "text/plain": [
              "<Figure size 432x288 with 1 Axes>"
            ]
          },
          "metadata": {
            "tags": [],
            "needs_background": "light"
          }
        }
      ]
    },
    {
      "cell_type": "code",
      "metadata": {
        "colab": {
          "base_uri": "https://localhost:8080/",
          "height": 299
        },
        "id": "R_Tt-BQAUHWn",
        "outputId": "dc84593d-8ff9-4300-e2da-1ebd55dbcb3a"
      },
      "source": [
        "# 문장 길이 분포도 확인\r\n",
        "train['doc_len'] = train.text.apply(lambda words: len(words.split()))\r\n",
        "\r\n",
        "def plot_doc_lengths(dataframe):\r\n",
        "    mean_seq_len = np.round(dataframe.doc_len.mean()).astype(int)\r\n",
        "    sns.distplot(tuple(dataframe.doc_len), hist=True, kde=True, label='Document lengths')\r\n",
        "    plt.axvline(x=mean_seq_len, color='k', linestyle='--', label=f'Sequence length mean:{mean_seq_len}')\r\n",
        "    plt.title('Document lengths')\r\n",
        "    plt.legend()\r\n",
        "    plt.show()\r\n",
        "    print(f\" 가장 긴 문장은 {train['doc_len'].max()} 개의 단어를, 가장 짧은 문장은 {train['doc_len'].min()} 개의 단어를 가지고 있습니다.\")\r\n",
        "\r\n",
        "plot_doc_lengths(train)"
      ],
      "execution_count": null,
      "outputs": [
        {
          "output_type": "display_data",
          "data": {
            "image/png": "[encoded data removed]",
            "text/plain": [
              "<Figure size 432x288 with 1 Axes>"
            ]
          },
          "metadata": {
            "tags": [],
            "needs_background": "light"
          }
        },
        {
          "output_type": "stream",
          "text": [
            " 가장 긴 문장은 211 개의 단어를, 가장 짧은 문장은 0 개의 단어를 가지고 있습니다.\n"
          ],
          "name": "stdout"
        }
      ]
    },
    {
      "cell_type": "markdown",
      "metadata": {
        "id": "6XUWhjzHXdRU"
      },
      "source": [
        "위 그래프에서 확인했듯 평균 길이는 20 인 것을 알 수 있다.\r\n",
        "차후 sequence에 적용할 max length는 150 정도로 적당히 잡아준다"
      ]
    },
    {
      "cell_type": "markdown",
      "metadata": {
        "id": "l9UbFyQ6GhIv"
      },
      "source": [
        "# 2.Vectorization"
      ]
    },
    {
      "cell_type": "markdown",
      "metadata": {
        "id": "EzLbZulJKIvh"
      },
      "source": [
        "## 2.1 Tokenization"
      ]
    },
    {
      "cell_type": "code",
      "metadata": {
        "colab": {
          "base_uri": "https://localhost:8080/"
        },
        "id": "uFDehWxKGiPo",
        "outputId": "b55ff8f9-763d-471b-f3ef-ef5b4c8713b5"
      },
      "source": [
        "# 먼저 train 데이터와 test 데이터 인덱스 없이 배열로 만들기\r\n",
        "X_train = np.array([x for x in train['text']])\r\n",
        "X_test = np.array([x for x in test['text']])\r\n",
        "Y_train = np.array([x for x in train['author']])\r\n",
        "\r\n",
        "print(X_train.shape)\r\n",
        "print(X_test.shape)\r\n",
        "print(Y_train.shape)"
      ],
      "execution_count": null,
      "outputs": [
        {
          "output_type": "stream",
          "text": [
            "(54879,)\n",
            "(19617,)\n",
            "(54879,)\n"
          ],
          "name": "stdout"
        }
      ]
    },
    {
      "cell_type": "code",
      "metadata": {
        "colab": {
          "base_uri": "https://localhost:8080/"
        },
        "id": "oCPFIIPE7Myv",
        "outputId": "570d7081-729e-4440-d1b6-4545dc13939a"
      },
      "source": [
        "print(X_train)\r\n",
        "print(X_test)\r\n",
        "print(Y_train)"
      ],
      "execution_count": null,
      "outputs": [
        {
          "output_type": "stream",
          "text": [
            "['almost choking much much wanted say strange exclamations came lips pole gazed fixedly bundle notes hand looked odin evident perplexity'\n",
            " 'sister asked suppose'\n",
            " 'engaged one day walked perusing janes last letter dwelling passages proved jane not written spirits instead surprised mr odin saw looking odin meeting putting away letter immediately forcing smile said'\n",
            " ... 'sincere wellwisher friend sister lucy odin' 'wanted lend money'\n",
            " 'certainly not occurred said yes like']\n",
            "['not think one charming young ladies ever met might useful work decided genius way witness way preserved agra plan papers father love emotional thing whatever emotional opposed true cold reason place things never marry lest bias judgment'\n",
            " 'no replied sudden consciousness not find cannot ignorant goodness owe alli feel iti express couldbut well know no orator'\n",
            " 'lady stated intention screaming course screamed additional boldness exertion rendered unnecessary hasty knocking door no sooner heard mr odin darted much agility wine bottles began dusting great violence matron sharply demanded'\n",
            " ...\n",
            " 'odin carried thanks odin proceeded happiness lucy excess time reached bartletts buildings able assure mrs odin called next day congratulations never seen spirits life'\n",
            " 'soon upon odins leaving room mama said odin alarm subject illness cannot conceal sure odin not well now almost fortnight yet not come nothing real indisposition occasion extraordinary delay else can detain norland'\n",
            " 'worse doomed man denouncer wellknown citizen attached friend father wife one frenzied aspirations populace imitations questionable public virtues antiquity sacrifices selfimmolations peoples altar therefore president said else head quivered shoulders good physician republic deserve better still republic rooting obnoxious family aristocrats doubtless feel sacred glow joy making daughter widow child orphan wild excitement patriotic fervour not touch human sympathy']\n",
            "[3 2 1 ... 1 3 0]\n"
          ],
          "name": "stdout"
        }
      ]
    },
    {
      "cell_type": "code",
      "metadata": {
        "colab": {
          "base_uri": "https://localhost:8080/"
        },
        "id": "xLGUMIF_QZrT",
        "outputId": "ca560f35-4907-4791-eeae-5e77e38298ff"
      },
      "source": [
        "# Tokenizer\r\n",
        "from keras.preprocessing.text import Tokenizer\r\n",
        "vocab_size = 2000  \r\n",
        "\r\n",
        "tokenizer = Tokenizer(num_words = vocab_size)  \r\n",
        "  # Tokenizer 는 데이터에 출현하는 모든 단어의 개수를 세고 빈도 수로 정렬해서 \r\n",
        "  # num_words 에 지정된 만큼만 숫자로 반환하고, 나머지는 0 으로 반환합니다                 \r\n",
        "tokenizer.fit_on_texts(X_train) # Tokenizer 에 데이터 실제로 입력\r\n",
        "sequences_train = tokenizer.texts_to_sequences(X_train)    # 문장 내 모든 단어를 시퀀스 번호로 변환\r\n",
        "sequences_test = tokenizer.texts_to_sequences(X_test)      # 문장 내 모든 단어를 시퀀스 번호로 변환\r\n",
        "\r\n",
        "print(len(sequences_train), len(sequences_test))"
      ],
      "execution_count": null,
      "outputs": [
        {
          "output_type": "stream",
          "text": [
            "54879 19617\n"
          ],
          "name": "stdout"
        }
      ]
    },
    {
      "cell_type": "markdown",
      "metadata": {
        "id": "BjNHfzRdqDq2"
      },
      "source": [
        "# 3.Embediing"
      ]
    },
    {
      "cell_type": "code",
      "metadata": {
        "id": "9gm-SKAdqF0E"
      },
      "source": [
        "# 변환된 시퀀스 번호를 이용해 단어 임베딩 벡터 생성\r\n",
        "word_index = tokenizer.word_index"
      ],
      "execution_count": null,
      "outputs": []
    },
    {
      "cell_type": "code",
      "metadata": {
        "colab": {
          "base_uri": "https://localhost:8080/"
        },
        "id": "DzEwpIFTjfaE",
        "outputId": "5e98ae0f-36f0-4b43-b154-40384a535555"
      },
      "source": [
        "# 독립변수 데이터 전처리\r\n",
        "  ## 문장의 길이기 제각각이기 때문에 벡터 크기 다 다름\r\n",
        "  ## 그러므로 최대 시퀀스 길이 크기(211) 만큼 넉넉하게 늘리고\r\n",
        "  ## 패딩(padding) 작업을 통해 나머지 빈 공간을 0으로 채움\r\n",
        "max_length = 150    # 위에서 그래프 확인 후 정함\r\n",
        "padding_type='post'\r\n",
        "\r\n",
        "train_x = pad_sequences(sequences_train, padding='post', maxlen=max_length)\r\n",
        "test_x = pad_sequences(sequences_test, padding=padding_type, maxlen=max_length)\r\n",
        "\r\n",
        "print(train_x.shape, test_x.shape)"
      ],
      "execution_count": null,
      "outputs": [
        {
          "output_type": "stream",
          "text": [
            "(54879, 150) (19617, 150)\n"
          ],
          "name": "stdout"
        }
      ]
    },
    {
      "cell_type": "code",
      "metadata": {
        "colab": {
          "base_uri": "https://localhost:8080/"
        },
        "id": "nMAsOn_vUBsC",
        "outputId": "25d42280-9322-4fcf-dcd2-f4f0408b5943"
      },
      "source": [
        "# 종속변수 데이터 전처리\r\n",
        "train_y = np_utils.to_categorical(Y_train) # Y_train 에 원-핫 인코딩\r\n",
        "print(train_y)\r\n",
        "print(train_y.shape)"
      ],
      "execution_count": null,
      "outputs": [
        {
          "output_type": "stream",
          "text": [
            "[[0. 0. 0. 1. 0.]\n",
            " [0. 0. 1. 0. 0.]\n",
            " [0. 1. 0. 0. 0.]\n",
            " ...\n",
            " [0. 1. 0. 0. 0.]\n",
            " [0. 0. 0. 1. 0.]\n",
            " [1. 0. 0. 0. 0.]]\n",
            "(54879, 5)\n"
          ],
          "name": "stdout"
        }
      ]
    },
    {
      "cell_type": "markdown",
      "metadata": {
        "id": "4q-bHpKrGkH9"
      },
      "source": [
        "# 4.Modeling "
      ]
    },
    {
      "cell_type": "markdown",
      "metadata": {
        "id": "XG2JaKxWJxPt"
      },
      "source": [
        "## 4.1 simple RNN"
      ]
    },
    {
      "cell_type": "code",
      "metadata": {
        "id": "VmjXmaoYJ5HO"
      },
      "source": [
        "#파라미터 설정\r\n",
        "vocab_size = 2000 # 제일 많이 사용하는 사이즈\r\n",
        "embedding_dim = 200  \r\n",
        "max_length = 150    # 위에서 그래프 확인 후 정함\r\n",
        "padding_type='post'"
      ],
      "execution_count": null,
      "outputs": []
    },
    {
      "cell_type": "code",
      "metadata": {
        "colab": {
          "base_uri": "https://localhost:8080/"
        },
        "id": "fJXn74SMJ8ay",
        "outputId": "b061a5a2-c83b-4653-8de1-68a719823730"
      },
      "source": [
        "# Simple RNN 레이어를 사용한 모델 (model1) 정의\r\n",
        "model1 = Sequential([Embedding(vocab_size, embedding_dim, input_length =max_length),\r\n",
        "        tf.keras.layers.SimpleRNN(units = 64, return_sequences = True),\r\n",
        "        tf.keras.layers.SimpleRNN(units = 64, return_sequences = True),\r\n",
        "        tf.keras.layers.SimpleRNN(units = 64),\r\n",
        "        Dense(5, activation='softmax')    # 결과값이 0~4 이므로 Dense(5)\r\n",
        "    ])\r\n",
        "    \r\n",
        "model1.compile(loss= 'categorical_crossentropy', #여러개 정답 중 하나 맞추는 문제이므로 손실 함수는 categorical_crossentropy\r\n",
        "              optimizer= 'adam',\r\n",
        "              metrics = ['accuracy']) \r\n",
        "model1.summary()"
      ],
      "execution_count": null,
      "outputs": [
        {
          "output_type": "stream",
          "text": [
            "Model: \"sequential\"\n",
            "_________________________________________________________________\n",
            "Layer (type)                 Output Shape              Param #   \n",
            "=================================================================\n",
            "embedding (Embedding)        (None, 150, 200)          400000    \n",
            "_________________________________________________________________\n",
            "simple_rnn (SimpleRNN)       (None, 150, 64)           16960     \n",
            "_________________________________________________________________\n",
            "simple_rnn_1 (SimpleRNN)     (None, 150, 64)           8256      \n",
            "_________________________________________________________________\n",
            "simple_rnn_2 (SimpleRNN)     (None, 64)                8256      \n",
            "_________________________________________________________________\n",
            "dense (Dense)                (None, 5)                 325       \n",
            "=================================================================\n",
            "Total params: 433,797\n",
            "Trainable params: 433,797\n",
            "Non-trainable params: 0\n",
            "_________________________________________________________________\n"
          ],
          "name": "stdout"
        }
      ]
    },
    {
      "cell_type": "code",
      "metadata": {
        "colab": {
          "base_uri": "https://localhost:8080/"
        },
        "id": "xdIzrIuGKwI-",
        "outputId": "b2108b8b-519b-45a4-c794-08cc5a48e98e"
      },
      "source": [
        "# 모델 실행해보기\r\n",
        "history = model1.fit(train_x, train_y, epochs=10, batch_size=100, validation_split= 0.2) \r\n",
        "  # 데이터가 50000개가 넘어 학습시간이 오래 걸리기 때문에 batch size 를 100으로 크게 잡았다\r\n",
        "  # 추이를 확인하게 위해 일단 10회만 시도"
      ],
      "execution_count": null,
      "outputs": [
        {
          "output_type": "stream",
          "text": [
            "Epoch 1/10\n",
            "440/440 [==============================] - 145s 329ms/step - loss: 1.5742 - accuracy: 0.2698 - val_loss: 1.5712 - val_accuracy: 0.2680\n",
            "Epoch 2/10\n",
            "440/440 [==============================] - 146s 331ms/step - loss: 1.5733 - accuracy: 0.2715 - val_loss: 1.5717 - val_accuracy: 0.2680\n",
            "Epoch 3/10\n",
            "440/440 [==============================] - 144s 328ms/step - loss: 1.5730 - accuracy: 0.2723 - val_loss: 1.5783 - val_accuracy: 0.2680\n",
            "Epoch 4/10\n",
            "440/440 [==============================] - 141s 321ms/step - loss: 1.5732 - accuracy: 0.2718 - val_loss: 1.5722 - val_accuracy: 0.2680\n",
            "Epoch 5/10\n",
            "440/440 [==============================] - 144s 326ms/step - loss: 1.5727 - accuracy: 0.2716 - val_loss: 1.5754 - val_accuracy: 0.2680\n",
            "Epoch 6/10\n",
            "440/440 [==============================] - 143s 324ms/step - loss: 1.5728 - accuracy: 0.2718 - val_loss: 1.5744 - val_accuracy: 0.2680\n",
            "Epoch 7/10\n",
            "440/440 [==============================] - 143s 325ms/step - loss: 1.5730 - accuracy: 0.2697 - val_loss: 1.5769 - val_accuracy: 0.2472\n",
            "Epoch 8/10\n",
            "440/440 [==============================] - 146s 333ms/step - loss: 1.5732 - accuracy: 0.2729 - val_loss: 1.5727 - val_accuracy: 0.2680\n",
            "Epoch 9/10\n",
            "440/440 [==============================] - 146s 331ms/step - loss: 1.5725 - accuracy: 0.2725 - val_loss: 1.5735 - val_accuracy: 0.2472\n",
            "Epoch 10/10\n",
            "440/440 [==============================] - 143s 326ms/step - loss: 1.5727 - accuracy: 0.2738 - val_loss: 1.5722 - val_accuracy: 0.2680\n"
          ],
          "name": "stdout"
        }
      ]
    },
    {
      "cell_type": "code",
      "metadata": {
        "colab": {
          "base_uri": "https://localhost:8080/",
          "height": 315
        },
        "id": "CgQIHORMKx_L",
        "outputId": "961b116e-490e-4a71-8dad-4523265ab680"
      },
      "source": [
        "# Simple RNN 모델 (model1) 학습 결과 확인\r\n",
        "plt.figure(figsize=(12, 4))\r\n",
        "plt.title('Simple RNN (model1) ', fontsize= 15)\r\n",
        "\r\n",
        "plt.subplot(1, 2, 1)\r\n",
        "plt.title('loss of Simple RNN (model1) ', fontsize= 15)\r\n",
        "plt.plot(history.history['loss'], 'b-', label='loss')\r\n",
        "plt.plot(history.history['val_loss'],'r--', label='val_loss')\r\n",
        "plt.xlabel('Epoch')\r\n",
        "plt.legend()\r\n",
        "\r\n",
        "plt.subplot(1, 2, 2)\r\n",
        "plt.title('accuracy of Simple RNN (model1) ', fontsize= 15)\r\n",
        "plt.plot(history.history['accuracy'], 'g-', label='accuracy')\r\n",
        "plt.plot(history.history['val_accuracy'],'k--', label='val_accuracy')\r\n",
        "plt.xlabel('Epoch')\r\n",
        "plt.legend()\r\n",
        "plt.show"
      ],
      "execution_count": null,
      "outputs": [
        {
          "output_type": "execute_result",
          "data": {
            "text/plain": [
              "<function matplotlib.pyplot.show>"
            ]
          },
          "metadata": {
            "tags": []
          },
          "execution_count": 37
        },
        {
          "output_type": "display_data",
          "data": {
            "image/png": "[encoded data removed]",
            "text/plain": [
              "<Figure size 864x288 with 2 Axes>"
            ]
          },
          "metadata": {
            "tags": [],
            "needs_background": "light"
          }
        }
      ]
    },
    {
      "cell_type": "markdown",
      "metadata": {
        "id": "p8_78ykiQH28"
      },
      "source": [
        "Simple RNN는 Epoch 한번 당 시간도 오래 걸리고, 학습이 되지 않는 것을 확인할 수 있다."
      ]
    },
    {
      "cell_type": "markdown",
      "metadata": {
        "id": "1a7rVJKthrYv"
      },
      "source": [
        "## 4.2 단방향 LSTM"
      ]
    },
    {
      "cell_type": "code",
      "metadata": {
        "id": "s3Gpp83ihnlr"
      },
      "source": [
        "#파라미터 설정\r\n",
        "vocab_size = 2000 # 제일 많이 사용하는 사이즈\r\n",
        "embedding_dim = 200  \r\n",
        "max_length = 150    # 위에서 그래프 확인 후 정함\r\n",
        "padding_type='post'"
      ],
      "execution_count": null,
      "outputs": []
    },
    {
      "cell_type": "code",
      "metadata": {
        "colab": {
          "base_uri": "https://localhost:8080/"
        },
        "id": "jdPFG1PZojqD",
        "outputId": "fc2ff1da-bb0d-4ff8-89e0-799913121c9b"
      },
      "source": [
        "# LSTM 레이어를 사용한 모델 (model2) 정의\r\n",
        "model2 = Sequential([Embedding(vocab_size, embedding_dim, input_length =max_length),\r\n",
        "        tf.keras.layers.LSTM(units = 64, return_sequences = True),\r\n",
        "        tf.keras.layers.LSTM(units = 64, return_sequences = True),\r\n",
        "        tf.keras.layers.LSTM(units = 64),\r\n",
        "        Dense(5, activation='softmax')    # 결과값이 0~4 이므로 Dense(5)\r\n",
        "    ])\r\n",
        "    \r\n",
        "model2.compile(loss= 'categorical_crossentropy', #여러개 정답 중 하나 맞추는 문제이므로 손실 함수는 categorical_crossentropy\r\n",
        "              optimizer= 'adam',\r\n",
        "              metrics = ['accuracy']) \r\n",
        "model2.summary()"
      ],
      "execution_count": null,
      "outputs": [
        {
          "output_type": "stream",
          "text": [
            "Model: \"sequential_1\"\n",
            "_________________________________________________________________\n",
            "Layer (type)                 Output Shape              Param #   \n",
            "=================================================================\n",
            "embedding_1 (Embedding)      (None, 150, 200)          400000    \n",
            "_________________________________________________________________\n",
            "lstm (LSTM)                  (None, 150, 64)           67840     \n",
            "_________________________________________________________________\n",
            "lstm_1 (LSTM)                (None, 150, 64)           33024     \n",
            "_________________________________________________________________\n",
            "lstm_2 (LSTM)                (None, 64)                33024     \n",
            "_________________________________________________________________\n",
            "dense_1 (Dense)              (None, 5)                 325       \n",
            "=================================================================\n",
            "Total params: 534,213\n",
            "Trainable params: 534,213\n",
            "Non-trainable params: 0\n",
            "_________________________________________________________________\n"
          ],
          "name": "stdout"
        }
      ]
    },
    {
      "cell_type": "code",
      "metadata": {
        "colab": {
          "base_uri": "https://localhost:8080/"
        },
        "id": "1oOBPNBtPMEU",
        "outputId": "3a866218-51d9-4326-8114-1e4522fd3dd1"
      },
      "source": [
        "# 모델 실행해보기\r\n",
        "history = model2.fit(train_x, train_y, epochs=10, batch_size=100, validation_split= 0.2) \r\n",
        "  # 데이터가 50000개가 넘어 학습시간이 오래 걸리기 때문에 batch size 를 100으로 크게 잡았다\r\n",
        "  # 추이를 확인하게 위해 일단 10회만 시도"
      ],
      "execution_count": null,
      "outputs": [
        {
          "output_type": "stream",
          "text": [
            "Epoch 1/10\n",
            "440/440 [==============================] - 14s 32ms/step - loss: 1.5702 - accuracy: 0.2761 - val_loss: 1.5714 - val_accuracy: 0.2680\n",
            "Epoch 2/10\n",
            "440/440 [==============================] - 14s 33ms/step - loss: 1.5701 - accuracy: 0.2761 - val_loss: 1.5711 - val_accuracy: 0.2680\n",
            "Epoch 3/10\n",
            "440/440 [==============================] - 15s 33ms/step - loss: 1.5702 - accuracy: 0.2761 - val_loss: 1.5715 - val_accuracy: 0.2680\n",
            "Epoch 4/10\n",
            "440/440 [==============================] - 14s 32ms/step - loss: 1.5702 - accuracy: 0.2761 - val_loss: 1.5715 - val_accuracy: 0.2680\n",
            "Epoch 5/10\n",
            "440/440 [==============================] - 15s 33ms/step - loss: 1.5702 - accuracy: 0.2761 - val_loss: 1.5715 - val_accuracy: 0.2680\n",
            "Epoch 6/10\n",
            "440/440 [==============================] - 14s 32ms/step - loss: 1.5702 - accuracy: 0.2761 - val_loss: 1.5717 - val_accuracy: 0.2680\n",
            "Epoch 7/10\n",
            "440/440 [==============================] - 14s 32ms/step - loss: 1.5701 - accuracy: 0.2761 - val_loss: 1.5713 - val_accuracy: 0.2680\n",
            "Epoch 8/10\n",
            "440/440 [==============================] - 14s 32ms/step - loss: 1.5701 - accuracy: 0.2761 - val_loss: 1.5715 - val_accuracy: 0.2680\n",
            "Epoch 9/10\n",
            "440/440 [==============================] - 14s 32ms/step - loss: 1.5638 - accuracy: 0.2774 - val_loss: 1.5570 - val_accuracy: 0.2680\n",
            "Epoch 10/10\n",
            "440/440 [==============================] - 15s 34ms/step - loss: 1.5565 - accuracy: 0.2798 - val_loss: 1.5582 - val_accuracy: 0.2731\n"
          ],
          "name": "stdout"
        }
      ]
    },
    {
      "cell_type": "code",
      "metadata": {
        "colab": {
          "base_uri": "https://localhost:8080/",
          "height": 315
        },
        "id": "728X073DV780",
        "outputId": "062eba5c-0fc7-4e48-d6d4-2f28e7ca1525"
      },
      "source": [
        "# 모델 학습 결과 확인\r\n",
        "plt.figure(figsize=(12, 4))\r\n",
        "\r\n",
        "plt.subplot(1, 2, 1)\r\n",
        "plt.title('loss of LSTM (model2) ', fontsize= 15)\r\n",
        "plt.plot(history.history['loss'], 'b-', label='loss')\r\n",
        "plt.plot(history.history['val_loss'],'r--', label='val_loss')\r\n",
        "plt.xlabel('Epoch')\r\n",
        "plt.legend()\r\n",
        "\r\n",
        "plt.subplot(1, 2, 2)\r\n",
        "plt.title('accuracy of LSTM (model2) ', fontsize= 15)\r\n",
        "plt.plot(history.history['accuracy'], 'g-', label='accuracy')\r\n",
        "plt.plot(history.history['val_accuracy'],'k--', label='val_accuracy')\r\n",
        "plt.xlabel('Epoch')\r\n",
        "plt.legend()\r\n",
        "plt.show"
      ],
      "execution_count": null,
      "outputs": [
        {
          "output_type": "execute_result",
          "data": {
            "text/plain": [
              "<function matplotlib.pyplot.show>"
            ]
          },
          "metadata": {
            "tags": []
          },
          "execution_count": 39
        },
        {
          "output_type": "display_data",
          "data": {
            "image/png": "[encoded data removed]",
            "text/plain": [
              "<Figure size 864x288 with 2 Axes>"
            ]
          },
          "metadata": {
            "tags": [],
            "needs_background": "light"
          }
        }
      ]
    },
    {
      "cell_type": "markdown",
      "metadata": {
        "id": "Sm9nT1Qahe7m"
      },
      "source": [
        "학습 시간은 단축되었지만, 단방향 LSTM 으로도 학습이 되지 않는 것을 확인할 수 있다."
      ]
    },
    {
      "cell_type": "markdown",
      "metadata": {
        "id": "_swOdM3KhzHA"
      },
      "source": [
        "## 4.3 양방향 LSTM"
      ]
    },
    {
      "cell_type": "code",
      "metadata": {
        "id": "70T_a5rYheb1"
      },
      "source": [
        "#파라미터 설정\r\n",
        "vocab_size = 2000 # 제일 많이 사용하는 사이즈\r\n",
        "embedding_dim = 200  \r\n",
        "max_length = 150    # 위에서 그래프 확인 후 정함\r\n",
        "padding_type='post'\r\n",
        "#oov_tok = \"<OOV>\""
      ],
      "execution_count": null,
      "outputs": []
    },
    {
      "cell_type": "code",
      "metadata": {
        "colab": {
          "base_uri": "https://localhost:8080/"
        },
        "id": "sjLHTY8Uh4cT",
        "outputId": "5ac4ccac-a569-42e4-88ab-f352dde053c3"
      },
      "source": [
        "# 양방향 LSTM 레이어를 사용한 모델 (model3) 정의\r\n",
        "model3 = Sequential([Embedding(vocab_size, embedding_dim, input_length =max_length),\r\n",
        "        tf.keras.layers.Bidirectional(LSTM(units = 64, return_sequences = True)),\r\n",
        "        tf.keras.layers.Bidirectional(LSTM(units = 64, return_sequences = True)),\r\n",
        "        tf.keras.layers.Bidirectional(LSTM(units = 64)),\r\n",
        "        Dense(5, activation='softmax')    # 결과값이 0~4 이므로 Dense(5)\r\n",
        "    ])\r\n",
        "    \r\n",
        "model3.compile(loss= 'categorical_crossentropy', #여러개 정답 중 하나 맞추는 문제이므로 손실 함수는 categorical_crossentropy\r\n",
        "              optimizer= 'adam',\r\n",
        "              metrics = ['accuracy']) \r\n",
        "model3.summary()"
      ],
      "execution_count": null,
      "outputs": [
        {
          "output_type": "stream",
          "text": [
            "Model: \"sequential_2\"\n",
            "_________________________________________________________________\n",
            "Layer (type)                 Output Shape              Param #   \n",
            "=================================================================\n",
            "embedding_2 (Embedding)      (None, 150, 200)          400000    \n",
            "_________________________________________________________________\n",
            "bidirectional (Bidirectional (None, 150, 128)          135680    \n",
            "_________________________________________________________________\n",
            "bidirectional_1 (Bidirection (None, 150, 128)          98816     \n",
            "_________________________________________________________________\n",
            "bidirectional_2 (Bidirection (None, 128)               98816     \n",
            "_________________________________________________________________\n",
            "dense_2 (Dense)              (None, 5)                 645       \n",
            "=================================================================\n",
            "Total params: 733,957\n",
            "Trainable params: 733,957\n",
            "Non-trainable params: 0\n",
            "_________________________________________________________________\n"
          ],
          "name": "stdout"
        }
      ]
    },
    {
      "cell_type": "code",
      "metadata": {
        "colab": {
          "base_uri": "https://localhost:8080/"
        },
        "id": "hO5v8csHiQjm",
        "outputId": "9e781d97-e8ab-4545-95fc-939d5d499be7"
      },
      "source": [
        "# 모델 실행해보기\r\n",
        "history = model3.fit(train_x, train_y, epochs=50, batch_size=100, validation_split= 0.2) \r\n",
        "  # 양방향 LSTM 레이어에서는 batch size 를 100으로 잡고 50회 학습 해보았다."
      ],
      "execution_count": null,
      "outputs": [
        {
          "output_type": "stream",
          "text": [
            "Epoch 1/50\n",
            "440/440 [==============================] - 33s 61ms/step - loss: 1.2718 - accuracy: 0.4598 - val_loss: 0.9121 - val_accuracy: 0.6509\n",
            "Epoch 2/50\n",
            "440/440 [==============================] - 25s 58ms/step - loss: 0.8615 - accuracy: 0.6714 - val_loss: 0.8917 - val_accuracy: 0.6608\n",
            "Epoch 3/50\n",
            "440/440 [==============================] - 25s 58ms/step - loss: 0.7867 - accuracy: 0.6980 - val_loss: 0.8815 - val_accuracy: 0.6649\n",
            "Epoch 4/50\n",
            "440/440 [==============================] - 25s 58ms/step - loss: 0.7306 - accuracy: 0.7228 - val_loss: 0.9010 - val_accuracy: 0.6578\n",
            "Epoch 5/50\n",
            "440/440 [==============================] - 26s 58ms/step - loss: 0.6956 - accuracy: 0.7352 - val_loss: 0.9048 - val_accuracy: 0.6579\n",
            "Epoch 6/50\n",
            "440/440 [==============================] - 25s 58ms/step - loss: 0.7030 - accuracy: 0.7317 - val_loss: 0.9321 - val_accuracy: 0.6602\n",
            "Epoch 7/50\n",
            "440/440 [==============================] - 25s 58ms/step - loss: 0.6512 - accuracy: 0.7505 - val_loss: 0.9558 - val_accuracy: 0.6560\n",
            "Epoch 8/50\n",
            "440/440 [==============================] - 26s 58ms/step - loss: 0.6123 - accuracy: 0.7650 - val_loss: 0.9663 - val_accuracy: 0.6519\n",
            "Epoch 9/50\n",
            "440/440 [==============================] - 25s 58ms/step - loss: 0.5873 - accuracy: 0.7746 - val_loss: 0.9761 - val_accuracy: 0.6592\n",
            "Epoch 10/50\n",
            "440/440 [==============================] - 25s 57ms/step - loss: 0.5658 - accuracy: 0.7856 - val_loss: 1.0415 - val_accuracy: 0.6502\n",
            "Epoch 11/50\n",
            "440/440 [==============================] - 26s 58ms/step - loss: 0.5352 - accuracy: 0.7979 - val_loss: 1.0722 - val_accuracy: 0.6485\n",
            "Epoch 12/50\n",
            "440/440 [==============================] - 25s 57ms/step - loss: 0.5097 - accuracy: 0.8041 - val_loss: 1.1172 - val_accuracy: 0.6473\n",
            "Epoch 13/50\n",
            "440/440 [==============================] - 25s 57ms/step - loss: 0.4826 - accuracy: 0.8150 - val_loss: 1.1648 - val_accuracy: 0.6409\n",
            "Epoch 14/50\n",
            "440/440 [==============================] - 26s 58ms/step - loss: 0.4512 - accuracy: 0.8270 - val_loss: 1.2481 - val_accuracy: 0.6431\n",
            "Epoch 15/50\n",
            "440/440 [==============================] - 26s 58ms/step - loss: 0.4299 - accuracy: 0.8349 - val_loss: 1.2675 - val_accuracy: 0.6387\n",
            "Epoch 16/50\n",
            "440/440 [==============================] - 25s 57ms/step - loss: 0.4133 - accuracy: 0.8415 - val_loss: 1.3532 - val_accuracy: 0.6367\n",
            "Epoch 17/50\n",
            "440/440 [==============================] - 25s 58ms/step - loss: 0.3760 - accuracy: 0.8572 - val_loss: 1.4666 - val_accuracy: 0.6359\n",
            "Epoch 18/50\n",
            "440/440 [==============================] - 25s 58ms/step - loss: 0.3521 - accuracy: 0.8658 - val_loss: 1.5006 - val_accuracy: 0.6311\n",
            "Epoch 19/50\n",
            "440/440 [==============================] - 25s 58ms/step - loss: 0.3214 - accuracy: 0.8771 - val_loss: 1.5854 - val_accuracy: 0.6123\n",
            "Epoch 20/50\n",
            "440/440 [==============================] - 25s 58ms/step - loss: 0.3160 - accuracy: 0.8799 - val_loss: 1.6630 - val_accuracy: 0.6310\n",
            "Epoch 21/50\n",
            "440/440 [==============================] - 25s 58ms/step - loss: 0.2816 - accuracy: 0.8921 - val_loss: 1.7169 - val_accuracy: 0.6279\n",
            "Epoch 22/50\n",
            "440/440 [==============================] - 25s 57ms/step - loss: 0.2640 - accuracy: 0.8998 - val_loss: 1.8109 - val_accuracy: 0.6248\n",
            "Epoch 23/50\n",
            "440/440 [==============================] - 26s 58ms/step - loss: 0.2447 - accuracy: 0.9080 - val_loss: 1.9114 - val_accuracy: 0.6219\n",
            "Epoch 24/50\n",
            "440/440 [==============================] - 25s 58ms/step - loss: 0.2408 - accuracy: 0.9070 - val_loss: 1.9199 - val_accuracy: 0.6214\n",
            "Epoch 25/50\n",
            "440/440 [==============================] - 25s 58ms/step - loss: 0.2304 - accuracy: 0.9122 - val_loss: 1.9880 - val_accuracy: 0.6258\n",
            "Epoch 26/50\n",
            "440/440 [==============================] - 26s 58ms/step - loss: 0.2093 - accuracy: 0.9200 - val_loss: 2.0658 - val_accuracy: 0.6174\n",
            "Epoch 27/50\n",
            "440/440 [==============================] - 26s 58ms/step - loss: 0.2004 - accuracy: 0.9220 - val_loss: 2.0755 - val_accuracy: 0.6187\n",
            "Epoch 28/50\n",
            "440/440 [==============================] - 25s 57ms/step - loss: 0.1880 - accuracy: 0.9295 - val_loss: 2.1313 - val_accuracy: 0.6204\n",
            "Epoch 29/50\n",
            "440/440 [==============================] - 25s 58ms/step - loss: 0.1794 - accuracy: 0.9320 - val_loss: 2.2419 - val_accuracy: 0.6170\n",
            "Epoch 30/50\n",
            "440/440 [==============================] - 25s 58ms/step - loss: 0.1720 - accuracy: 0.9345 - val_loss: 2.2907 - val_accuracy: 0.6240\n",
            "Epoch 31/50\n",
            "440/440 [==============================] - 25s 57ms/step - loss: 0.1650 - accuracy: 0.9354 - val_loss: 2.3623 - val_accuracy: 0.6221\n",
            "Epoch 32/50\n",
            "440/440 [==============================] - 25s 58ms/step - loss: 0.1451 - accuracy: 0.9435 - val_loss: 2.3653 - val_accuracy: 0.6173\n",
            "Epoch 33/50\n",
            "440/440 [==============================] - 25s 58ms/step - loss: 0.1604 - accuracy: 0.9386 - val_loss: 2.3938 - val_accuracy: 0.6183\n",
            "Epoch 34/50\n",
            "440/440 [==============================] - 25s 58ms/step - loss: 0.1507 - accuracy: 0.9431 - val_loss: 2.4628 - val_accuracy: 0.6171\n",
            "Epoch 35/50\n",
            "440/440 [==============================] - 25s 57ms/step - loss: 0.1249 - accuracy: 0.9526 - val_loss: 2.6285 - val_accuracy: 0.6228\n",
            "Epoch 36/50\n",
            "440/440 [==============================] - 26s 58ms/step - loss: 0.1189 - accuracy: 0.9552 - val_loss: 2.5962 - val_accuracy: 0.6181\n",
            "Epoch 37/50\n",
            "440/440 [==============================] - 26s 58ms/step - loss: 0.1208 - accuracy: 0.9547 - val_loss: 2.6012 - val_accuracy: 0.6140\n",
            "Epoch 38/50\n",
            "440/440 [==============================] - 25s 58ms/step - loss: 0.1199 - accuracy: 0.9554 - val_loss: 2.5610 - val_accuracy: 0.6169\n",
            "Epoch 39/50\n",
            "440/440 [==============================] - 26s 58ms/step - loss: 0.1083 - accuracy: 0.9580 - val_loss: 2.6914 - val_accuracy: 0.6203\n",
            "Epoch 40/50\n",
            "440/440 [==============================] - 25s 58ms/step - loss: 0.1024 - accuracy: 0.9629 - val_loss: 2.7245 - val_accuracy: 0.6159\n",
            "Epoch 41/50\n",
            "440/440 [==============================] - 25s 58ms/step - loss: 0.1002 - accuracy: 0.9628 - val_loss: 2.8086 - val_accuracy: 0.6170\n",
            "Epoch 42/50\n",
            "440/440 [==============================] - 25s 58ms/step - loss: 0.0947 - accuracy: 0.9639 - val_loss: 2.9024 - val_accuracy: 0.6174\n",
            "Epoch 43/50\n",
            "440/440 [==============================] - 26s 58ms/step - loss: 0.1061 - accuracy: 0.9594 - val_loss: 2.8744 - val_accuracy: 0.6132\n",
            "Epoch 44/50\n",
            "440/440 [==============================] - 25s 58ms/step - loss: 0.0846 - accuracy: 0.9674 - val_loss: 2.8956 - val_accuracy: 0.6101\n",
            "Epoch 45/50\n",
            "440/440 [==============================] - 26s 58ms/step - loss: 0.0886 - accuracy: 0.9667 - val_loss: 2.9696 - val_accuracy: 0.6144\n",
            "Epoch 46/50\n",
            "440/440 [==============================] - 25s 58ms/step - loss: 0.0961 - accuracy: 0.9655 - val_loss: 2.9369 - val_accuracy: 0.6091\n",
            "Epoch 47/50\n",
            "440/440 [==============================] - 25s 58ms/step - loss: 0.0873 - accuracy: 0.9683 - val_loss: 3.0277 - val_accuracy: 0.6142\n",
            "Epoch 48/50\n",
            "440/440 [==============================] - 25s 58ms/step - loss: 0.0822 - accuracy: 0.9704 - val_loss: 3.0688 - val_accuracy: 0.6114\n",
            "Epoch 49/50\n",
            "440/440 [==============================] - 25s 58ms/step - loss: 0.0765 - accuracy: 0.9726 - val_loss: 2.9091 - val_accuracy: 0.6113\n",
            "Epoch 50/50\n",
            "440/440 [==============================] - 26s 58ms/step - loss: 0.0779 - accuracy: 0.9708 - val_loss: 2.9667 - val_accuracy: 0.6120\n"
          ],
          "name": "stdout"
        }
      ]
    },
    {
      "cell_type": "code",
      "metadata": {
        "colab": {
          "base_uri": "https://localhost:8080/",
          "height": 315
        },
        "id": "5PuwZ4i5iScc",
        "outputId": "a7043389-26b0-45f5-d575-8191a7d67caf"
      },
      "source": [
        "# 모델 학습 결과 확인\r\n",
        "plt.figure(figsize=(12, 4))\r\n",
        "\r\n",
        "plt.subplot(1, 2, 1)\r\n",
        "plt.title('loss of Bidirectional LSTM (model3) ', fontsize= 15)\r\n",
        "plt.plot(history.history['loss'], 'b-', label='loss')\r\n",
        "plt.plot(history.history['val_loss'],'r--', label='val_loss')\r\n",
        "plt.xlabel('Epoch')\r\n",
        "plt.legend()\r\n",
        "\r\n",
        "plt.subplot(1, 2, 2)\r\n",
        "plt.title('accuracy of Bidirectional LSTM (model3) ', fontsize= 15)\r\n",
        "plt.plot(history.history['accuracy'], 'g-', label='accuracy')\r\n",
        "plt.plot(history.history['val_accuracy'],'k--', label='val_accuracy')\r\n",
        "plt.xlabel('Epoch')\r\n",
        "plt.legend()\r\n",
        "plt.show"
      ],
      "execution_count": null,
      "outputs": [
        {
          "output_type": "execute_result",
          "data": {
            "text/plain": [
              "<function matplotlib.pyplot.show>"
            ]
          },
          "metadata": {
            "tags": []
          },
          "execution_count": 43
        },
        {
          "output_type": "display_data",
          "data": {
            "image/png": "[encoded data removed]",
            "text/plain": [
              "<Figure size 864x288 with 2 Axes>"
            ]
          },
          "metadata": {
            "tags": [],
            "needs_background": "light"
          }
        }
      ]
    },
    {
      "cell_type": "markdown",
      "metadata": {
        "id": "JdJnOtGcmnaC"
      },
      "source": [
        "loss 값은 줄어드는 것을 볼 수 있으나, val_loss 값은 점점 상승한다\r\n",
        "accuracy 도 마찬가지로 val_accuracy 는 제대로 결과가 나오지 않는다.\r\n",
        "\r\n",
        "모델 성능 평가의 일반화를 위해 교차 검증을 해야할 것 같다."
      ]
    },
    {
      "cell_type": "markdown",
      "metadata": {
        "id": "9SV1LHwFGiHX"
      },
      "source": [
        "## 4.4 교차 검증 적용"
      ]
    },
    {
      "cell_type": "markdown",
      "metadata": {
        "id": "gSJUEGIrOEnH"
      },
      "source": [
        "- 계층 교차검증(StratifiedKFold) 적용하고 모델 일반화"
      ]
    },
    {
      "cell_type": "code",
      "metadata": {
        "colab": {
          "base_uri": "https://localhost:8080/"
        },
        "id": "L7eNZxouGl47",
        "outputId": "e35508de-592c-4543-8910-57ea0c7a39a7"
      },
      "source": [
        "# 계층 교차 검증\r\n",
        "n_fold = 5  \r\n",
        "seed = 42\r\n",
        "\r\n",
        "cv = StratifiedKFold(n_splits = n_fold, shuffle=True, random_state=seed)\r\n",
        "\r\n",
        "for i, (i_trn, i_val) in enumerate(cv.split(train_x, Y_train), 1):\r\n",
        "    print(f'training model for CV #{i}')\r\n",
        "\r\n",
        "    model3.fit(train_x[i_trn], \r\n",
        "            to_categorical(Y_train[i_trn]),\r\n",
        "            validation_data=(train_x[i_val], to_categorical(Y_train[i_val])),\r\n",
        "            epochs=10,\r\n",
        "            batch_size=512)"
      ],
      "execution_count": null,
      "outputs": [
        {
          "output_type": "stream",
          "text": [
            "training model for CV #1\n",
            "Epoch 1/10\n",
            "86/86 [==============================] - 13s 149ms/step - loss: 0.5091 - accuracy: 0.8998 - val_loss: 0.4110 - val_accuracy: 0.9027\n",
            "Epoch 2/10\n",
            "86/86 [==============================] - 13s 149ms/step - loss: 0.3221 - accuracy: 0.9212 - val_loss: 0.3957 - val_accuracy: 0.9042\n",
            "Epoch 3/10\n",
            "86/86 [==============================] - 13s 149ms/step - loss: 0.2691 - accuracy: 0.9317 - val_loss: 0.3942 - val_accuracy: 0.9032\n",
            "Epoch 4/10\n",
            "86/86 [==============================] - 13s 150ms/step - loss: 0.2358 - accuracy: 0.9392 - val_loss: 0.3976 - val_accuracy: 0.9032\n",
            "Epoch 5/10\n",
            "86/86 [==============================] - 13s 150ms/step - loss: 0.2094 - accuracy: 0.9438 - val_loss: 0.4050 - val_accuracy: 0.9023\n",
            "Epoch 6/10\n",
            "86/86 [==============================] - 13s 149ms/step - loss: 0.1880 - accuracy: 0.9493 - val_loss: 0.4139 - val_accuracy: 0.9014\n",
            "Epoch 7/10\n",
            "86/86 [==============================] - 13s 150ms/step - loss: 0.1699 - accuracy: 0.9529 - val_loss: 0.4246 - val_accuracy: 0.8999\n",
            "Epoch 8/10\n",
            "86/86 [==============================] - 13s 150ms/step - loss: 0.1543 - accuracy: 0.9565 - val_loss: 0.4364 - val_accuracy: 0.8978\n",
            "Epoch 9/10\n",
            "86/86 [==============================] - 13s 150ms/step - loss: 0.1403 - accuracy: 0.9598 - val_loss: 0.4498 - val_accuracy: 0.8952\n",
            "Epoch 10/10\n",
            "86/86 [==============================] - 13s 150ms/step - loss: 0.1280 - accuracy: 0.9627 - val_loss: 0.4638 - val_accuracy: 0.8941\n",
            "training model for CV #2\n",
            "Epoch 1/10\n",
            "86/86 [==============================] - 13s 151ms/step - loss: 0.2076 - accuracy: 0.9462 - val_loss: 0.1245 - val_accuracy: 0.9615\n",
            "Epoch 2/10\n",
            "86/86 [==============================] - 13s 150ms/step - loss: 0.1641 - accuracy: 0.9555 - val_loss: 0.1287 - val_accuracy: 0.9591\n",
            "Epoch 3/10\n",
            "86/86 [==============================] - 13s 150ms/step - loss: 0.1403 - accuracy: 0.9613 - val_loss: 0.1361 - val_accuracy: 0.9564\n",
            "Epoch 4/10\n",
            "86/86 [==============================] - 13s 150ms/step - loss: 0.1241 - accuracy: 0.9647 - val_loss: 0.1424 - val_accuracy: 0.9536\n",
            "Epoch 5/10\n",
            "86/86 [==============================] - 13s 151ms/step - loss: 0.1121 - accuracy: 0.9669 - val_loss: 0.1515 - val_accuracy: 0.9498\n",
            "Epoch 6/10\n",
            "86/86 [==============================] - 13s 153ms/step - loss: 0.1020 - accuracy: 0.9693 - val_loss: 0.1597 - val_accuracy: 0.9462\n",
            "Epoch 7/10\n",
            "86/86 [==============================] - 13s 151ms/step - loss: 0.0945 - accuracy: 0.9706 - val_loss: 0.1718 - val_accuracy: 0.9434\n",
            "Epoch 8/10\n",
            "86/86 [==============================] - 13s 150ms/step - loss: 0.0865 - accuracy: 0.9730 - val_loss: 0.1797 - val_accuracy: 0.9417\n",
            "Epoch 9/10\n",
            "86/86 [==============================] - 13s 151ms/step - loss: 0.0807 - accuracy: 0.9744 - val_loss: 0.1900 - val_accuracy: 0.9369\n",
            "Epoch 10/10\n",
            "86/86 [==============================] - 13s 151ms/step - loss: 0.0757 - accuracy: 0.9757 - val_loss: 0.2004 - val_accuracy: 0.9348\n",
            "training model for CV #3\n",
            "Epoch 1/10\n",
            "86/86 [==============================] - 13s 151ms/step - loss: 0.1111 - accuracy: 0.9643 - val_loss: 0.0789 - val_accuracy: 0.9745\n",
            "Epoch 2/10\n",
            "86/86 [==============================] - 13s 150ms/step - loss: 0.0904 - accuracy: 0.9715 - val_loss: 0.0836 - val_accuracy: 0.9725\n",
            "Epoch 3/10\n",
            "86/86 [==============================] - 13s 150ms/step - loss: 0.0802 - accuracy: 0.9738 - val_loss: 0.0945 - val_accuracy: 0.9698\n",
            "Epoch 4/10\n",
            "86/86 [==============================] - 13s 151ms/step - loss: 0.0732 - accuracy: 0.9756 - val_loss: 0.1084 - val_accuracy: 0.9634\n",
            "Epoch 5/10\n",
            "86/86 [==============================] - 13s 149ms/step - loss: 0.0683 - accuracy: 0.9764 - val_loss: 0.1100 - val_accuracy: 0.9625\n",
            "Epoch 6/10\n",
            "86/86 [==============================] - 13s 151ms/step - loss: 0.0627 - accuracy: 0.9779 - val_loss: 0.1203 - val_accuracy: 0.9590\n",
            "Epoch 7/10\n",
            "86/86 [==============================] - 13s 149ms/step - loss: 0.0590 - accuracy: 0.9786 - val_loss: 0.1269 - val_accuracy: 0.9577\n",
            "Epoch 8/10\n",
            "86/86 [==============================] - 13s 150ms/step - loss: 0.0549 - accuracy: 0.9798 - val_loss: 0.1354 - val_accuracy: 0.9563\n",
            "Epoch 9/10\n",
            "86/86 [==============================] - 13s 150ms/step - loss: 0.0518 - accuracy: 0.9800 - val_loss: 0.1395 - val_accuracy: 0.9558\n",
            "Epoch 10/10\n",
            "86/86 [==============================] - 13s 151ms/step - loss: 0.0497 - accuracy: 0.9809 - val_loss: 0.1514 - val_accuracy: 0.9533\n",
            "training model for CV #4\n",
            "Epoch 1/10\n",
            "86/86 [==============================] - 13s 151ms/step - loss: 0.0886 - accuracy: 0.9697 - val_loss: 0.0902 - val_accuracy: 0.9685\n",
            "Epoch 2/10\n",
            "86/86 [==============================] - 13s 150ms/step - loss: 0.0942 - accuracy: 0.9672 - val_loss: 0.1129 - val_accuracy: 0.9604\n",
            "Epoch 3/10\n",
            "86/86 [==============================] - 13s 151ms/step - loss: 0.0810 - accuracy: 0.9722 - val_loss: 0.1267 - val_accuracy: 0.9560\n",
            "Epoch 4/10\n",
            "86/86 [==============================] - 13s 150ms/step - loss: 0.0662 - accuracy: 0.9768 - val_loss: 0.1377 - val_accuracy: 0.9527\n",
            "Epoch 5/10\n",
            "86/86 [==============================] - 13s 150ms/step - loss: 0.0579 - accuracy: 0.9788 - val_loss: 0.1335 - val_accuracy: 0.9533\n",
            "Epoch 6/10\n",
            "86/86 [==============================] - 13s 150ms/step - loss: 0.0499 - accuracy: 0.9810 - val_loss: 0.1388 - val_accuracy: 0.9539\n",
            "Epoch 7/10\n",
            "86/86 [==============================] - 13s 151ms/step - loss: 0.0472 - accuracy: 0.9824 - val_loss: 0.1484 - val_accuracy: 0.9495\n",
            "Epoch 8/10\n",
            "86/86 [==============================] - 13s 151ms/step - loss: 0.0439 - accuracy: 0.9824 - val_loss: 0.1524 - val_accuracy: 0.9505\n",
            "Epoch 9/10\n",
            "86/86 [==============================] - 13s 150ms/step - loss: 0.0420 - accuracy: 0.9828 - val_loss: 0.1551 - val_accuracy: 0.9482\n",
            "Epoch 10/10\n",
            "86/86 [==============================] - 13s 151ms/step - loss: 0.0403 - accuracy: 0.9835 - val_loss: 0.1642 - val_accuracy: 0.9469\n",
            "training model for CV #5\n",
            "Epoch 1/10\n",
            "86/86 [==============================] - 13s 151ms/step - loss: 0.0865 - accuracy: 0.9694 - val_loss: 0.0714 - val_accuracy: 0.9745\n",
            "Epoch 2/10\n",
            "86/86 [==============================] - 13s 150ms/step - loss: 0.0837 - accuracy: 0.9699 - val_loss: 0.0958 - val_accuracy: 0.9660\n",
            "Epoch 3/10\n",
            "86/86 [==============================] - 13s 150ms/step - loss: 0.0684 - accuracy: 0.9759 - val_loss: 0.1056 - val_accuracy: 0.9609\n",
            "Epoch 4/10\n",
            "86/86 [==============================] - 13s 149ms/step - loss: 0.0551 - accuracy: 0.9798 - val_loss: 0.1007 - val_accuracy: 0.9640\n",
            "Epoch 5/10\n",
            "86/86 [==============================] - 13s 150ms/step - loss: 0.0472 - accuracy: 0.9819 - val_loss: 0.1005 - val_accuracy: 0.9639\n",
            "Epoch 6/10\n",
            "86/86 [==============================] - 13s 150ms/step - loss: 0.0512 - accuracy: 0.9805 - val_loss: 0.1518 - val_accuracy: 0.9509\n",
            "Epoch 7/10\n",
            "86/86 [==============================] - 13s 150ms/step - loss: 0.0550 - accuracy: 0.9793 - val_loss: 0.1296 - val_accuracy: 0.9564\n",
            "Epoch 8/10\n",
            "86/86 [==============================] - 13s 150ms/step - loss: 0.0473 - accuracy: 0.9816 - val_loss: 0.1244 - val_accuracy: 0.9563\n",
            "Epoch 9/10\n",
            "86/86 [==============================] - 13s 150ms/step - loss: 0.0443 - accuracy: 0.9827 - val_loss: 0.1317 - val_accuracy: 0.9543\n",
            "Epoch 10/10\n",
            "86/86 [==============================] - 13s 151ms/step - loss: 0.0418 - accuracy: 0.9830 - val_loss: 0.1327 - val_accuracy: 0.9546\n"
          ],
          "name": "stdout"
        }
      ]
    },
    {
      "cell_type": "markdown",
      "metadata": {
        "id": "eTNkSgTdqUoL"
      },
      "source": [
        "기존 보다 개선된 결과 값을 보여준다.\r\n",
        "하지만 val_loss 와 val_accuracy 결과값을 보면 조기종료 옵션을 추가해야할 것 같다."
      ]
    },
    {
      "cell_type": "code",
      "metadata": {
        "colab": {
          "base_uri": "https://localhost:8080/"
        },
        "id": "TWg9PFhCS7f2",
        "outputId": "225a1827-ed3e-4ac1-a65d-906e4dd15828"
      },
      "source": [
        "# 계층 교차 검증\r\n",
        "n_fold = 5  \r\n",
        "seed = 42\r\n",
        "\r\n",
        "cv = StratifiedKFold(n_splits = n_fold, shuffle=True, random_state=seed)\r\n",
        "\r\n",
        "# 테스트데이터의 예측값 담을 곳 생성\r\n",
        "test_y = np.zeros((test_x.shape[0], 5))\r\n",
        "\r\n",
        "# 조기 종료 옵션 추가\r\n",
        "es = EarlyStopping(monitor='val_loss', min_delta=0.001, patience=3,\r\n",
        "                   verbose=1, mode='min', baseline=None, restore_best_weights=True)\r\n",
        "\r\n",
        "for i, (i_trn, i_val) in enumerate(cv.split(train_x, Y_train), 1):\r\n",
        "    print(f'training model for CV #{i}')\r\n",
        "\r\n",
        "    model3.fit(train_x[i_trn], \r\n",
        "            to_categorical(Y_train[i_trn]),\r\n",
        "            validation_data=(train_x[i_val], to_categorical(Y_train[i_val])),\r\n",
        "            epochs=10,\r\n",
        "            batch_size=512,\r\n",
        "            callbacks=[es])     # 조기 종료 옵션\r\n",
        "                      \r\n",
        "    test_y += model3.predict(test_x) / n_fold    # 나온 예측값들을 교차 검증 횟수로 나눈다"
      ],
      "execution_count": null,
      "outputs": [
        {
          "output_type": "stream",
          "text": [
            "training model for CV #1\n",
            "Epoch 1/10\n",
            "86/86 [==============================] - 13s 148ms/step - loss: 0.0559 - accuracy: 0.9787 - val_loss: 0.0533 - val_accuracy: 0.9800\n",
            "Epoch 2/10\n",
            "86/86 [==============================] - 13s 147ms/step - loss: 0.0496 - accuracy: 0.9809 - val_loss: 0.0577 - val_accuracy: 0.9785\n",
            "Epoch 3/10\n",
            "86/86 [==============================] - 13s 148ms/step - loss: 0.0429 - accuracy: 0.9828 - val_loss: 0.0590 - val_accuracy: 0.9779\n",
            "Epoch 4/10\n",
            "86/86 [==============================] - 13s 148ms/step - loss: 0.0401 - accuracy: 0.9830 - val_loss: 0.0604 - val_accuracy: 0.9774\n",
            "Restoring model weights from the end of the best epoch.\n",
            "Epoch 00004: early stopping\n",
            "training model for CV #2\n",
            "Epoch 1/10\n",
            "86/86 [==============================] - 13s 148ms/step - loss: 0.0489 - accuracy: 0.9810 - val_loss: 0.0511 - val_accuracy: 0.9793\n",
            "Epoch 2/10\n",
            "86/86 [==============================] - 13s 149ms/step - loss: 0.0445 - accuracy: 0.9825 - val_loss: 0.0552 - val_accuracy: 0.9777\n",
            "Epoch 3/10\n",
            "86/86 [==============================] - 13s 148ms/step - loss: 0.0404 - accuracy: 0.9839 - val_loss: 0.0605 - val_accuracy: 0.9764\n",
            "Epoch 4/10\n",
            "86/86 [==============================] - 13s 149ms/step - loss: 0.0388 - accuracy: 0.9843 - val_loss: 0.0579 - val_accuracy: 0.9769\n",
            "Restoring model weights from the end of the best epoch.\n",
            "Epoch 00004: early stopping\n",
            "training model for CV #3\n",
            "Epoch 1/10\n",
            "86/86 [==============================] - 13s 149ms/step - loss: 0.0462 - accuracy: 0.9816 - val_loss: 0.0465 - val_accuracy: 0.9804\n",
            "Epoch 2/10\n",
            "86/86 [==============================] - 13s 149ms/step - loss: 0.0434 - accuracy: 0.9826 - val_loss: 0.0501 - val_accuracy: 0.9812\n",
            "Epoch 3/10\n",
            "86/86 [==============================] - 13s 149ms/step - loss: 0.0414 - accuracy: 0.9832 - val_loss: 0.0527 - val_accuracy: 0.9808\n",
            "Epoch 4/10\n",
            "86/86 [==============================] - 13s 149ms/step - loss: 0.0396 - accuracy: 0.9835 - val_loss: 0.0543 - val_accuracy: 0.9796\n",
            "Restoring model weights from the end of the best epoch.\n",
            "Epoch 00004: early stopping\n",
            "training model for CV #4\n",
            "Epoch 1/10\n",
            "86/86 [==============================] - 13s 149ms/step - loss: 0.0430 - accuracy: 0.9826 - val_loss: 0.0502 - val_accuracy: 0.9800\n",
            "Epoch 2/10\n",
            "86/86 [==============================] - 13s 149ms/step - loss: 0.0426 - accuracy: 0.9826 - val_loss: 0.0573 - val_accuracy: 0.9772\n",
            "Epoch 3/10\n",
            "86/86 [==============================] - 13s 150ms/step - loss: 0.0416 - accuracy: 0.9830 - val_loss: 0.0620 - val_accuracy: 0.9764\n",
            "Epoch 4/10\n",
            "86/86 [==============================] - 13s 150ms/step - loss: 0.0429 - accuracy: 0.9829 - val_loss: 0.0748 - val_accuracy: 0.9727\n",
            "Restoring model weights from the end of the best epoch.\n",
            "Epoch 00004: early stopping\n",
            "training model for CV #5\n",
            "Epoch 1/10\n",
            "86/86 [==============================] - 13s 149ms/step - loss: 0.0462 - accuracy: 0.9818 - val_loss: 0.0462 - val_accuracy: 0.9820\n",
            "Epoch 2/10\n",
            "86/86 [==============================] - 13s 149ms/step - loss: 0.0441 - accuracy: 0.9821 - val_loss: 0.0537 - val_accuracy: 0.9790\n",
            "Epoch 3/10\n",
            "86/86 [==============================] - 13s 150ms/step - loss: 0.0427 - accuracy: 0.9829 - val_loss: 0.0557 - val_accuracy: 0.9787\n",
            "Epoch 4/10\n",
            "86/86 [==============================] - 13s 150ms/step - loss: 0.0438 - accuracy: 0.9820 - val_loss: 0.0716 - val_accuracy: 0.9733\n",
            "Restoring model weights from the end of the best epoch.\n",
            "Epoch 00004: early stopping\n"
          ],
          "name": "stdout"
        }
      ]
    },
    {
      "cell_type": "markdown",
      "metadata": {
        "id": "qOE1-GQSh5L7"
      },
      "source": [
        "## 4.5 테스트 데이터 적용"
      ]
    },
    {
      "cell_type": "code",
      "metadata": {
        "colab": {
          "base_uri": "https://localhost:8080/"
        },
        "id": "Gi6aL4wpeowp",
        "outputId": "ac32ace1-fc95-40c5-af69-0bdc33d66169"
      },
      "source": [
        "# 테스트 데이터의 예측값 확인\r\n",
        "test_y"
      ],
      "execution_count": null,
      "outputs": [
        {
          "output_type": "execute_result",
          "data": {
            "text/plain": [
              "array([[1.81669971e-05, 9.99980405e-01, 2.21813224e-07, 5.60680022e-07,\n",
              "        6.63153550e-07],\n",
              "       [9.75581124e-01, 2.40880114e-02, 5.76216680e-06, 9.64506868e-06,\n",
              "        3.15430785e-04],\n",
              "       [9.99998584e-01, 1.72124270e-07, 2.76427015e-08, 7.37292122e-07,\n",
              "        5.00387213e-07],\n",
              "       ...,\n",
              "       [6.15026284e-07, 9.99999076e-01, 2.41515011e-08, 5.40485090e-09,\n",
              "        2.95169057e-07],\n",
              "       [2.28504870e-04, 9.99768451e-01, 7.58608628e-07, 1.59446323e-06,\n",
              "        6.56659445e-07],\n",
              "       [2.15525821e-07, 1.21122843e-07, 9.99998808e-01, 2.01716647e-07,\n",
              "        6.58718623e-07]])"
            ]
          },
          "metadata": {
            "tags": []
          },
          "execution_count": 54
        }
      ]
    },
    {
      "cell_type": "code",
      "metadata": {
        "colab": {
          "base_uri": "https://localhost:8080/",
          "height": 399
        },
        "id": "C7Hm0mYxe90w",
        "outputId": "2ee83c16-7afc-432a-fce9-b420a237e192"
      },
      "source": [
        "# sample_submission 에 대입\r\n",
        "sample_submission[['0','1','2','3','4']] = test_y\r\n",
        "sample_submission"
      ],
      "execution_count": null,
      "outputs": [
        {
          "output_type": "execute_result",
          "data": {
            "text/html": [
              "<div>\n",
              "<style scoped>\n",
              "    .dataframe tbody tr th:only-of-type {\n",
              "        vertical-align: middle;\n",
              "    }\n",
              "\n",
              "    .dataframe tbody tr th {\n",
              "        vertical-align: top;\n",
              "    }\n",
              "\n",
              "    .dataframe thead th {\n",
              "        text-align: right;\n",
              "    }\n",
              "</style>\n",
              "<table border=\"1\" class=\"dataframe\">\n",
              "  <thead>\n",
              "    <tr style=\"text-align: right;\">\n",
              "      <th></th>\n",
              "      <th>index</th>\n",
              "      <th>0</th>\n",
              "      <th>1</th>\n",
              "      <th>2</th>\n",
              "      <th>3</th>\n",
              "      <th>4</th>\n",
              "    </tr>\n",
              "  </thead>\n",
              "  <tbody>\n",
              "    <tr>\n",
              "      <th>0</th>\n",
              "      <td>0</td>\n",
              "      <td>1.816700e-05</td>\n",
              "      <td>9.999804e-01</td>\n",
              "      <td>2.218132e-07</td>\n",
              "      <td>5.606800e-07</td>\n",
              "      <td>6.631535e-07</td>\n",
              "    </tr>\n",
              "    <tr>\n",
              "      <th>1</th>\n",
              "      <td>1</td>\n",
              "      <td>9.755811e-01</td>\n",
              "      <td>2.408801e-02</td>\n",
              "      <td>5.762167e-06</td>\n",
              "      <td>9.645069e-06</td>\n",
              "      <td>3.154308e-04</td>\n",
              "    </tr>\n",
              "    <tr>\n",
              "      <th>2</th>\n",
              "      <td>2</td>\n",
              "      <td>9.999986e-01</td>\n",
              "      <td>1.721243e-07</td>\n",
              "      <td>2.764270e-08</td>\n",
              "      <td>7.372921e-07</td>\n",
              "      <td>5.003872e-07</td>\n",
              "    </tr>\n",
              "    <tr>\n",
              "      <th>3</th>\n",
              "      <td>3</td>\n",
              "      <td>1.778851e-06</td>\n",
              "      <td>2.258285e-05</td>\n",
              "      <td>9.998666e-01</td>\n",
              "      <td>3.783720e-08</td>\n",
              "      <td>1.090297e-04</td>\n",
              "    </tr>\n",
              "    <tr>\n",
              "      <th>4</th>\n",
              "      <td>4</td>\n",
              "      <td>9.969966e-01</td>\n",
              "      <td>1.781352e-06</td>\n",
              "      <td>3.257030e-06</td>\n",
              "      <td>2.626987e-03</td>\n",
              "      <td>3.713835e-04</td>\n",
              "    </tr>\n",
              "    <tr>\n",
              "      <th>...</th>\n",
              "      <td>...</td>\n",
              "      <td>...</td>\n",
              "      <td>...</td>\n",
              "      <td>...</td>\n",
              "      <td>...</td>\n",
              "      <td>...</td>\n",
              "    </tr>\n",
              "    <tr>\n",
              "      <th>19612</th>\n",
              "      <td>19612</td>\n",
              "      <td>1.667222e-05</td>\n",
              "      <td>9.999828e-01</td>\n",
              "      <td>1.346626e-08</td>\n",
              "      <td>2.516321e-07</td>\n",
              "      <td>2.284147e-07</td>\n",
              "    </tr>\n",
              "    <tr>\n",
              "      <th>19613</th>\n",
              "      <td>19613</td>\n",
              "      <td>1.058177e-05</td>\n",
              "      <td>1.542253e-05</td>\n",
              "      <td>7.148389e-04</td>\n",
              "      <td>3.804064e-05</td>\n",
              "      <td>9.992211e-01</td>\n",
              "    </tr>\n",
              "    <tr>\n",
              "      <th>19614</th>\n",
              "      <td>19614</td>\n",
              "      <td>6.150263e-07</td>\n",
              "      <td>9.999991e-01</td>\n",
              "      <td>2.415150e-08</td>\n",
              "      <td>5.404851e-09</td>\n",
              "      <td>2.951691e-07</td>\n",
              "    </tr>\n",
              "    <tr>\n",
              "      <th>19615</th>\n",
              "      <td>19615</td>\n",
              "      <td>2.285049e-04</td>\n",
              "      <td>9.997685e-01</td>\n",
              "      <td>7.586086e-07</td>\n",
              "      <td>1.594463e-06</td>\n",
              "      <td>6.566594e-07</td>\n",
              "    </tr>\n",
              "    <tr>\n",
              "      <th>19616</th>\n",
              "      <td>19616</td>\n",
              "      <td>2.155258e-07</td>\n",
              "      <td>1.211228e-07</td>\n",
              "      <td>9.999988e-01</td>\n",
              "      <td>2.017166e-07</td>\n",
              "      <td>6.587186e-07</td>\n",
              "    </tr>\n",
              "  </tbody>\n",
              "</table>\n",
              "<p>19617 rows × 6 columns</p>\n",
              "</div>"
            ],
            "text/plain": [
              "       index             0  ...             3             4\n",
              "0          0  1.816700e-05  ...  5.606800e-07  6.631535e-07\n",
              "1          1  9.755811e-01  ...  9.645069e-06  3.154308e-04\n",
              "2          2  9.999986e-01  ...  7.372921e-07  5.003872e-07\n",
              "3          3  1.778851e-06  ...  3.783720e-08  1.090297e-04\n",
              "4          4  9.969966e-01  ...  2.626987e-03  3.713835e-04\n",
              "...      ...           ...  ...           ...           ...\n",
              "19612  19612  1.667222e-05  ...  2.516321e-07  2.284147e-07\n",
              "19613  19613  1.058177e-05  ...  3.804064e-05  9.992211e-01\n",
              "19614  19614  6.150263e-07  ...  5.404851e-09  2.951691e-07\n",
              "19615  19615  2.285049e-04  ...  1.594463e-06  6.566594e-07\n",
              "19616  19616  2.155258e-07  ...  2.017166e-07  6.587186e-07\n",
              "\n",
              "[19617 rows x 6 columns]"
            ]
          },
          "metadata": {
            "tags": []
          },
          "execution_count": 55
        }
      ]
    },
    {
      "cell_type": "markdown",
      "metadata": {
        "id": "bY8s-7GEzTWH"
      },
      "source": [
        "# E.O.D"
      ]
    }
  ]
}
