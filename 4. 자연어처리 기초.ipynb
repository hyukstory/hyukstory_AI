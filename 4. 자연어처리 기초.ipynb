{
  "nbformat": 4,
  "nbformat_minor": 0,
  "metadata": {
    "colab": {
      "name": "자연어처리",
      "provenance": [],
      "collapsed_sections": [],
      "toc_visible": true,
      "include_colab_link": true
    },
    "kernelspec": {
      "name": "python3",
      "display_name": "Python 3"
    }
  },
  "cells": [
    {
      "cell_type": "markdown",
      "metadata": {
        "id": "view-in-github",
        "colab_type": "text"
      },
      "source": [
        "<a href=\"https://colab.research.google.com/github/hyukstory/hyukstory_AI/blob/main/%EC%9E%90%EC%97%B0%EC%96%B4%EC%B2%98%EB%A6%AC.ipynb\" target=\"_parent\"><img src=\"https://colab.research.google.com/assets/colab-badge.svg\" alt=\"Open In Colab\"/></a>"
      ]
    },
    {
      "cell_type": "markdown",
      "metadata": {
        "id": "VE1mPcu4OhZv"
      },
      "source": [
        "# koNLPy docs : \r\n",
        "https://konlpy-ko.readthedocs.io/ko/v0.4.3/"
      ]
    },
    {
      "cell_type": "code",
      "metadata": {
        "id": "DL1M9Tx1HX-O",
        "colab": {
          "base_uri": "https://localhost:8080/"
        },
        "outputId": "eac4d0f2-76ad-4d42-c262-cd87698d3df3"
      },
      "source": [
        "pip install konlpy"
      ],
      "execution_count": null,
      "outputs": [
        {
          "output_type": "stream",
          "text": [
            "Collecting konlpy\n",
            "\u001b[?25l  Downloading https://files.pythonhosted.org/packages/85/0e/f385566fec837c0b83f216b2da65db9997b35dd675e107752005b7d392b1/konlpy-0.5.2-py2.py3-none-any.whl (19.4MB)\n",
            "\u001b[K     |████████████████████████████████| 19.4MB 1.2MB/s \n",
            "\u001b[?25hRequirement already satisfied: numpy>=1.6 in /usr/local/lib/python3.6/dist-packages (from konlpy) (1.19.5)\n",
            "Collecting tweepy>=3.7.0\n",
            "  Downloading https://files.pythonhosted.org/packages/67/c3/6bed87f3b1e5ed2f34bd58bf7978e308c86e255193916be76e5a5ce5dfca/tweepy-3.10.0-py2.py3-none-any.whl\n",
            "Requirement already satisfied: lxml>=4.1.0 in /usr/local/lib/python3.6/dist-packages (from konlpy) (4.2.6)\n",
            "Collecting JPype1>=0.7.0\n",
            "\u001b[?25l  Downloading https://files.pythonhosted.org/packages/de/af/93f92b38ec1ff3091cd38982ed19cea2800fefb609b5801c41fc43c0781e/JPype1-1.2.1-cp36-cp36m-manylinux2010_x86_64.whl (457kB)\n",
            "\u001b[K     |████████████████████████████████| 460kB 35.7MB/s \n",
            "\u001b[?25hCollecting beautifulsoup4==4.6.0\n",
            "\u001b[?25l  Downloading https://files.pythonhosted.org/packages/9e/d4/10f46e5cfac773e22707237bfcd51bbffeaf0a576b0a847ec7ab15bd7ace/beautifulsoup4-4.6.0-py3-none-any.whl (86kB)\n",
            "\u001b[K     |████████████████████████████████| 92kB 10.5MB/s \n",
            "\u001b[?25hCollecting colorama\n",
            "  Downloading https://files.pythonhosted.org/packages/44/98/5b86278fbbf250d239ae0ecb724f8572af1c91f4a11edf4d36a206189440/colorama-0.4.4-py2.py3-none-any.whl\n",
            "Requirement already satisfied: requests-oauthlib>=0.7.0 in /usr/local/lib/python3.6/dist-packages (from tweepy>=3.7.0->konlpy) (1.3.0)\n",
            "Requirement already satisfied: six>=1.10.0 in /usr/local/lib/python3.6/dist-packages (from tweepy>=3.7.0->konlpy) (1.15.0)\n",
            "Requirement already satisfied: requests[socks]>=2.11.1 in /usr/local/lib/python3.6/dist-packages (from tweepy>=3.7.0->konlpy) (2.23.0)\n",
            "Requirement already satisfied: typing-extensions; python_version < \"3.8\" in /usr/local/lib/python3.6/dist-packages (from JPype1>=0.7.0->konlpy) (3.7.4.3)\n",
            "Requirement already satisfied: oauthlib>=3.0.0 in /usr/local/lib/python3.6/dist-packages (from requests-oauthlib>=0.7.0->tweepy>=3.7.0->konlpy) (3.1.0)\n",
            "Requirement already satisfied: idna<3,>=2.5 in /usr/local/lib/python3.6/dist-packages (from requests[socks]>=2.11.1->tweepy>=3.7.0->konlpy) (2.10)\n",
            "Requirement already satisfied: urllib3!=1.25.0,!=1.25.1,<1.26,>=1.21.1 in /usr/local/lib/python3.6/dist-packages (from requests[socks]>=2.11.1->tweepy>=3.7.0->konlpy) (1.24.3)\n",
            "Requirement already satisfied: certifi>=2017.4.17 in /usr/local/lib/python3.6/dist-packages (from requests[socks]>=2.11.1->tweepy>=3.7.0->konlpy) (2020.12.5)\n",
            "Requirement already satisfied: chardet<4,>=3.0.2 in /usr/local/lib/python3.6/dist-packages (from requests[socks]>=2.11.1->tweepy>=3.7.0->konlpy) (3.0.4)\n",
            "Requirement already satisfied: PySocks!=1.5.7,>=1.5.6; extra == \"socks\" in /usr/local/lib/python3.6/dist-packages (from requests[socks]>=2.11.1->tweepy>=3.7.0->konlpy) (1.7.1)\n",
            "Installing collected packages: tweepy, JPype1, beautifulsoup4, colorama, konlpy\n",
            "  Found existing installation: tweepy 3.6.0\n",
            "    Uninstalling tweepy-3.6.0:\n",
            "      Successfully uninstalled tweepy-3.6.0\n",
            "  Found existing installation: beautifulsoup4 4.6.3\n",
            "    Uninstalling beautifulsoup4-4.6.3:\n",
            "      Successfully uninstalled beautifulsoup4-4.6.3\n",
            "Successfully installed JPype1-1.2.1 beautifulsoup4-4.6.0 colorama-0.4.4 konlpy-0.5.2 tweepy-3.10.0\n"
          ],
          "name": "stdout"
        }
      ]
    },
    {
      "cell_type": "markdown",
      "metadata": {
        "id": "avZN8BKxOnpe"
      },
      "source": [
        "## 1.\"꼬꼬마\" 한국어 형태소 분석기\r\n",
        ": http://kkma.snu.ac.kr/\r\n",
        "- 분석 품질이 좋음\r\n",
        "- 지원하는 품사 태그가 가장 많음 : http://kkma.snu.ac.kr/documents/index.jsp?doc=postag"
      ]
    },
    {
      "cell_type": "code",
      "metadata": {
        "id": "vG9Xk77oG_ix"
      },
      "source": [
        "from konlpy.tag import Kkma"
      ],
      "execution_count": null,
      "outputs": []
    },
    {
      "cell_type": "code",
      "metadata": {
        "id": "1p6MaIIzIB_8"
      },
      "source": [
        "# 객체 생성\r\n",
        "Kkma = Kkma()\r\n",
        "text = \"인공지능 챗봇 이루다는 연애의 과학을 통해 학습했습니다.\""
      ],
      "execution_count": null,
      "outputs": []
    },
    {
      "cell_type": "code",
      "metadata": {
        "colab": {
          "base_uri": "https://localhost:8080/"
        },
        "id": "bw3Y6HrZIFq8",
        "outputId": "e65b5f11-ea31-4273-8557-dca133ac867f"
      },
      "source": [
        "# 형태소 추출\r\n",
        "morphs = Kkma.morphs(text)\r\n",
        "print(morphs)"
      ],
      "execution_count": null,
      "outputs": [
        {
          "output_type": "stream",
          "text": [
            "['인공지능', '챗봇', '이루', '달', '는', '연애', '의', '과학', '을', '통하', '어', '학습', '하', '었', '습니다', '.']\n"
          ],
          "name": "stdout"
        }
      ]
    },
    {
      "cell_type": "code",
      "metadata": {
        "colab": {
          "base_uri": "https://localhost:8080/"
        },
        "id": "0_QFaGO3M524",
        "outputId": "db14866e-d54f-404b-addf-148c954a5f84"
      },
      "source": [
        "# 형태소와 품사 태그 추출\r\n",
        "pos = Kkma.pos(text)\r\n",
        "print(pos)"
      ],
      "execution_count": null,
      "outputs": [
        {
          "output_type": "stream",
          "text": [
            "[('인공지능', 'NNG'), ('챗봇', 'UN'), ('이루', 'NNG'), ('달', 'VV'), ('는', 'ETD'), ('연애', 'NNG'), ('의', 'JKG'), ('과학', 'NNG'), ('을', 'JKO'), ('통하', 'VV'), ('어', 'ECS'), ('학습', 'NNG'), ('하', 'XSV'), ('었', 'EPT'), ('습니다', 'EFN'), ('.', 'SF')]\n"
          ],
          "name": "stdout"
        }
      ]
    },
    {
      "cell_type": "code",
      "metadata": {
        "colab": {
          "base_uri": "https://localhost:8080/"
        },
        "id": "rJNDBHbTM_-R",
        "outputId": "d3678666-4595-4c8e-e7f3-4e1c75ff9690"
      },
      "source": [
        "# 명사만 추출\r\n",
        "nouns = Kkma.nouns(text)\r\n",
        "print(nouns)"
      ],
      "execution_count": null,
      "outputs": [
        {
          "output_type": "stream",
          "text": [
            "['인공', '인공지능', '지능', '챗봇', '이루', '연애', '과학', '학습']\n"
          ],
          "name": "stdout"
        }
      ]
    },
    {
      "cell_type": "code",
      "metadata": {
        "colab": {
          "base_uri": "https://localhost:8080/"
        },
        "id": "_nD1cA0uNNeD",
        "outputId": "bd5c9123-c5ce-406a-e6ae-7890e4ad4d8c"
      },
      "source": [
        "# 문장 분리\r\n",
        "text2 = \"국내 코스피가 3000선을 돌파하였습니다. 이번 해는 정말 기대가 되네요!\"\r\n",
        "\r\n",
        "sentences = Kkma.sentences(text2)\r\n",
        "print(sentences)"
      ],
      "execution_count": null,
      "outputs": [
        {
          "output_type": "stream",
          "text": [
            "['국내 코스 피가 3000 선을 돌파하였습니다.', '이번 해는 정말 기대가 되네요!']\n"
          ],
          "name": "stdout"
        }
      ]
    },
    {
      "cell_type": "markdown",
      "metadata": {
        "id": "5SyMlaBAQU42"
      },
      "source": [
        "## 2.\"Komoran\" java 기반 한국어 형태소 분석기  \r\n",
        ": https://www.shineware.co.kr/products/komoran/#demo?utm_source=komoran-kr&utm_medium=Referral&utm_campaign=github-demo\r\n",
        "- 자소가 분리된 문장이나 오탈자에 강함\r\n",
        "- 사용자 사전 관리 용이"
      ]
    },
    {
      "cell_type": "code",
      "metadata": {
        "id": "Nhzp2OnkO7u5"
      },
      "source": [
        "from konlpy.tag import Komoran"
      ],
      "execution_count": null,
      "outputs": []
    },
    {
      "cell_type": "code",
      "metadata": {
        "id": "RV94ED1WPnOx"
      },
      "source": [
        "# 객체 생성\r\n",
        "komoran = Komoran()"
      ],
      "execution_count": null,
      "outputs": []
    },
    {
      "cell_type": "code",
      "metadata": {
        "id": "2oSRCScuPt_q"
      },
      "source": [
        "text3 = \"거인의 어깨 위에 올라서라.\""
      ],
      "execution_count": null,
      "outputs": []
    },
    {
      "cell_type": "code",
      "metadata": {
        "colab": {
          "base_uri": "https://localhost:8080/"
        },
        "id": "R2P_LMIzP0Ru",
        "outputId": "3fe74a56-aafb-4893-cfcb-dbb75630357b"
      },
      "source": [
        "# 형태소 추출\r\n",
        "morphs = komoran.morphs(text3)\r\n",
        "print(morphs)"
      ],
      "execution_count": null,
      "outputs": [
        {
          "output_type": "stream",
          "text": [
            "['거인', '의', '어깨', '위', '에', '올라서', '라', '.']\n"
          ],
          "name": "stdout"
        }
      ]
    },
    {
      "cell_type": "code",
      "metadata": {
        "colab": {
          "base_uri": "https://localhost:8080/"
        },
        "id": "XgU4qMbsP7GJ",
        "outputId": "85201885-46b3-4b80-c991-6a0ea49b1cde"
      },
      "source": [
        "# 형태소와 품사 태그 추출\r\n",
        "pos = komoran.pos(text3)\r\n",
        "print(pos)"
      ],
      "execution_count": null,
      "outputs": [
        {
          "output_type": "stream",
          "text": [
            "[('거인', 'NNP'), ('의', 'JKG'), ('어깨', 'NNP'), ('위', 'NNG'), ('에', 'JKB'), ('올라서', 'VV'), ('라', 'EF'), ('.', 'SF')]\n"
          ],
          "name": "stdout"
        }
      ]
    },
    {
      "cell_type": "code",
      "metadata": {
        "colab": {
          "base_uri": "https://localhost:8080/"
        },
        "id": "dSAwTnidP-oJ",
        "outputId": "b7cc078c-83a9-4a2a-97eb-b3481236b811"
      },
      "source": [
        "# 명사만 추출\r\n",
        "nouns = komoran.nouns(text3)\r\n",
        "print(nouns)"
      ],
      "execution_count": null,
      "outputs": [
        {
          "output_type": "stream",
          "text": [
            "['거인', '어깨', '위']\n"
          ],
          "name": "stdout"
        }
      ]
    },
    {
      "cell_type": "markdown",
      "metadata": {
        "id": "Y_GXfwiEQ3kK"
      },
      "source": [
        "## 3.\"Okt\"  한국어 처리기 \r\n",
        ": 트위터 한국어 처리기에서 파생된 오픈소스 한국어 처리기\r\n",
        "https://openkoreantext.org/\r\n",
        "- 분석 속도 빠름\r\n",
        "- 띄어쓰기가 어느 정도 되어 있는 문장을 빠르게 분석할 때 많이 사용"
      ]
    },
    {
      "cell_type": "code",
      "metadata": {
        "id": "ZNBBJvmEQF6j"
      },
      "source": [
        "from konlpy.tag import Okt"
      ],
      "execution_count": null,
      "outputs": []
    },
    {
      "cell_type": "code",
      "metadata": {
        "id": "rwzdWZA1RO6E"
      },
      "source": [
        "# 객체 생성\r\n",
        "okt = Okt()\r\n",
        "\r\n",
        "text4 = \"인공지능을 배우는 채널 생활코딩 ! 개재밌엌ㅋㅋㅋㅋㅋ\""
      ],
      "execution_count": null,
      "outputs": []
    },
    {
      "cell_type": "code",
      "metadata": {
        "colab": {
          "base_uri": "https://localhost:8080/"
        },
        "id": "tIMimD-0RX0c",
        "outputId": "65ef8e31-aef4-4360-f47b-5355522dfe39"
      },
      "source": [
        "# 형태소 추출\r\n",
        "morphs = okt.morphs(text4)\r\n",
        "print(morphs)"
      ],
      "execution_count": null,
      "outputs": [
        {
          "output_type": "stream",
          "text": [
            "['인공', '지능', '을', '배우는', '채널', '생활코딩', '!', '개재', '밌엌', 'ㅋㅋㅋㅋㅋ']\n"
          ],
          "name": "stdout"
        }
      ]
    },
    {
      "cell_type": "code",
      "metadata": {
        "colab": {
          "base_uri": "https://localhost:8080/"
        },
        "id": "1PAu33GsRzl9",
        "outputId": "445a9326-dffe-4201-890f-b9f607b378d3"
      },
      "source": [
        "# 형태소와 품사 태그 추출\r\n",
        "pos = komoran.pos(text4)\r\n",
        "print(pos)"
      ],
      "execution_count": null,
      "outputs": [
        {
          "output_type": "stream",
          "text": [
            "[('인공지능', 'NNP'), ('을', 'JKO'), ('배우', 'VV'), ('는', 'ETM'), ('채널', 'NNP'), ('생활코딩', 'NNP'), ('!', 'SF'), ('개재밌엌ㅋㅋㅋㅋㅋ', 'NA')]\n"
          ],
          "name": "stdout"
        }
      ]
    },
    {
      "cell_type": "code",
      "metadata": {
        "colab": {
          "base_uri": "https://localhost:8080/"
        },
        "id": "cSZiTlCUSsP1",
        "outputId": "b3bab3aa-8dc9-4efc-8d4f-098803448d9b"
      },
      "source": [
        "# 명사만 추출\r\n",
        "nouns = komoran.nouns(text4)\r\n",
        "print(nouns)"
      ],
      "execution_count": null,
      "outputs": [
        {
          "output_type": "stream",
          "text": [
            "['인공지능', '채널', '생활코딩']\n"
          ],
          "name": "stdout"
        }
      ]
    },
    {
      "cell_type": "code",
      "metadata": {
        "colab": {
          "base_uri": "https://localhost:8080/"
        },
        "id": "eIUraifzSwGX",
        "outputId": "14f619b9-40ed-461f-bf77-56737514c397"
      },
      "source": [
        "# 오타가 섞인 문장 정규화\r\n",
        "normalize = okt.normalize(text4)\r\n",
        "print(normalize)"
      ],
      "execution_count": null,
      "outputs": [
        {
          "output_type": "stream",
          "text": [
            "인공지능을 배우는 채널 생활코딩 ! 개재밌어ㅋㅋㅋ\n"
          ],
          "name": "stdout"
        }
      ]
    },
    {
      "cell_type": "code",
      "metadata": {
        "colab": {
          "base_uri": "https://localhost:8080/"
        },
        "id": "SsLXE-bzS8C_",
        "outputId": "eed5822e-88a9-4944-c009-47a6d2ab2c1d"
      },
      "source": [
        "# 어구 추출\r\n",
        "phrase = okt.phrases(text4)\r\n",
        "print(phrase)"
      ],
      "execution_count": null,
      "outputs": [
        {
          "output_type": "stream",
          "text": [
            "['인공지능', '채널', '채널 생활코딩', '개재밌엌', '인공', '지능', '생활코딩', '개재', '밌엌']\n"
          ],
          "name": "stdout"
        }
      ]
    },
    {
      "cell_type": "markdown",
      "metadata": {
        "id": "m6a_AI5RV-aJ"
      },
      "source": [
        "# 사용자 사전 구축"
      ]
    },
    {
      "cell_type": "code",
      "metadata": {
        "colab": {
          "base_uri": "https://localhost:8080/"
        },
        "id": "O4lQLn_RWhHa",
        "outputId": "2191386b-69cd-4d87-e0bd-87cb24b92d96"
      },
      "source": [
        "from konlpy.tag import Komoran\r\n",
        "komoran = Komoran()\r\n",
        "text = \"혁스토리는 최고의 인공지능 개발자야\"\r\n",
        "text2 = \"에이림은 최고의 인공지능 개발 유튜브 채널이야\"\r\n",
        "pos = komoran.pos(text)\r\n",
        "print(pos)\r\n",
        "\r\n",
        "pos2 = komoran.pos(text2)\r\n",
        "print(pos2)"
      ],
      "execution_count": null,
      "outputs": [
        {
          "output_type": "stream",
          "text": [
            "[('혁', 'NNG'), ('스토리', 'NNP'), ('는', 'JX'), ('최고', 'NNG'), ('의', 'JKG'), ('인공지능', 'NNP'), ('개발자', 'NNP'), ('야', 'JKV')]\n",
            "[('에', 'NNG'), ('이림', 'NNP'), ('은', 'JX'), ('최고', 'NNG'), ('의', 'JKG'), ('인공지능', 'NNP'), ('개발', 'NNG'), ('유튜브', 'NNP'), ('채널', 'NNP'), ('이야', 'JX')]\n"
          ],
          "name": "stdout"
        }
      ]
    },
    {
      "cell_type": "code",
      "metadata": {
        "colab": {
          "base_uri": "https://localhost:8080/"
        },
        "id": "mCgTRaOGVwnr",
        "outputId": "0cff7703-2e28-4b07-9faf-504f44ae5b17"
      },
      "source": [
        "# 사용자 사전 구축\r\n",
        "with open('/content/drive/MyDrive/dataset/user_dic.tsv', \"a\") as f:  \r\n",
        "    f.write(\"에이림\\t\")\r\n",
        "    f.write(\"NNG\\n\")\r\n",
        "\r\n",
        "# 사용자 사전 적용\r\n",
        "komoran = Komoran(userdic = '/content/drive/MyDrive/dataset/user_dic.tsv')\r\n",
        "\r\n",
        "pos = komoran.pos(text)\r\n",
        "print(pos)\r\n",
        "\r\n",
        "pos2 = komoran.pos(text2)\r\n",
        "print(pos2)"
      ],
      "execution_count": null,
      "outputs": [
        {
          "output_type": "stream",
          "text": [
            "[('혁스토리', 'NNG'), ('는', 'JX'), ('최고', 'NNG'), ('의', 'JKG'), ('인공지능', 'NNP'), ('개발자', 'NNP'), ('야', 'JKV')]\n",
            "[('에이림', 'NNG'), ('은', 'JX'), ('최고', 'NNG'), ('의', 'JKG'), ('인공지능', 'NNP'), ('개발', 'NNG'), ('유튜브', 'NNP'), ('채널', 'NNP'), ('이야', 'JX')]\n"
          ],
          "name": "stdout"
        }
      ]
    },
    {
      "cell_type": "markdown",
      "metadata": {
        "id": "KInq24jjsj2W"
      },
      "source": [
        "# 임베딩 \r\n",
        "- 단어나 문장을 수치화해 벡터 공간으로 표현하는 과정\r\n",
        "- 컴퓨터는 수치 연산만 가능하기 때문에 자연어를 숫자나 벡터 형태로 변환 할 필요가 있음"
      ]
    },
    {
      "cell_type": "markdown",
      "metadata": {
        "id": "lQLG88g4symx"
      },
      "source": [
        "## 1.문장 임베딩\r\n",
        "- 장점 : 전체 문장의 흐름을 파악해 벡터로 변환하기 때문에 문맥적 의미를 지님.\r\n",
        "단어 임베딩에 비해 품질이 좋으며 , 상용 시스템이 많이 사용됨\r\n",
        "- 단점 : 임베딩하기 위해 많은 문장 데이터가 필요하며 학습하는데 비용이 많이 들어감\r\n"
      ]
    },
    {
      "cell_type": "markdown",
      "metadata": {
        "id": "c4pJeUg2tTIE"
      },
      "source": [
        "## 2.단어 임베딩\r\n",
        "- 장점 : 문장 임베딩에 비해 학습 방법이 간단해 여전히 실무에서 많이 사용 됨\r\n",
        "- 단점 : 동음이의어대 대한 구분을 하지 않기 때문에 의미가 다르더라도 단어의 형태가 같다면 동일한 벡터값으로 표현됨\r\n"
      ]
    },
    {
      "cell_type": "markdown",
      "metadata": {
        "id": "osIB9U87PpqY"
      },
      "source": [
        "### 2.1 희소표현 : 원-핫 인코딩\r\n",
        "\r\n",
        "- 단어를 숫자 벡터로 변환하는 가장 기본적인 방법. \r\n",
        "- 요소들 중 단 하나의 값만 1 이고 나머지 요솟값은 0 인 인코딩을 의미\r\n",
        "- 원-핫 인코딩 으로 나온 결과를 원-핫 벡터 라 하며 , 전체 요소 중 단 하나의 값만 1 이기 때문에 희소(𝑠𝑝𝑎𝑟𝑠𝑒)벡터라고 함"
      ]
    },
    {
      "cell_type": "markdown",
      "metadata": {
        "id": "_5kdRFG4zBtd"
      },
      "source": [
        "- 원-핫 인코딩 을 하기 위해서는 단어 집합이라 불리는 사전을 먼저 만들어야 함.\r\n",
        "- 여기서 사전 은 말뭉치에서 나오는 서로 다른 모든 단어의 집합 을 의미\r\n",
        "- 말뭉치에 존재하는 모든 단어의 수가 원 핫 벡터의 차원을 결정"
      ]
    },
    {
      "cell_type": "code",
      "metadata": {
        "colab": {
          "base_uri": "https://localhost:8080/"
        },
        "id": "FJeA1uvqNldM",
        "outputId": "7f58d0cb-8982-4b2d-9503-2b4fcc6257cd"
      },
      "source": [
        "from google.colab import drive\n",
        "drive.mount('/content/drive')"
      ],
      "execution_count": null,
      "outputs": [
        {
          "output_type": "stream",
          "text": [
            "Mounted at /content/drive\n"
          ],
          "name": "stdout"
        }
      ]
    },
    {
      "cell_type": "code",
      "metadata": {
        "id": "kb-eVtDsI5vO"
      },
      "source": [
        "from konlpy.tag import Komoran\r\n",
        "\r\n",
        "import numpy as np\r\n",
        "\r\n",
        "komoran = Komoran(userdic = '/content/drive/MyDrive/dataset/user_dic.tsv')"
      ],
      "execution_count": null,
      "outputs": []
    },
    {
      "cell_type": "code",
      "metadata": {
        "id": "TF2P7Fo8Mlnj"
      },
      "source": [
        "text = \"인공지능 비서 카카오 미니는 정말 좋은 친구야\""
      ],
      "execution_count": null,
      "outputs": []
    },
    {
      "cell_type": "code",
      "metadata": {
        "colab": {
          "base_uri": "https://localhost:8080/"
        },
        "id": "2WrEWbGXMOSk",
        "outputId": "417f5b28-ec52-403c-8a26-28beb38073bd"
      },
      "source": [
        "nouns = komoran.nouns(text)\r\n",
        "print(nouns)"
      ],
      "execution_count": null,
      "outputs": [
        {
          "output_type": "stream",
          "text": [
            "['인공지능', '비서', '카카오', '미니', '친구']\n"
          ],
          "name": "stdout"
        }
      ]
    },
    {
      "cell_type": "code",
      "metadata": {
        "id": "XmJAlQhIMsMc",
        "colab": {
          "base_uri": "https://localhost:8080/"
        },
        "outputId": "08be8949-8e2a-4143-a42c-8a6d01d16ec4"
      },
      "source": [
        "dics = {}\r\n",
        "for word in nouns :\r\n",
        "  if word not in dics.keys() :\r\n",
        "    dics[word] = len(dics)\r\n",
        "\r\n",
        "print(dics)"
      ],
      "execution_count": null,
      "outputs": [
        {
          "output_type": "stream",
          "text": [
            "{'인공지능': 0, '비서': 1, '카카오': 2, '미니': 3, '친구': 4}\n"
          ],
          "name": "stdout"
        }
      ]
    },
    {
      "cell_type": "code",
      "metadata": {
        "id": "epD8sggaNCPy",
        "colab": {
          "base_uri": "https://localhost:8080/"
        },
        "outputId": "81462f77-68e5-47bb-8578-8a446c0362ac"
      },
      "source": [
        "nb_classes = len(dics)                          # 원 핫 벡터 차원의 크기를 결정. 단어 사전은 크기가 원 핫 벡터의 크기\r\n",
        "print(nb_classes)\r\n",
        "targets = list(dics.values())                   # 넘파이의 원 핫 인코딩 기능을 사용하기 위해 딕셔너리 타입으로 되어 있는 사전을 리스트 형태로 변환해야 함. \r\n",
        "print(targets)                                  # 이때 단어별 인덱스 값이 필요하기 때문에 딕셔너리의 values() 함수를 이용해 value 값만 리스트로 변환\r\n",
        "\r\n",
        "one_hot_targets = np.eye(nb_classes)[targets]   # 원-핫 벡터를 만들기 위해서는 넘파이의 eye() 함수를 이용\r\n",
        "print(one_hot_targets)"
      ],
      "execution_count": null,
      "outputs": [
        {
          "output_type": "stream",
          "text": [
            "5\n",
            "[0, 1, 2, 3, 4]\n",
            "[[1. 0. 0. 0. 0.]\n",
            " [0. 1. 0. 0. 0.]\n",
            " [0. 0. 1. 0. 0.]\n",
            " [0. 0. 0. 1. 0.]\n",
            " [0. 0. 0. 0. 1.]]\n"
          ],
          "name": "stdout"
        }
      ]
    },
    {
      "cell_type": "markdown",
      "metadata": {
        "id": "E_d3gBiZ0RYb"
      },
      "source": [
        "- 원-핫 벡터의 경우 단순히 단어의 순서에 의한 인덱스값을 기반으로 인코딩된 값이기 때문에 단어의 의미나 유사한 단어와의 관계를 담고 있지 않음\r\n",
        "- 또한 단어 사전의 크기가 커짐에 따라 원 핫 벡터의 차원도 커지는데 이때 메모리 낭비와 계산의 복잡도가 커짐\r\n",
        "- 원-핫 벡터는 대부분의 요소가 0 의 값을 가지고 있으므로 비효율적"
      ]
    },
    {
      "cell_type": "markdown",
      "metadata": {
        "id": "UR1geLDnavNT"
      },
      "source": [
        "### 2.2 분산표현 : Word2Vec\r\n",
        "- 신경망에서는 분산 표현을 학습하는 과정에서 임베딩 벡터의 모든 차원에 의미 있는 데이터를 고르게 밀집시킴\r\n",
        "- 희소 표현과 반대로 데이터 손실을 최소화하면서 벡터 차원이 압축되는 효과\r\n",
        "- 분산 표현의 임베딩 벡터에는 단어의 의미 , 주변 단어간의 관계 등 많은 정보가 표현되어 있어 일반화 능력이 뛰어남\r\n"
      ]
    },
    {
      "cell_type": "markdown",
      "metadata": {
        "id": "qopE0f867aPx"
      },
      "source": [
        "ex) 남자 와 남성 이라는 단어가 있다고 했을 때 희소 표현 방식에는 그저 단 하나의 요솟값에 불과. 남자 와 남성 의 관계가 전혀 표현되어있지 않음. \r\n",
        "하지만 분산 표현 방식은 벡터 공간 상에서 유사한 의미를 갖는 단어들은 비슷한 위치에 분포되어 있기 때문에 남자 와 남성 의 단어 위치는 매우 가까움. 이런 두 단어 간의 거리를 계산할 수 있으면 컴퓨터는 남자 와 남성 ’ 두 단어를 같은 의미로 해석 할 수 있다."
      ]
    },
    {
      "cell_type": "markdown",
      "metadata": {
        "id": "EpEK8cUI7iZm"
      },
      "source": [
        "Word2Vec 은 두가지 모델로 제안되어있음\r\n",
        "1. CBOW ( continuous bag - of words)\r\n",
        "- 맥락이라 표현되는 주변 단어들을 이용해 타겟 단어를 예측하는 신경망 모델\r\n",
        "- 학습 속도가 빠름\r\n",
        "\r\n",
        "2. skip-gram\r\n",
        "- 하나의 타깃 단어를 이용해 주변 단어들을 예측하는 신경망 모델\r\n",
        "- 학습에 오래 걸리지만 CBOW에 비해 임베딩 품질이 우수"
      ]
    },
    {
      "cell_type": "markdown",
      "metadata": {
        "id": "aY_4fKZZ-faI"
      },
      "source": [
        "![image.png](data:image/png;base64,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)"
      ]
    },
    {
      "cell_type": "code",
      "metadata": {
        "colab": {
          "base_uri": "https://localhost:8080/"
        },
        "id": "IsQFj3CCa_om",
        "outputId": "1747fee1-1622-4eae-8fd1-b1b3ab15e399"
      },
      "source": [
        "pip install gensim"
      ],
      "execution_count": null,
      "outputs": [
        {
          "output_type": "stream",
          "text": [
            "Requirement already satisfied: gensim in /usr/local/lib/python3.6/dist-packages (3.6.0)\n",
            "Requirement already satisfied: six>=1.5.0 in /usr/local/lib/python3.6/dist-packages (from gensim) (1.15.0)\n",
            "Requirement already satisfied: scipy>=0.18.1 in /usr/local/lib/python3.6/dist-packages (from gensim) (1.4.1)\n",
            "Requirement already satisfied: smart-open>=1.2.1 in /usr/local/lib/python3.6/dist-packages (from gensim) (4.1.0)\n",
            "Requirement already satisfied: numpy>=1.11.3 in /usr/local/lib/python3.6/dist-packages (from gensim) (1.19.5)\n"
          ],
          "name": "stdout"
        }
      ]
    },
    {
      "cell_type": "code",
      "metadata": {
        "id": "5WfYVjihazJz"
      },
      "source": [
        "from gensim.models import Word2Vec\r\n",
        "from konlpy.tag import Komoran\r\n",
        "import time"
      ],
      "execution_count": null,
      "outputs": []
    },
    {
      "cell_type": "code",
      "metadata": {
        "id": "eyvdtTi9a81c"
      },
      "source": [
        "# 함수 정의 (네이버 영화 리뷰 말뭉치 파일(ratings.txt)을 읽어와 리스트로 변환하는 함수)\r\n",
        "def read_review_data(filename) :\r\n",
        "  with open(filename, 'r') as f :\r\n",
        "    data = [line.split('\\t') for line in f.read().splitlines()] #파일(ratings.txt)을 읽어와 리스트로 변환하는\r\n",
        "    data = data[1:] # header 제거\r\n",
        "  return data\r\n",
        "\r\n",
        "#ratings.txt파일은 라인마다 Tab 을 사용해서 id,document, label 컬럼으로 데이터가 구분되어있음\r\n",
        "#따라서 read_review_data() 함수는 리뷰 데이터를 각 라인 별로 읽어와 t 를 기준으로 데이터를 분리. \r\n",
        "#그 후 첫 번째 행의 헤더를 제거하고 리뷰 데이터만 반환."
      ],
      "execution_count": null,
      "outputs": []
    },
    {
      "cell_type": "code",
      "metadata": {
        "colab": {
          "base_uri": "https://localhost:8080/"
        },
        "id": "dMh5tz2TcZlp",
        "outputId": "516ff93d-89e2-47c3-80d5-3afd3e122b7e"
      },
      "source": [
        "# 측정 시작\r\n",
        "start = time.time()\r\n",
        "\r\n",
        "# 리뷰 파일 읽어오기\r\n",
        "print('1. 말뭉치 데이터 읽기 시작')\r\n",
        "\r\n",
        "review_data = read_review_data('/content/drive/MyDrive/dataset/ratings.txt')\r\n",
        "\r\n",
        "print(len(review_data))    # 데이터 전체 갯수\r\n",
        "print('1. 말뭉치 데이터 읽기 완료. 소요시간 : ', time.time() - start)"
      ],
      "execution_count": null,
      "outputs": [
        {
          "output_type": "stream",
          "text": [
            "1. 말뭉치 데이터 읽기 시작\n",
            "200000\n",
            "1. 말뭉치 데이터 읽기 완료. 소요시간 :  0.5042388439178467\n"
          ],
          "name": "stdout"
        }
      ]
    },
    {
      "cell_type": "code",
      "metadata": {
        "colab": {
          "base_uri": "https://localhost:8080/"
        },
        "id": "cw-9POMM0vcM",
        "outputId": "148f789e-8de3-41b8-bbd0-cca76d277bd4"
      },
      "source": [
        "# 문장단위로 명사만 추출해 학습 입력 데이터로 만듬\r\n",
        "print('2. 형태소에서 명사만 추출 시작')\r\n",
        "\r\n",
        "komoran = Komoran()\r\n",
        "docs = [komoran.nouns(sentence[1]) for sentence in review_data]            # 여기서 sentence[1]은 rating.txt 파일에서 document 컬럼의 데이터\r\n",
        "print('2. 형태소에서 명사만 추출 완료. 소요시간 : ', time.time() - start)"
      ],
      "execution_count": null,
      "outputs": [
        {
          "output_type": "stream",
          "text": [
            "2. 형태소에서 명사만 추출 시작\n",
            "2. 형태소에서 명사만 추출 완료. 소요시간 :  135.9467854499817\n"
          ],
          "name": "stdout"
        }
      ]
    },
    {
      "cell_type": "code",
      "metadata": {
        "colab": {
          "base_uri": "https://localhost:8080/"
        },
        "id": "laUjGUX41aZb",
        "outputId": "83dad9e5-2b4e-4c54-c72f-a24c356b8e6e"
      },
      "source": [
        "# word2vec 모델 학습\r\n",
        "print('3. Word2Vec 모델 학습 시작')\r\n",
        "model = Word2Vec(sentences = docs, size = 200, window = 4, min_count = 2, sg = 1)\r\n",
        "print('3. Word2Vec 모델 학습 완료. 소요시간 : ', time.time() - start)\r\n",
        "\r\n",
        "## Word2Vec() 주요 하이퍼파라미터\r\n",
        "# sentences : Word2Vec 모델 학습에 필요한 문장 데이터 , Word2Vec 모델의 입력값으로 사용\r\n",
        "# size : 단어 임베딩 벡터의 차원(크기)\r\n",
        "# window : 주변 단어 윈도우 크기\r\n",
        "# hs : 0(0이 아닌 경우 음수 샘플링 사용), 1(모델 학습에 softmax 사용)\r\n",
        "# min_count : 단어 최소 빈도 수 제한 설정된(min_count 빈도 수 이하의 단어들은 학습하지 않음)\r\n",
        "# sg : 0(CBOW 모델), 1(skip-gram 모델)"
      ],
      "execution_count": null,
      "outputs": [
        {
          "output_type": "stream",
          "text": [
            "3. Word2Vec 모델 학습 시작\n",
            "3. Word2Vec 모델 학습 완료. 소요시간 :  526.8389480113983\n"
          ],
          "name": "stdout"
        }
      ]
    },
    {
      "cell_type": "code",
      "metadata": {
        "colab": {
          "base_uri": "https://localhost:8080/"
        },
        "id": "xNrbu5ww3Gzx",
        "outputId": "8fbab4cd-0739-415f-bc56-f4c05821d58c"
      },
      "source": [
        "# 현재 디렉토리 확인\r\n",
        "import os\r\n",
        "print(os.getcwd())"
      ],
      "execution_count": null,
      "outputs": [
        {
          "output_type": "stream",
          "text": [
            "/content\n"
          ],
          "name": "stdout"
        }
      ]
    },
    {
      "cell_type": "code",
      "metadata": {
        "colab": {
          "base_uri": "https://localhost:8080/"
        },
        "id": "joqRM8E53a5I",
        "outputId": "1df81de6-1f5e-46a6-f349-c7b39d4e2f87"
      },
      "source": [
        "# 디렉토리 변경\r\n",
        "os.chdir('/content/drive/MyDrive/dataset')\r\n",
        "print(os.getcwd())"
      ],
      "execution_count": null,
      "outputs": [
        {
          "output_type": "stream",
          "text": [
            "/content/drive/MyDrive/dataset\n"
          ],
          "name": "stdout"
        }
      ]
    },
    {
      "cell_type": "code",
      "metadata": {
        "id": "8ubukrQh3uX8"
      },
      "source": [
        "# 모델 저장\r\n",
        "model.save('nvmc.model')"
      ],
      "execution_count": null,
      "outputs": []
    },
    {
      "cell_type": "code",
      "metadata": {
        "colab": {
          "base_uri": "https://localhost:8080/"
        },
        "id": "PjymHakL4Nj7",
        "outputId": "7697fdbe-63bb-4c8c-d57f-39042658ff38"
      },
      "source": [
        "# 모델 불러와서 활용하기\r\n",
        "model = Word2Vec.load('nvmc.model')\r\n",
        "\r\n",
        "# 사랑 이란 단어로 생성한 단어 임베딩 벡터\r\n",
        "print('사랑 : ', model.wv['사랑']) # 모델을 학습할 때 설정한 size 하이퍼파라미터만큼 단어 임베딩 벡터 차원 크기가 결정됨"
      ],
      "execution_count": null,
      "outputs": [
        {
          "output_type": "stream",
          "text": [
            "사랑 :  [-0.26591223  0.11781495 -0.10111252 -0.45461968  0.00220023  0.2324501\n",
            "  0.11260129 -0.32891136  0.09633117 -0.04455462 -0.01803581 -0.17624469\n",
            " -0.5270312   0.19131699 -0.34840924  0.34966338 -0.01771467 -0.34115663\n",
            "  0.4119918   0.15819764  0.29718602  0.25264958 -0.29766873 -0.20144759\n",
            " -0.16498685 -0.19345509 -0.0123655   0.398276   -0.08489251  0.55723345\n",
            " -0.29510432  0.5206304   0.12467066  0.13425621 -0.1430422   0.15171653\n",
            " -0.10773352  0.54787624 -0.05233552 -0.07391833 -0.3534669   0.00198973\n",
            " -0.05624372  0.27818805 -0.5494948   0.00719383 -0.04983073  0.19867304\n",
            "  0.48070267  0.08997498 -0.15990159  0.2810281   0.32065573 -0.02450489\n",
            "  0.02839583  0.08216944  0.12319724 -0.17928526 -0.12472583 -0.04115529\n",
            "  0.4655901  -0.2318762   0.35135648  0.40498435 -0.2531667   0.0816609\n",
            "  0.12801738 -0.38620195 -0.17601027  0.03129528  0.07104951  0.54519004\n",
            "  0.23324472 -0.36559126  0.35982147  0.03290338 -0.31718352  0.10891639\n",
            "  0.09678406  0.0661337  -0.20006084  0.28941455 -0.2901183   0.02504142\n",
            "  0.32762468  0.37598485  0.13565272 -0.35023946  0.13025448 -0.33193237\n",
            "  0.1157738  -0.16879337 -0.1477455   0.13280319  0.15395446  0.14968672\n",
            "  0.15934825 -0.33557862  0.01679637 -0.31713971  0.2770251   0.20831208\n",
            "  0.00413741 -0.19511007 -0.07190241 -0.38663778 -0.16194789 -0.00965686\n",
            "  0.10738543 -0.05699566 -0.2890886  -0.11875386 -0.53468436  0.16081826\n",
            "  0.56546974 -0.20281798 -0.08641057 -0.03272959 -0.30181295 -0.10848987\n",
            "  0.02860817  0.47260326 -0.06916526 -0.15902781  0.29978555 -0.44074565\n",
            "  0.10052014 -0.06776594 -0.25304046 -0.05756418  0.0455901   0.03083041\n",
            " -0.09021839 -0.09404393  0.46765646 -0.09884623 -0.0080573  -0.0225292\n",
            " -0.20686118 -0.6281016  -0.36711565  0.2832565  -0.0095037   0.16338469\n",
            " -0.25891787  0.00989281  0.08169515 -0.10011704  0.45160294 -0.08431786\n",
            "  0.08263075 -0.13603775 -0.44276997 -0.19250911 -0.26411465  0.07264644\n",
            " -0.15967628  0.17042176  0.17234637 -0.1029958   0.40828553  0.0673798\n",
            " -0.16710308  0.02120048  0.10478161  0.35078943  0.12136285  0.07448044\n",
            " -0.22023508 -0.39439112 -0.17202091 -0.07229952  0.05536306 -0.23309878\n",
            " -0.11242839  0.21562935 -0.23731479  0.36822227  0.11517904  0.3086804\n",
            "  0.162928    0.03770622  0.27471486  0.10705462  0.00200793 -0.12860529\n",
            " -0.21730164 -0.09171678 -0.1394784  -0.3320831   0.0651572  -0.02115745\n",
            " -0.00608606 -0.3123879  -0.18816091 -0.07181849  0.20337625 -0.04571757\n",
            " -0.01840637 -0.10023791]\n"
          ],
          "name": "stdout"
        }
      ]
    },
    {
      "cell_type": "markdown",
      "metadata": {
        "id": "mLS23ezbUQcE"
      },
      "source": [
        "# 텍스트 유사도"
      ]
    },
    {
      "cell_type": "markdown",
      "metadata": {
        "id": "ymbpKPIkUS2H"
      },
      "source": [
        "## 1.인공신경망 Word2Vec 활용"
      ]
    },
    {
      "cell_type": "code",
      "metadata": {
        "colab": {
          "base_uri": "https://localhost:8080/"
        },
        "id": "l8zjpLkn8AAD",
        "outputId": "b48bd42c-c94d-45a0-80c9-cd2a4567e7bb"
      },
      "source": [
        "# 단어 유사도 계산\r\n",
        "print(model.wv.similarity(w1 = '여주', w2= '배두나'))\r\n",
        "print(model.wv.similarity(w1 = '주인공', w2= '하정우'))"
      ],
      "execution_count": null,
      "outputs": [
        {
          "output_type": "stream",
          "text": [
            "0.65820163\n",
            "0.56216353\n"
          ],
          "name": "stdout"
        }
      ]
    },
    {
      "cell_type": "code",
      "metadata": {
        "colab": {
          "base_uri": "https://localhost:8080/"
        },
        "id": "71J3GU388kxz",
        "outputId": "a32a5245-d0cb-4c92-c0aa-454a18539852"
      },
      "source": [
        "# 가장 유사한 단어 추출\r\n",
        "print(model.wv.most_similar(\"조승우\", topn = 5))   # topn = 5 유사한 단어 5개까지"
      ],
      "execution_count": null,
      "outputs": [
        {
          "output_type": "stream",
          "text": [
            "[('김남길', 0.9564082622528076), ('유아인', 0.9557787775993347), ('김태희', 0.9544938802719116), ('장나라', 0.9542005062103271), ('김윤석', 0.9522294998168945)]\n"
          ],
          "name": "stdout"
        }
      ]
    },
    {
      "cell_type": "markdown",
      "metadata": {
        "id": "vy-I2Kw9SpoU"
      },
      "source": [
        "## 2.n-gram 유사도 (통계적 기법)"
      ]
    },
    {
      "cell_type": "markdown",
      "metadata": {
        "id": "OeKvGDbnUwI_"
      },
      "source": [
        "![image.png](data:image/png;base64,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)"
      ]
    },
    {
      "cell_type": "markdown",
      "metadata": {
        "id": "0DC2edugUxKB"
      },
      "source": [
        "- 𝑡𝑓(𝑡𝑒𝑟𝑚𝑓𝑟𝑒𝑞𝑢𝑒𝑛𝑐𝑦)는 두 문장 A 와 B 에서 동일한 토큰의 출현 빈도 를 뜻하며 , 𝑡𝑜𝑘𝑒𝑛𝑠는 해당 문장에서 전체 토큰 수 를 의미\r\n",
        "- 여기서 토큰이란 n-gram 으로 분리된 단어. \r\n",
        "- 즉 , 기준이 되는 문장 A 에서 나온 전체 토큰 중에서 A 와 B 에 동일한 토큰이 얼마나 있는지 비율로 표현한 수식. \r\n",
        "- 1.0 에 가까울 수록 B 가 A 에 유사하다"
      ]
    },
    {
      "cell_type": "code",
      "metadata": {
        "id": "Exaq3wKXSuEM"
      },
      "source": [
        "# 어절 단위 n-gram\r\n",
        "def word_ngram(sentence, n) :\r\n",
        "  text = tuple(sentence)\r\n",
        "  ngrams = [text[x:x + n] for x in range(0, len(text))]   # 문장을 어절 단위로 n개씩 끊어서 토큰을 저장\r\n",
        "  return tuple(ngrams)\r\n",
        "\r\n",
        "# 유사도 계산\r\n",
        "def similarity(doc1, doc2) :\r\n",
        "  cnt = 0\r\n",
        "  for token in doc1 :                        # doc1 의 토큰이 doc2 의 토큰과 얼마나 동일한지 횟수를 카운트\r\n",
        "    if token in doc2 :\r\n",
        "      cnt += 1\r\n",
        "  return cnt / len(doc1)                     # 카운트된 값을 doc1 의 전체 토큰 수로 나누면 유사도가 계산됩니다"
      ],
      "execution_count": null,
      "outputs": []
    },
    {
      "cell_type": "code",
      "metadata": {
        "colab": {
          "base_uri": "https://localhost:8080/"
        },
        "id": "xDlxso6XVTh3",
        "outputId": "58ca34f0-c253-4719-d7d1-175b5af70424"
      },
      "source": [
        "## 유사도 측정 실험\r\n",
        "\r\n",
        "# 실험 문장 정의\r\n",
        "sentence1 = \"백신은 2월에 공급될 예정이다.\"      \r\n",
        "sentence2 = \"백신은 11월에 공급될 예정이다.\"\r\n",
        "sentence3 = \"백신은 올해 안에 공급되지 않을 것이다.\"\r\n",
        "\r\n",
        "print(\"sentence1 = \", sentence1)\r\n",
        "print(\"sentence2 = \", sentence2)\r\n",
        "print(\"sentence3 = \", sentence3)\r\n",
        "print()\r\n",
        "\r\n",
        "# 형태소 분석기에서 명사(단어) 추출\r\n",
        "komoran = Komoran()\r\n",
        "bow1 = komoran.nouns(sentence1)\r\n",
        "bow2 = komoran.nouns(sentence2)\r\n",
        "bow3 = komoran.nouns(sentence3)\r\n",
        "\r\n",
        "# 단어 n-gram 토큰 추출       \r\n",
        "doc1 = word_ngram(bow1, 2)      # 2-gram 방식으로 추출\r\n",
        "doc2 = word_ngram(bow2, 2)\r\n",
        "doc3 = word_ngram(bow3, 2)\r\n",
        "\r\n",
        "# 추출된 n-gram 토큰 출력\r\n",
        "print(\"# n-gram 토큰 :\")\r\n",
        "print(doc1)\r\n",
        "print(doc2)\r\n",
        "print(doc3)\r\n",
        "print()\r\n",
        "\r\n",
        "# n-gram 유사도 계산\r\n",
        "r1 = similarity(doc1, doc2)\r\n",
        "r2 = similarity(doc3, doc1)\r\n",
        "\r\n",
        "print(\"# n-gram 유사도 :\")\r\n",
        "print(\"sentence1 과 sentence2의 n-gram 유사도 = \", r1)\r\n",
        "print(\"sentence3 과 sentence1의 n-gram 유사도 = \", r2)"
      ],
      "execution_count": null,
      "outputs": [
        {
          "output_type": "stream",
          "text": [
            "sentence1 =  백신은 2월에 공급될 예정이다.\n",
            "sentence2 =  백신은 11월에 공급될 예정이다.\n",
            "sentence3 =  백신은 올해 안에 공급되지 않을 것이다.\n",
            "\n",
            "# n-gram 토큰 :\n",
            "(('백신', '2월'), ('2월', '공급'), ('공급', '예정'), ('예정',))\n",
            "(('백신', '11월'), ('11월', '공급'), ('공급', '예정'), ('예정',))\n",
            "(('백신', '올해'), ('올해', '안'), ('안', '공급'), ('공급', '것'), ('것',))\n",
            "\n",
            "# n-gram 유사도 :\n",
            "sentence1 과 sentence2의 n-gram 유사도 =  0.5\n",
            "sentence3 과 sentence1의 n-gram 유사도 =  0.0\n"
          ],
          "name": "stdout"
        }
      ]
    },
    {
      "cell_type": "markdown",
      "metadata": {
        "id": "yAJwX4daY3ho"
      },
      "source": [
        "## 3.코사인 유사도\r\n",
        "- 벡터의 크기가 중요하지 않을 때 그 거리를 측정하기 위해 사용"
      ]
    },
    {
      "cell_type": "markdown",
      "metadata": {
        "id": "iPLmeMsranil"
      },
      "source": [
        "![image.png](data:image/png;base64,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)"
      ]
    },
    {
      "cell_type": "code",
      "metadata": {
        "id": "4FhzcC1ZY5V3"
      },
      "source": [
        "from numpy import dot\r\n",
        "from numpy.linalg import norm\r\n",
        "\r\n",
        "# 코사인 유사도 계산 식\r\n",
        "def cos_sim(vec1, vec2) :\r\n",
        "  return dot(vec1, vec2) / (norm(vec1) * norm(vec2))\r\n",
        "\r\n",
        "# 단어 문서 행렬 (TDM) 만들기\r\n",
        "def make_term_doc_mat(sentence_bow, word_dics) :\r\n",
        "  freq_mat = {}\r\n",
        "\r\n",
        "  for word in word_dics :\r\n",
        "    freq_mat[word] = 0\r\n",
        "  \r\n",
        "  for word in word_dics :\r\n",
        "    if word in sentence_bow :\r\n",
        "      freq_mat[word] += 1\r\n",
        "\r\n",
        "  return freq_mat\r\n",
        "\r\n",
        "  # 비교 문장에서 추출한 단어 사전을 기준으로 문장에 해당 단어들이 얼마나 포함되어 있는지 나타내는 \r\n",
        "  # 단어 문서 행렬 TDM 을 만들어주는 함수\r\n",
        "\r\n",
        "# 단어 벡터 만들기\r\n",
        "def make_vector(tdm) :\r\n",
        "  vec = []\r\n",
        "  for key in tdm :\r\n",
        "    vec.append(tdm[key])\r\n",
        "  return vec\r\n",
        "   # 단어 문서 행렬에서 표현된 토큰들의 출현 빈도 데이터를 \r\n",
        "   # 벡터로 만들어주는 함수입니다"
      ],
      "execution_count": null,
      "outputs": []
    },
    {
      "cell_type": "code",
      "metadata": {
        "colab": {
          "base_uri": "https://localhost:8080/"
        },
        "id": "zWd5KhF4gw3B",
        "outputId": "f71657cb-5d02-44fd-a9ef-bffef3147bec"
      },
      "source": [
        "## 유사도 측정 실험\r\n",
        "\r\n",
        "# 실험 문장 정의\r\n",
        "sentence1 = \"백신은 2월에 공급될 예정이다.\"      \r\n",
        "sentence2 = \"백신은 11월에 공급될 예정이다.\"\r\n",
        "sentence3 = \"백신은 올해 안에 공급되지 않을 것이다.\"\r\n",
        "\r\n",
        "print(\"sentence1 = \", sentence1)\r\n",
        "print(\"sentence2 = \", sentence2)\r\n",
        "print(\"sentence3 = \", sentence3)\r\n",
        "print()\r\n",
        "\r\n",
        "# 형태소 분석기에서 명사(단어) 추출\r\n",
        "komoran = Komoran()\r\n",
        "bow1 = komoran.nouns(sentence1)\r\n",
        "bow2 = komoran.nouns(sentence2)\r\n",
        "bow3 = komoran.nouns(sentence3)\r\n",
        "\r\n",
        "# 단어 묶음 리스트를 하나로 합침\r\n",
        "bow = bow1 + bow2 + bow3\r\n",
        "\r\n",
        "# 단어 묶음에서 중복 제거해 단어 사전 구축\r\n",
        "word_dics = []                      # 하나로 합쳐진 단어 묶음 리스트에서 중복된 단어를 제거해 \r\n",
        "for token in bow :                  # 새로운 단어 사전 리스트를 구축\r\n",
        "  if token not in word_dics :\r\n",
        "    word_dics.append(token)\r\n",
        "\r\n",
        "  \r\n",
        "# 문장 별 단어 문서 행렬 계산\r\n",
        "freq_list1 = make_term_doc_mat(bow1, word_dics)\r\n",
        "freq_list2 = make_term_doc_mat(bow2, word_dics)\r\n",
        "freq_list3 = make_term_doc_mat(bow3, word_dics)\r\n",
        "\r\n",
        "print(\"# TDM : \")\r\n",
        "print(freq_list1)\r\n",
        "print(freq_list2)\r\n",
        "print(freq_list3)\r\n",
        "print()\r\n",
        "\r\n",
        "# 문장 벡터 생성\r\n",
        "doc1 = np.array(make_vector(freq_list1))  # 각 문장마다 벡터를 생성해 넘파이 배열로 변환\r\n",
        "doc2 = np.array(make_vector(freq_list2))  # 왜냐하면 코사인 유사도 함수에서 인자는 반드시 넘파이 배열이여야 하기 때문\r\n",
        "doc3 = np.array(make_vector(freq_list3))\r\n",
        "\r\n",
        "# 코사인 유사도 계산\r\n",
        "r1 = cos_sim(doc1, doc2)\r\n",
        "r2 = cos_sim(doc3, doc1)\r\n",
        "\r\n",
        "print(\"# 코사인 유사도 : \")\r\n",
        "print( \"dot(doc1, doc2) = \", dot(doc1, doc2), \"/\" , \"(norm(doc1) * norm(doc2)) = \" , (norm(doc1) * norm(doc2)) )\r\n",
        "print(\"sentence1 과 sentence2의 n-gram 유사도 = \", r1)\r\n",
        "print( \"dot(doc3, doc1) = \", dot(doc3, doc1), \"/\" , \"(norm(doc3) * norm(doc1)) = \" , (norm(doc3) * norm(doc1)) )\r\n",
        "print(\"sentence3 과 sentence1의 n-gram 유사도 = \", r2)"
      ],
      "execution_count": null,
      "outputs": [
        {
          "output_type": "stream",
          "text": [
            "sentence1 =  백신은 2월에 공급될 예정이다.\n",
            "sentence2 =  백신은 11월에 공급될 예정이다.\n",
            "sentence3 =  백신은 올해 안에 공급되지 않을 것이다.\n",
            "\n",
            "# TDM : \n",
            "{'백신': 1, '2월': 1, '공급': 1, '예정': 1, '11월': 0, '올해': 0, '안': 0, '것': 0}\n",
            "{'백신': 1, '2월': 0, '공급': 1, '예정': 1, '11월': 1, '올해': 0, '안': 0, '것': 0}\n",
            "{'백신': 1, '2월': 0, '공급': 1, '예정': 0, '11월': 0, '올해': 1, '안': 1, '것': 1}\n",
            "\n",
            "# 코사인 유사도 : \n",
            "dot(doc1, doc2) =  3 / (norm(doc1) * norm(doc2)) =  4.0\n",
            "sentence1 과 sentence2의 n-gram 유사도 =  0.75\n",
            "dot(doc3, doc1) =  2 / (norm(doc3) * norm(doc1)) =  4.47213595499958\n",
            "sentence3 과 sentence1의 n-gram 유사도 =  0.4472135954999579\n"
          ],
          "name": "stdout"
        }
      ]
    },
    {
      "cell_type": "markdown",
      "metadata": {
        "id": "mZHZSEUC4KLv"
      },
      "source": [
        "# E.O.D"
      ]
    }
  ]
}
