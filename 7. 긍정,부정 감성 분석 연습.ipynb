{
  "nbformat": 4,
  "nbformat_minor": 0,
  "metadata": {
    "colab": {
      "name": "긍정,부정 감성 분석",
      "provenance": [],
      "collapsed_sections": [],
      "toc_visible": true,
      "authorship_tag": "ABX9TyPoMbEQvnyj0YSe8RADjI4g",
      "include_colab_link": true
    },
    "kernelspec": {
      "name": "python3",
      "display_name": "Python 3"
    }
  },
  "cells": [
    {
      "cell_type": "markdown",
      "metadata": {
        "id": "view-in-github",
        "colab_type": "text"
      },
      "source": [
        "<a href=\"https://colab.research.google.com/github/hyukstory/hyukstory_AI/blob/main/7.%20%EA%B8%8D%EC%A0%95%2C%EB%B6%80%EC%A0%95%20%EA%B0%90%EC%84%B1%20%EB%B6%84%EC%84%9D%20%EC%97%B0%EC%8A%B5.ipynb\" target=\"_parent\"><img src=\"https://colab.research.google.com/assets/colab-badge.svg\" alt=\"Open In Colab\"/></a>"
      ]
    },
    {
      "cell_type": "markdown",
      "metadata": {
        "id": "yAWGWFn3d7k7"
      },
      "source": [
        "# [𝑁𝐴𝑉𝐸𝑅 𝑠𝑒𝑛𝑡𝑖𝑚𝑒𝑛𝑡 𝑚𝑜𝑣𝑖𝑒 𝑐𝑜𝑟𝑝𝑢𝑠𝑣1.0]을 이용한 긍정 부정 감성 분석"
      ]
    },
    {
      "cell_type": "code",
      "metadata": {
        "id": "7elRLBevdleF"
      },
      "source": [
        "import tensorflow as tf\r\n",
        "import numpy as np"
      ],
      "execution_count": null,
      "outputs": []
    },
    {
      "cell_type": "code",
      "metadata": {
        "id": "ip-ayowfct4s",
        "colab": {
          "base_uri": "https://localhost:8080/"
        },
        "outputId": "45211400-4703-45f1-8c2a-d3ffcf481e03"
      },
      "source": [
        "# Naver Sentiment Movie Corpus v1.0 다운로드\r\n",
        "path_to_train_file = tf.keras.utils.get_file('train.txt', 'https://raw.githubusercontent.com/e9t/nsmc/master/ratings_train.txt')\r\n",
        "path_to_test_file = tf.keras.utils.get_file('test.txt', 'https://raw.githubusercontent.com/e9t/nsmc/master/ratings_test.txt')\r\n",
        "\r\n",
        "# 훈련 데이터로 15 만 개 , 테스트 데이터로 5 만개로 총 20 만 개의 리뷰가 있습니다 . 리뷰 중 10 만개는 별점이 1~4 로 부정적인 리뷰, 나머지 10 만개는 9~10 으로 긍정적인 리뷰"
      ],
      "execution_count": null,
      "outputs": [
        {
          "output_type": "stream",
          "text": [
            "Downloading data from https://raw.githubusercontent.com/e9t/nsmc/master/ratings_train.txt\n",
            "14630912/14628807 [==============================] - 0s 0us/step\n",
            "Downloading data from https://raw.githubusercontent.com/e9t/nsmc/master/ratings_test.txt\n",
            "4898816/4893335 [==============================] - 0s 0us/step\n"
          ],
          "name": "stdout"
        }
      ]
    },
    {
      "cell_type": "code",
      "metadata": {
        "colab": {
          "base_uri": "https://localhost:8080/"
        },
        "id": "taORMawud7Fk",
        "outputId": "5c5f7669-3f30-4ffd-f178-3cdb4c745bcb"
      },
      "source": [
        "# 데이터 로드 및 확인\r\n",
        "# 데이터를 메모리에 불러옵니다 encoding 형식으로 utf 8 을 지정해야합니다\r\n",
        "train_text = open(path_to_train_file, 'rb').read().decode(encoding='utf 8')\r\n",
        "test_text = open(path_to_test_file, 'rb').read().decode( encoding='utf 8')\r\n",
        "\r\n",
        "# 텍스트가 총 몇 자인지 확인합니다\r\n",
        "print('Length of train text: {} characters'.format(len(train_text)))\r\n",
        "print('Length of test text: {} characters'.format(len(test_text)))\r\n",
        "print()\r\n",
        "\r\n",
        "# 처음 300 자를 확인해봅니다\r\n",
        "print(train_text[:300])"
      ],
      "execution_count": null,
      "outputs": [
        {
          "output_type": "stream",
          "text": [
            "Length of train text: 6937271 characters\n",
            "Length of test text: 2318260 characters\n",
            "\n",
            "id\tdocument\tlabel\n",
            "9976970\t아 더빙.. 진짜 짜증나네요 목소리\t0\n",
            "3819312\t흠...포스터보고 초딩영화줄....오버연기조차 가볍지 않구나\t1\n",
            "10265843\t너무재밓었다그래서보는것을추천한다\t0\n",
            "9045019\t교도소 이야기구먼 ..솔직히 재미는 없다..평점 조정\t0\n",
            "6483659\t사이몬페그의 익살스런 연기가 돋보였던 영화!스파이더맨에서 늙어보이기만 했던 커스틴 던스트가 너무나도 이뻐보였다\t1\n",
            "5403919\t막 걸음마 뗀 3세부터 초등학교 1학년생인 8살용영화.ㅋㅋㅋ...별반개도 아까움.\t0\n",
            "7797314\t원작의\n"
          ],
          "name": "stdout"
        }
      ]
    },
    {
      "cell_type": "code",
      "metadata": {
        "colab": {
          "base_uri": "https://localhost:8080/"
        },
        "id": "ldwKy5atilwn",
        "outputId": "cab68408-11f7-4dcc-9fbe-191dc5065c55"
      },
      "source": [
        "# 학습을 위한 정답 데이터(Y) 만들기\r\n",
        "train_Y = np.array([[int(row.split('\\t')[2])] for row in train_text.split('\\n')[1:] if row.count('\\t') > 0])\r\n",
        "test_Y = np.array([[int(row.split('\\t')[2])] for row in test_text.split('\\n')[1:] if row.count('\\t') > 0])\r\n",
        "\r\n",
        "print(train_Y.shape, test_Y.shape)\r\n",
        "print(train_Y[:5])"
      ],
      "execution_count": null,
      "outputs": [
        {
          "output_type": "stream",
          "text": [
            "(150000, 1) (50000, 1)\n",
            "[[0]\n",
            " [1]\n",
            " [0]\n",
            " [0]\n",
            " [1]]\n"
          ],
          "name": "stdout"
        }
      ]
    },
    {
      "cell_type": "code",
      "metadata": {
        "colab": {
          "base_uri": "https://localhost:8080/"
        },
        "id": "yt5MypB3itvq",
        "outputId": "a8dfb53a-8959-43df-a8a4-5e4fe1a21d7b"
      },
      "source": [
        "# rain data의 입력(X)에 대한 정제(Cleaning)\r\n",
        "import re\r\n",
        "# From https://github.com/yoonkim/CNN_sentence/blob/master/process_data.py\r\n",
        "def clean_str(string):    \r\n",
        "    string = re.sub(r\"[^가-힣A-Za-z0-9(),!?\\'\\`]\", \" \", string)\r\n",
        "    string = re.sub(r\"\\'s\", \" \\'s\", string)\r\n",
        "    string = re.sub(r\"\\'ve\", \" \\'ve\", string)\r\n",
        "    string = re.sub(r\"n\\'t\", \" n\\'t\", string)\r\n",
        "    string = re.sub(r\"\\'re\", \" \\'re\", string)\r\n",
        "    string = re.sub(r\"\\'d\", \" \\'d\", string)\r\n",
        "    string = re.sub(r\"\\'ll\", \" \\'ll\", string)\r\n",
        "    string = re.sub(r\",\", \" , \", string)\r\n",
        "    string = re.sub(r\"!\", \" ! \", string)\r\n",
        "    string = re.sub(r\"\\(\", \" \\( \", string)\r\n",
        "    string = re.sub(r\"\\)\", \" \\) \", string)\r\n",
        "    string = re.sub(r\"\\?\", \" \\? \", string)\r\n",
        "    string = re.sub(r\"\\s{2,}\", \" \", string)\r\n",
        "    string = re.sub(r\"\\'{2,}\", \"\\'\", string)\r\n",
        "    string = re.sub(r\"\\'\", \"\", string)\r\n",
        "\r\n",
        "    return string.lower()\r\n",
        "\r\n",
        "\r\n",
        "train_text_X = [row.split('\\t')[1] for row in train_text.split('\\n')[1:] if row.count('\\t') > 0]\r\n",
        "train_text_X = [clean_str(sentence) for sentence in train_text_X]\r\n",
        "# 문장을 띄어쓰기 단위로 단어 분리\r\n",
        "sentences = [sentence.split(' ') for sentence in train_text_X]\r\n",
        "\r\n",
        "\r\n",
        "# train 데이터의 처음 5개로 잘 되었나 확인\r\n",
        "for i in range(5):\r\n",
        "    print(sentences[i])"
      ],
      "execution_count": null,
      "outputs": [
        {
          "output_type": "stream",
          "text": [
            "['아', '더빙', '진짜', '짜증나네요', '목소리']\n",
            "['흠', '포스터보고', '초딩영화줄', '오버연기조차', '가볍지', '않구나']\n",
            "['너무재밓었다그래서보는것을추천한다']\n",
            "['교도소', '이야기구먼', '솔직히', '재미는', '없다', '평점', '조정']\n",
            "['사이몬페그의', '익살스런', '연기가', '돋보였던', '영화', '!', '스파이더맨에서', '늙어보이기만', '했던', '커스틴', '던스트가', '너무나도', '이뻐보였다']\n"
          ],
          "name": "stdout"
        }
      ]
    },
    {
      "cell_type": "code",
      "metadata": {
        "colab": {
          "base_uri": "https://localhost:8080/",
          "height": 282
        },
        "id": "-TBQ5VVxi_RO",
        "outputId": "448f8cdf-68ae-43e2-d06e-d76180c5f355"
      },
      "source": [
        "# 네트워크에 입력하기 위한 데이터의 크기는 동일해야하므로\r\n",
        "# 각 문장의 단어 길이 확인\r\n",
        "import matplotlib.pyplot as plt\r\n",
        "sentence_len = [len(sentence) for sentence in sentences]\r\n",
        "plt.plot(sentence_len)\r\n",
        "plt.show()\r\n",
        "\r\n",
        "print(sum([int(l<=25) for l in sentence_len]))"
      ],
      "execution_count": null,
      "outputs": [
        {
          "output_type": "display_data",
          "data": {
            "image/png": "[encoded data removed]",
            "text/plain": [
              "<Figure size 432x288 with 1 Axes>"
            ]
          },
          "metadata": {
            "tags": [],
            "needs_background": "light"
          }
        },
        {
          "output_type": "stream",
          "text": [
            "142587\n"
          ],
          "name": "stdout"
        }
      ]
    },
    {
      "cell_type": "markdown",
      "metadata": {
        "id": "Uxbd78lZd-a7"
      },
      "source": [
        "- 대부분 40 단어 이하로 구성 되어있음을 확인"
      ]
    },
    {
      "cell_type": "code",
      "metadata": {
        "id": "Uc98kprG4CZk",
        "colab": {
          "base_uri": "https://localhost:8080/"
        },
        "outputId": "aa0595ae-65e3-4701-a382-796f4ca786be"
      },
      "source": [
        "# 단어 정제 및 문장 길이 줄임\r\n",
        "sentences_new = []\r\n",
        "for sentence in sentences:\r\n",
        "  sentences_new.append([word[:5] for word in sentence][: 25]) # 단어 길이 최대 다섯 글자로 줄이기\r\n",
        "sentences = sentences_new\r\n",
        "for i in range(5) :\r\n",
        "  print(sentences[i])"
      ],
      "execution_count": null,
      "outputs": [
        {
          "output_type": "stream",
          "text": [
            "['아', '더빙', '진짜', '짜증나네요', '목소리']\n",
            "['흠', '포스터보고', '초딩영화줄', '오버연기조', '가볍지', '않구나']\n",
            "['너무재밓었']\n",
            "['교도소', '이야기구먼', '솔직히', '재미는', '없다', '평점', '조정']\n",
            "['사이몬페그', '익살스런', '연기가', '돋보였던', '영화', '!', '스파이더맨', '늙어보이기', '했던', '커스틴', '던스트가', '너무나도', '이뻐보였다']\n"
          ],
          "name": "stdout"
        }
      ]
    },
    {
      "cell_type": "code",
      "metadata": {
        "colab": {
          "base_uri": "https://localhost:8080/"
        },
        "id": "xu6ZNaBDerLy",
        "outputId": "494f3dce-a9ad-459a-d3b0-19c2a2e1f388"
      },
      "source": [
        "#Tokenizer 와 pad_sequences 를 사용한 문장 전처리\r\n",
        "from tensorflow.keras.preprocessing.text import Tokenizer\r\n",
        "from tensorflow.keras.preprocessing.sequence import pad_sequences\r\n",
        "\r\n",
        "tokenizer = Tokenizer(num_words= 20000) \r\n",
        "# Tokenizer 는 데이터에 출현하는 모든 단어의 개수를 세고 빈도 수로 정렬해서 \r\n",
        "# num_words 에 지정된 만큼만 숫자로 반환하고, 나머지는 0 으로 반환합니다\r\n",
        "tokenizer.fit_on_texts(sentences)                 # Tokenizer 에 데이터 실제로 입력\r\n",
        "train_X = tokenizer.texts_to_sequences(sentences) # 문장을 입력받아 숫자를 반환합니다\r\n",
        "train_X = pad_sequences(train_X, padding= 'post') # 입력된 데이터에 패딩을 더합니다 .\r\n",
        " \r\n",
        "print(train_X[:5])"
      ],
      "execution_count": null,
      "outputs": [
        {
          "output_type": "stream",
          "text": [
            "[[   25   884     8  5795  1111     0     0     0     0     0     0     0\n",
            "      0     0     0     0     0     0     0     0     0     0     0     0\n",
            "      0]\n",
            " [  588  5796  6697     0     0     0     0     0     0     0     0     0\n",
            "      0     0     0     0     0     0     0     0     0     0     0     0\n",
            "      0]\n",
            " [    0     0     0     0     0     0     0     0     0     0     0     0\n",
            "      0     0     0     0     0     0     0     0     0     0     0     0\n",
            "      0]\n",
            " [   71   346    31    35 10468     0     0     0     0     0     0     0\n",
            "      0     0     0     0     0     0     0     0     0     0     0     0\n",
            "      0]\n",
            " [  106  5338     4     2  2169   869   573     0     0     0     0     0\n",
            "      0     0     0     0     0     0     0     0     0     0     0     0\n",
            "      0]]\n"
          ],
          "name": "stdout"
        }
      ]
    },
    {
      "cell_type": "code",
      "metadata": {
        "colab": {
          "base_uri": "https://localhost:8080/"
        },
        "id": "DQbB8C5KfilJ",
        "outputId": "a7fa698f-b361-49d3-d6f2-846178c8b5a6"
      },
      "source": [
        "# 감성 분석을 위한 모델 정의\r\n",
        "model = tf.keras.Sequential([tf.keras.layers.Embedding(20000, 300, input_length= 25),\r\n",
        "                             tf.keras.layers.LSTM(units=50),\r\n",
        "                             tf.keras.layers.Dense(2, activation='softmax')\r\n",
        "])\r\n",
        "model.compile(optimizer='adam', loss='sparse_categorical_crossentropy', metrics=['accuracy'])\r\n",
        "model.summary()\r\n",
        "\r\n",
        "  ## 네트워크의 loss 는 'sparse_categorical_crossentropy 를 사용. \r\n",
        "  ## 여러 개의 정답 중 하나를 맞추는 분류 문제일 때 categorical_crossentropy 를 사용하고 , sparse 는 정답인 Y 가 희소 행렬일 때 사용"
      ],
      "execution_count": null,
      "outputs": [
        {
          "output_type": "stream",
          "text": [
            "Model: \"sequential_1\"\n",
            "_________________________________________________________________\n",
            "Layer (type)                 Output Shape              Param #   \n",
            "=================================================================\n",
            "embedding_1 (Embedding)      (None, 25, 300)           6000000   \n",
            "_________________________________________________________________\n",
            "lstm_1 (LSTM)                (None, 50)                70200     \n",
            "_________________________________________________________________\n",
            "dense_1 (Dense)              (None, 2)                 102       \n",
            "=================================================================\n",
            "Total params: 6,070,302\n",
            "Trainable params: 6,070,302\n",
            "Non-trainable params: 0\n",
            "_________________________________________________________________\n"
          ],
          "name": "stdout"
        }
      ]
    },
    {
      "cell_type": "code",
      "metadata": {
        "colab": {
          "base_uri": "https://localhost:8080/"
        },
        "id": "EGWOhbdeicSa",
        "outputId": "5e5e4750-0779-49b0-d395-d2e37e1ebd8a"
      },
      "source": [
        "print(train_X.shape)\r\n",
        "print(train_Y.shape)"
      ],
      "execution_count": null,
      "outputs": [
        {
          "output_type": "stream",
          "text": [
            "(150000, 25)\n",
            "(150000, 1)\n"
          ],
          "name": "stdout"
        }
      ]
    },
    {
      "cell_type": "code",
      "metadata": {
        "colab": {
          "base_uri": "https://localhost:8080/"
        },
        "id": "rWIypHO6haVV",
        "outputId": "9633e37b-10b4-43f3-8d95-89d7db096464"
      },
      "source": [
        "# 감성 분석 모델 학습\r\n",
        "history = model.fit(train_X, train_Y, epochs= 5, batch_size= 128, validation_split= 0.2)\r\n",
        "  ## 데이터가 많기 때문에 한번에 학습하는 데이터의 양인 batch_size 를 128 로 설정했고 , 5 에폭만 학습을"
      ],
      "execution_count": null,
      "outputs": [
        {
          "output_type": "stream",
          "text": [
            "Epoch 1/5\n",
            "938/938 [==============================] - 117s 123ms/step - loss: 0.5157 - accuracy: 0.7103 - val_loss: 0.3871 - val_accuracy: 0.8125\n",
            "Epoch 2/5\n",
            "938/938 [==============================] - 113s 120ms/step - loss: 0.3166 - accuracy: 0.8522 - val_loss: 0.3913 - val_accuracy: 0.8216\n",
            "Epoch 3/5\n",
            "938/938 [==============================] - 114s 121ms/step - loss: 0.2616 - accuracy: 0.8747 - val_loss: 0.4179 - val_accuracy: 0.8132\n",
            "Epoch 4/5\n",
            "938/938 [==============================] - 114s 122ms/step - loss: 0.2126 - accuracy: 0.8968 - val_loss: 0.4945 - val_accuracy: 0.8103\n",
            "Epoch 5/5\n",
            "938/938 [==============================] - 113s 121ms/step - loss: 0.1844 - accuracy: 0.9084 - val_loss: 0.5417 - val_accuracy: 0.8100\n"
          ],
          "name": "stdout"
        }
      ]
    },
    {
      "cell_type": "code",
      "metadata": {
        "colab": {
          "base_uri": "https://localhost:8080/",
          "height": 287
        },
        "id": "Fyg0OJUXip4u",
        "outputId": "562da2a6-b7a6-4aac-deff-b22152b28c9a"
      },
      "source": [
        "# 감성 분석 모델 학습 결과 확인\r\n",
        "import matplotlib.pyplot as plt\r\n",
        "plt.figure(figsize=(12, 4))\r\n",
        "\r\n",
        "plt.subplot(1, 2, 1)\r\n",
        "plt.plot(history.history['loss'], 'b-', label='loss')\r\n",
        "plt.plot(history.history['val_loss'],'r--', label='val_loss')\r\n",
        "plt.xlabel('Epoch')\r\n",
        "plt.legend()\r\n",
        "\r\n",
        "plt.subplot(1, 2, 2)\r\n",
        "plt.plot(history.history['accuracy'], 'g-', label='accuracy')\r\n",
        "plt.plot(history.history['val_accuracy'],'k--', label='val_accuracy')\r\n",
        "plt.xlabel('Epoch')\r\n",
        "plt.ylim(0.7, 1)\r\n",
        "plt.legend()\r\n",
        "plt.show"
      ],
      "execution_count": null,
      "outputs": [
        {
          "output_type": "execute_result",
          "data": {
            "text/plain": [
              "<function matplotlib.pyplot.show>"
            ]
          },
          "metadata": {
            "tags": []
          },
          "execution_count": 17
        },
        {
          "output_type": "display_data",
          "data": {
            "image/png": "[encoded data removed]",
            "text/plain": [
              "<Figure size 864x288 with 2 Axes>"
            ]
          },
          "metadata": {
            "tags": [],
            "needs_background": "light"
          }
        }
      ]
    },
    {
      "cell_type": "code",
      "metadata": {
        "colab": {
          "base_uri": "https://localhost:8080/"
        },
        "id": "jOiD-WjPjbaz",
        "outputId": "456df9e0-e452-4bb5-9212-0b416fdb0652"
      },
      "source": [
        "# 테스트 데이터 평가\r\n",
        "test_text_X = [row.split('\\t')[1] for row in test_text.split('\\n')[1:] if row.count('\\t') > 0]\r\n",
        "test_text_X = [clean_str(sentence) for sentence in test_text_X]\r\n",
        "sentences = [sentence.split(' ') for sentence in test_text_X]\r\n",
        "sentences_new = []\r\n",
        "for sentence in sentences:\r\n",
        "  sentences_new.append([word[:5] for word in sentence][:25])\r\n",
        "sentences = sentences_new\r\n",
        "\r\n",
        "test_X = tokenizer.texts_to_sequences(sentences) #훈련데이터와는 다르게 테스트 데이터에서는 어떤 단어가 나타날지 모르기 때문에 Tokenizer 는 훈련 데이터로만 학습 시켜야 합니다 .\r\n",
        "test_X = pad_sequences(test_X, padding='post')\r\n",
        "\r\n",
        "model.evaluate(test_X, test_Y, verbose= 0)"
      ],
      "execution_count": null,
      "outputs": [
        {
          "output_type": "execute_result",
          "data": {
            "text/plain": [
              "[0.5600625276565552, 0.8009799718856812]"
            ]
          },
          "metadata": {
            "tags": []
          },
          "execution_count": 20
        }
      ]
    },
    {
      "cell_type": "markdown",
      "metadata": {
        "id": "8XAiNidV4A1R"
      },
      "source": [
        "# E.O.D"
      ]
    }
  ]
}