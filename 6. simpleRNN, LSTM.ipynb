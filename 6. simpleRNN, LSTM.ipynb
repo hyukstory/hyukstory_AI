{
  "nbformat": 4,
  "nbformat_minor": 0,
  "metadata": {
    "colab": {
      "name": "simple RNN, LSTM",
      "provenance": [],
      "toc_visible": true,
      "include_colab_link": true
    },
    "kernelspec": {
      "name": "python3",
      "display_name": "Python 3"
    },
    "accelerator": "GPU"
  },
  "cells": [
    {
      "cell_type": "markdown",
      "metadata": {
        "id": "view-in-github",
        "colab_type": "text"
      },
      "source": [
        "<a href=\"https://colab.research.google.com/github/hyukstory/hyukstory_AI/blob/main/6.%20simpleRNN%2C%20LSTM.ipynb\" target=\"_parent\"><img src=\"https://colab.research.google.com/assets/colab-badge.svg\" alt=\"Open In Colab\"/></a>"
      ]
    },
    {
      "cell_type": "code",
      "metadata": {
        "id": "mDYTs6BG5_nl"
      },
      "source": [
        "import tensorflow as tf\r\n",
        "import numpy as np"
      ],
      "execution_count": null,
      "outputs": []
    },
    {
      "cell_type": "code",
      "metadata": {
        "id": "AkkS4_DNoBgB"
      },
      "source": [
        "rnn1 = tf.keras.layers.SimpleRNN(units=1, activation='tanh', return_sequences=True)"
      ],
      "execution_count": null,
      "outputs": []
    },
    {
      "cell_type": "code",
      "metadata": {
        "colab": {
          "base_uri": "https://localhost:8080/"
        },
        "id": "Ez3RipLdoDVh",
        "outputId": "ed0e6927-ca78-4be3-94bd-abfbdf97b29b"
      },
      "source": [
        "#시퀀스 예측 데이터 생성\r\n",
        "X = []\r\n",
        "Y = []\r\n",
        "for i in range(6):\r\n",
        "    # [0,1,2,3], [1,2,3,4] 같은 정수의 시퀀스를 만듭니다.\r\n",
        "    lst = list(range(i,i+4))\r\n",
        "\r\n",
        "    # 위에서 구한 시퀀스의 숫자들을 각각 10으로 나눈 다음 저장합니다.\r\n",
        "    # SimpleRNN 에 각 타임스텝에 하나씩 숫자가 들어가기 때문에 여기서도 하나씩 분리해서 배열에 저장합니다.\r\n",
        "    X.append(list(map(lambda c: [c/10], lst)))\r\n",
        "\r\n",
        "    # 정답에 해당하는 4, 5 등의 정수를 역시 위처럼 10으로 나눠서 저장합니다.\r\n",
        "    Y.append((i+4)/10)\r\n",
        "    \r\n",
        "X = np.array(X)\r\n",
        "Y = np.array(Y)\r\n",
        "for i in range(len(X)):\r\n",
        "    print(X[i], Y[i])"
      ],
      "execution_count": null,
      "outputs": [
        {
          "output_type": "stream",
          "text": [
            "[[0. ]\n",
            " [0.1]\n",
            " [0.2]\n",
            " [0.3]] 0.4\n",
            "[[0.1]\n",
            " [0.2]\n",
            " [0.3]\n",
            " [0.4]] 0.5\n",
            "[[0.2]\n",
            " [0.3]\n",
            " [0.4]\n",
            " [0.5]] 0.6\n",
            "[[0.3]\n",
            " [0.4]\n",
            " [0.5]\n",
            " [0.6]] 0.7\n",
            "[[0.4]\n",
            " [0.5]\n",
            " [0.6]\n",
            " [0.7]] 0.8\n",
            "[[0.5]\n",
            " [0.6]\n",
            " [0.7]\n",
            " [0.8]] 0.9\n"
          ],
          "name": "stdout"
        }
      ]
    },
    {
      "cell_type": "code",
      "metadata": {
        "colab": {
          "base_uri": "https://localhost:8080/"
        },
        "id": "goiefhTkoHmD",
        "outputId": "f8adb969-928a-4398-fc17-4336a1d43520"
      },
      "source": [
        "#시퀀스 예측 모델 정의\r\n",
        "model = tf.keras.Sequential([\r\n",
        "    tf.keras.layers.SimpleRNN(units=10, return_sequences=False, input_shape=[4,1]),\r\n",
        "    tf.keras.layers.Dense(1)\r\n",
        "])\r\n",
        "\r\n",
        "model.compile(optimizer='adam', loss='mse')\r\n",
        "model.summary()"
      ],
      "execution_count": null,
      "outputs": [
        {
          "output_type": "stream",
          "text": [
            "Model: \"sequential\"\n",
            "_________________________________________________________________\n",
            "Layer (type)                 Output Shape              Param #   \n",
            "=================================================================\n",
            "simple_rnn_1 (SimpleRNN)     (None, 10)                120       \n",
            "_________________________________________________________________\n",
            "dense (Dense)                (None, 1)                 11        \n",
            "=================================================================\n",
            "Total params: 131\n",
            "Trainable params: 131\n",
            "Non-trainable params: 0\n",
            "_________________________________________________________________\n"
          ],
          "name": "stdout"
        }
      ]
    },
    {
      "cell_type": "code",
      "metadata": {
        "colab": {
          "base_uri": "https://localhost:8080/"
        },
        "id": "EjM5SVNRoLY0",
        "outputId": "cbd04166-988a-40ea-a0a1-b9f7af1fb081"
      },
      "source": [
        "model.fit(X, Y, epochs=100, verbose=0)\r\n",
        "print(model.predict(X))"
      ],
      "execution_count": null,
      "outputs": [
        {
          "output_type": "stream",
          "text": [
            "[[0.38479674]\n",
            " [0.500463  ]\n",
            " [0.609256  ]\n",
            " [0.71003497]\n",
            " [0.80238295]\n",
            " [0.8864037 ]]\n"
          ],
          "name": "stdout"
        }
      ]
    },
    {
      "cell_type": "code",
      "metadata": {
        "colab": {
          "base_uri": "https://localhost:8080/"
        },
        "id": "S4LbWMZXoNoN",
        "outputId": "6fc33761-1be7-4228-db3a-e549154af485"
      },
      "source": [
        "#학습되지 않은 시퀀스에 대한 예측 결과\r\n",
        "print(model.predict(np.array([[[0.6],[0.7],[0.8],[0.9]]])))\r\n",
        "print(model.predict(np.array([[[-0.1],[0.0],[0.1],[0.2]]])))"
      ],
      "execution_count": null,
      "outputs": [
        {
          "output_type": "stream",
          "text": [
            "[[0.96250856]]\n",
            "[[0.2641778]]\n"
          ],
          "name": "stdout"
        }
      ]
    },
    {
      "cell_type": "code",
      "metadata": {
        "id": "LZKgUqOKoPfS"
      },
      "source": [
        "import numpy as np\r\n",
        "import matplotlib.pyplot as plt\r\n",
        "from tensorflow.keras.models import Sequential\r\n",
        "from tensorflow.keras.layers import Flatten, Dense, LSTM, SimpleRNN\r\n",
        "\r\n",
        "# time step만큼 시퀀스 데이터 분리\r\n",
        "def split_sequence(sequence, step):\r\n",
        "    x, y = list(), list()\r\n",
        "\r\n",
        "    for i in range(len(sequence)):\r\n",
        "        end_idx = i + step\r\n",
        "        if end_idx > len(sequence) - 1:\r\n",
        "            break\r\n",
        "\r\n",
        "        seq_x, seq_y = sequence[i:end_idx], sequence[end_idx]\r\n",
        "        x.append(seq_x)\r\n",
        "        y.append(seq_y)\r\n",
        "\r\n",
        "    return np.array(x), np.array(y)\r\n",
        "\r\n",
        "\r\n",
        "# sin 함수 학습 데이터\r\n",
        "x = [i for i in np.arange(start=-10, stop=10, step=0.1)]\r\n",
        "train_y = [np.sin(i) for i in x]\r\n",
        "\r\n",
        "# 하이퍼파라미터\r\n",
        "n_timesteps = 15\r\n",
        "n_features = 1\r\n",
        "\r\n",
        "# 시퀀스 나누기\r\n",
        "# train_x.shape => (samples, timesteps)\r\n",
        "# train_y.shape => (samples)\r\n",
        "train_x, train_y = split_sequence(train_y, step=n_timesteps)\r\n",
        "print(\"shape x:{} / y:{}\".format(train_x.shape, train_y.shape))\r\n",
        "\r\n",
        "# RNN 입력 벡터 크기를 맞추기 위해 벡터 차원 크기 변경\r\n",
        "# reshape from [samples, timesteps] into [samples, timesteps, features]\r\n",
        "train_x = train_x.reshape(train_x.shape[0], train_x.shape[1], n_features)\r\n",
        "print(\"train_x.shape = {}\".format(train_x.shape))\r\n",
        "print(\"train_y.shape = {}\".format(train_y.shape))\r\n",
        "\r\n",
        "# RNN 모델 정의\r\n",
        "model = Sequential()\r\n",
        "model.add(SimpleRNN(units=10, return_sequences=False, input_shape=(n_timesteps, n_features)))\r\n",
        "model.add(Dense(1))\r\n",
        "model.compile(optimizer='adam', loss='mse')\r\n",
        "\r\n",
        "# 모델 학습\r\n",
        "np.random.seed(0)\r\n",
        "from tensorflow.keras.callbacks import EarlyStopping\r\n",
        "early_stopping = EarlyStopping(monitor='loss', patience=5, mode='auto')\r\n",
        "history = model.fit(train_x, train_y, epochs=1000, callbacks=[early_stopping])\r\n",
        "\r\n",
        "# loss 그래프 생성\r\n",
        "plt.plot(history.history['loss'], label=\"loss\")\r\n",
        "plt.legend(loc=\"upper right\")\r\n",
        "plt.show()\r\n",
        "\r\n",
        "# 테스트 데이터셋 생성\r\n",
        "test_x = np.arange(10, 20, 0.1)\r\n",
        "calc_y = np.cos(test_x) # 테스트 정답 데이터\r\n",
        "\r\n",
        "# RNN 모델 예측 및 로그 저장\r\n",
        "test_y = calc_y[:n_timesteps]\r\n",
        "for i in range(len(test_x) - n_timesteps):\r\n",
        "    net_input = test_y[i : i + n_timesteps]\r\n",
        "    net_input = net_input.reshape((1, n_timesteps, n_features))\r\n",
        "    train_y = model.predict(net_input, verbose=0)\r\n",
        "    print(test_y.shape, train_y.shape, i, i + n_timesteps)\r\n",
        "    test_y = np.append(test_y, train_y)\r\n",
        "\r\n",
        "# 예측 결과 그래프 그리기\r\n",
        "plt.plot(test_x, calc_y, label=\"ground truth\", color=\"orange\")\r\n",
        "plt.plot(test_x, test_y, label=\"predicitons\", color=\"blue\")\r\n",
        "plt.legend(loc='upper left')\r\n",
        "plt.ylim(-2, 2)\r\n",
        "plt.show()"
      ],
      "execution_count": null,
      "outputs": []
    },
    {
      "cell_type": "markdown",
      "metadata": {
        "id": "JUG-HVEaNVvR"
      },
      "source": [
        "# simple RNN 과적합 확인"
      ]
    },
    {
      "cell_type": "code",
      "metadata": {
        "id": "p0cA7g_uOcl2"
      },
      "source": [
        "import numpy as np\r\n",
        "import tensorflow as tf"
      ],
      "execution_count": null,
      "outputs": []
    },
    {
      "cell_type": "code",
      "metadata": {
        "id": "KkE7YDjkNbA2"
      },
      "source": [
        "# 곱셉 문제 데이터 생성\r\n",
        "X = []\r\n",
        "Y = []\r\n",
        "for i in range(3000) :\r\n",
        "  # 0 ~ 1 사이의 랜덤한 숫자 100개를 만듭니다\r\n",
        "  lst = np.random.rand(100)\r\n",
        "  # 마킹할 숫자 2개의인덱스를 뽑습니다.\r\n",
        "  idx = np.random.choice(100,2,replace = False) \r\n",
        "  # 마킹 인덱스가 저장된 원-핫 인코딩 벡터를 만듭니다\r\n",
        "  zeros = np.zeros(100)\r\n",
        "  zeros[idx] = 1\r\n",
        "  # 마킹 인덱스와 랜덤한 숫자를 합쳐서 X에 저장합니다.\r\n",
        "  X.append(np.array(list(zip(zeros, lst))))\r\n",
        "  # 마킹 인덱스가 1인 값들만 서로 곱해서 Y에 저장합니다\r\n",
        "  Y.append(np.prod(lst[idx]))\r\n",
        "\r\n",
        "print(X[0], Y[0])"
      ],
      "execution_count": null,
      "outputs": []
    },
    {
      "cell_type": "code",
      "metadata": {
        "colab": {
          "base_uri": "https://localhost:8080/"
        },
        "id": "5GPStijwOuWU",
        "outputId": "3142fadd-dac9-4f4d-c382-8bd6846b04e3"
      },
      "source": [
        "# simpleRNN 레이어를 사용한 곱셈 문제 모델 정의\r\n",
        "\r\n",
        "model = tf.keras.Sequential([tf.keras.layers.SimpleRNN(units = 30, return_sequences = True, input_shape = [100,2]),\r\n",
        "                             tf.keras.layers.SimpleRNN(units = 30),\r\n",
        "                             tf.keras.layers.Dense(1)\r\n",
        "])\r\n",
        "\r\n",
        "model.compile(optimizer = 'adam', loss = 'mse')\r\n",
        "model.summary()"
      ],
      "execution_count": null,
      "outputs": [
        {
          "output_type": "stream",
          "text": [
            "Model: \"sequential\"\n",
            "_________________________________________________________________\n",
            "Layer (type)                 Output Shape              Param #   \n",
            "=================================================================\n",
            "simple_rnn (SimpleRNN)       (None, 100, 30)           990       \n",
            "_________________________________________________________________\n",
            "simple_rnn_1 (SimpleRNN)     (None, 30)                1830      \n",
            "_________________________________________________________________\n",
            "dense (Dense)                (None, 1)                 31        \n",
            "=================================================================\n",
            "Total params: 2,851\n",
            "Trainable params: 2,851\n",
            "Non-trainable params: 0\n",
            "_________________________________________________________________\n"
          ],
          "name": "stdout"
        }
      ]
    },
    {
      "cell_type": "code",
      "metadata": {
        "id": "odWN3oDsP9rI"
      },
      "source": [
        "# SimpleRNN 네트워크 학습\r\n",
        "X = np.array(X)\r\n",
        "Y = np.array(Y)\r\n",
        "\r\n",
        "# 2560개의 데이터만 학습시킵니다. validation 데이터는 20% 로 지정합니다.\r\n",
        "history = model.fit(X[:2560], Y[:2560], epochs = 100, validation_split = 0.2)"
      ],
      "execution_count": null,
      "outputs": []
    },
    {
      "cell_type": "code",
      "metadata": {
        "colab": {
          "base_uri": "https://localhost:8080/",
          "height": 281
        },
        "id": "jIPmT9HxR4WB",
        "outputId": "93505353-f7f9-4ff6-bafc-429b6f21b7b5"
      },
      "source": [
        "#SimpleRNN 네트워크 학습 결과 확인\r\n",
        "import matplotlib.pyplot as plt\r\n",
        "plt.plot(history.history['loss'],'b-', label='loss')\r\n",
        "plt.plot(history.history['val_loss'],'r--', label='val_loss')\r\n",
        "plt.xlabel('Epoch')\r\n",
        "plt.legend()\r\n",
        "plt.show()"
      ],
      "execution_count": null,
      "outputs": [
        {
          "output_type": "display_data",
          "data": {
            "image/png": "[encoded data removed]",
            "text/plain": [
              "<Figure size 432x288 with 1 Axes>"
            ]
          },
          "metadata": {
            "tags": [],
            "needs_background": "light"
          }
        }
      ]
    },
    {
      "cell_type": "code",
      "metadata": {
        "colab": {
          "base_uri": "https://localhost:8080/"
        },
        "id": "61t7mUqgT0pT",
        "outputId": "c5cce26f-0a09-42c2-a56c-45bf852b183c"
      },
      "source": [
        "# Test 데이터에 대한 예측 정확도 확인\r\n",
        "model.evaluate(X[2560:], Y[2560:])\r\n",
        "prediction = model.predict(X[2560:2560+5])\r\n",
        "\r\n",
        "# 5개 테스트 데이터에 대한 예측을 표시합니다.\r\n",
        "for i in range(5) :\r\n",
        "  print(Y[2560+i], '\\t', prediction[i][0], '\\tdiff:', abs(prediction[i][0] - Y[2560 + i]))\r\n",
        "\r\n",
        "prediction = model.predict(X[2560:])\r\n",
        "fail = 0\r\n",
        "for i in range(len(prediction)) :\r\n",
        "  # 오차가 0.04 이상이면 오답입니다.\r\n",
        "  if abs(prediction[i][0] - Y[2560 + i]) > 0.04 :\r\n",
        "    fail += 1\r\n",
        "\r\n",
        "print('correctness :', (440 - fail) / 440 * 100, '%')"
      ],
      "execution_count": null,
      "outputs": [
        {
          "output_type": "stream",
          "text": [
            "14/14 [==============================] - 0s 14ms/step - loss: 0.0619\n",
            "0.005193700163536657 \t 0.22309142 \tdiff: 0.21789772334796847\n",
            "0.3893051113781547 \t 0.48328 \tdiff: 0.09397489169267659\n",
            "0.26236588274342565 \t 0.17115045 \tdiff: 0.0912154368053153\n",
            "0.44233249558256743 \t 0.19483061 \tdiff: 0.24750188423441527\n",
            "0.02590214352724012 \t 0.25726438 \tdiff: 0.23136223215940538\n",
            "correctness : 12.727272727272727 %\n"
          ],
          "name": "stdout"
        }
      ]
    },
    {
      "cell_type": "markdown",
      "metadata": {
        "id": "HoxODA-xZVyv"
      },
      "source": [
        "# LSTM "
      ]
    },
    {
      "cell_type": "code",
      "metadata": {
        "colab": {
          "base_uri": "https://localhost:8080/"
        },
        "id": "fUR38Mg4ZVb_",
        "outputId": "9635f0c6-cedc-44b8-efee-8c7d830fd045"
      },
      "source": [
        "# LSTM 레이어를 사용한 곱셈 문제 모델 정의\r\n",
        "\r\n",
        "model = tf.keras.Sequential([tf.keras.layers.LSTM(units = 30, return_sequences = True, input_shape = [100,2]),\r\n",
        "                             tf.keras.layers.LSTM(units = 30),\r\n",
        "                             tf.keras.layers.Dense(1)\r\n",
        "])\r\n",
        "\r\n",
        "model.compile(optimizer = 'adam', loss = 'mse')\r\n",
        "model.summary()"
      ],
      "execution_count": null,
      "outputs": [
        {
          "output_type": "stream",
          "text": [
            "Model: \"sequential_1\"\n",
            "_________________________________________________________________\n",
            "Layer (type)                 Output Shape              Param #   \n",
            "=================================================================\n",
            "lstm (LSTM)                  (None, 100, 30)           3960      \n",
            "_________________________________________________________________\n",
            "lstm_1 (LSTM)                (None, 30)                7320      \n",
            "_________________________________________________________________\n",
            "dense_1 (Dense)              (None, 1)                 31        \n",
            "=================================================================\n",
            "Total params: 11,311\n",
            "Trainable params: 11,311\n",
            "Non-trainable params: 0\n",
            "_________________________________________________________________\n"
          ],
          "name": "stdout"
        }
      ]
    },
    {
      "cell_type": "code",
      "metadata": {
        "id": "NEOE9l_tZi8r"
      },
      "source": [
        "# LSTM 네트워크 학습\r\n",
        "X = np.array(X)\r\n",
        "Y = np.array(Y)\r\n",
        "\r\n",
        "# 2560개의 데이터만 학습시킵니다. validation 데이터는 20% 로 지정합니다.\r\n",
        "history = model.fit(X[:2560], Y[:2560], epochs = 100, validation_split = 0.2)"
      ],
      "execution_count": null,
      "outputs": []
    },
    {
      "cell_type": "code",
      "metadata": {
        "colab": {
          "base_uri": "https://localhost:8080/",
          "height": 279
        },
        "id": "gRsQmKWZZr0b",
        "outputId": "b6361019-b8ca-4e2b-c888-b77dc2e8d711"
      },
      "source": [
        "#LSTM 네트워크 학습 결과 확인\r\n",
        "import matplotlib.pyplot as plt\r\n",
        "plt.plot(history.history['loss'],'b-', label='loss')\r\n",
        "plt.plot(history.history['val_loss'],'r--', label='val_loss')\r\n",
        "plt.xlabel('Epoch')\r\n",
        "plt.legend()\r\n",
        "plt.show()"
      ],
      "execution_count": null,
      "outputs": [
        {
          "output_type": "display_data",
          "data": {
            "image/png": "[encoded data removed]",
            "text/plain": [
              "<Figure size 432x288 with 1 Axes>"
            ]
          },
          "metadata": {
            "tags": [],
            "needs_background": "light"
          }
        }
      ]
    },
    {
      "cell_type": "code",
      "metadata": {
        "id": "j9wNjB78cXzo",
        "colab": {
          "base_uri": "https://localhost:8080/"
        },
        "outputId": "32143a2c-e490-42f1-8bc9-e25fad7b35c8"
      },
      "source": [
        "# Test 데이터에 대한 예측 정확도 확인\r\n",
        "model.evaluate(X[2560:], Y[2560:])\r\n",
        "prediction = model.predict(X[2560:2560+5])\r\n",
        "\r\n",
        "# 5개 테스트 데이터에 대한 예측을 표시합니다.\r\n",
        "for i in range(5) :\r\n",
        "  print(Y[2560+i], '\\t', prediction[i][0], '\\tdiff:', abs(prediction[i][0] - Y[2560 + i]))\r\n",
        "\r\n",
        "prediction = model.predict(X[2560:])\r\n",
        "fail = 0\r\n",
        "for i in range(len(prediction)) :\r\n",
        "  # 오차가 0.04 이상이면 오답입니다.\r\n",
        "  if abs(prediction[i][0] - Y[2560 + i]) > 0.04 :\r\n",
        "    fail += 1\r\n",
        "\r\n",
        "print('correctness :', (440 - fail) / 440 * 100, '%')"
      ],
      "execution_count": null,
      "outputs": [
        {
          "output_type": "stream",
          "text": [
            "14/14 [==============================] - 1s 6ms/step - loss: 4.2263e-04\n",
            "0.005193700163536657 \t 0.014260411 \tdiff: 0.00906671109897555\n",
            "0.3893051113781547 \t 0.40737194 \tdiff: 0.018066826850452467\n",
            "0.26236588274342565 \t 0.2692334 \tdiff: 0.006867522846631724\n",
            "0.44233249558256743 \t 0.43113726 \tdiff: 0.011195231807695605\n",
            "0.02590214352724012 \t 0.0805248 \tdiff: 0.05462265868070666\n",
            "correctness : 94.54545454545455 %\n"
          ],
          "name": "stdout"
        }
      ]
    },
    {
      "cell_type": "markdown",
      "metadata": {
        "id": "LVGG8wj7UEQt"
      },
      "source": [
        " # E.O.D"
      ]
    }
  ]
}