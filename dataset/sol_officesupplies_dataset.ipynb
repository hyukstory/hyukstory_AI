{
  "nbformat": 4,
  "nbformat_minor": 0,
  "metadata": {
    "kernelspec": {
      "display_name": "Python 3",
      "language": "python",
      "name": "python3"
    },
    "language_info": {
      "codemirror_mode": {
        "name": "ipython",
        "version": 3
      },
      "file_extension": ".py",
      "mimetype": "text/x-python",
      "name": "python",
      "nbconvert_exporter": "python",
      "pygments_lexer": "ipython3",
      "version": "3.7.6"
    },
    "colab": {
      "name": "sol_officesupplies_dataset.ipynb",
      "provenance": [],
      "toc_visible": true
    }
  },
  "cells": [
    {
      "cell_type": "markdown",
      "metadata": {
        "id": "RWWgX3CWBCdW"
      },
      "source": [
        "### 판매 실적 "
      ]
    },
    {
      "cell_type": "markdown",
      "metadata": {
        "id": "MnXXbcGLBCdr"
      },
      "source": [
        "#### 필요한 패키지들을 불러온다:"
      ]
    },
    {
      "cell_type": "code",
      "metadata": {
        "id": "JoC7wNeoBCdt"
      },
      "source": [
        "import pandas as pd\n",
        "import numpy as np\n",
        "import os\n",
        "import matplotlib.pyplot as plt\n",
        "%matplotlib inline"
      ],
      "execution_count": 3,
      "outputs": []
    },
    {
      "cell_type": "markdown",
      "metadata": {
        "id": "swRXmRzYBCdu"
      },
      "source": [
        "#### 데이터 프레임을 읽어 온다:"
      ]
    },
    {
      "cell_type": "code",
      "metadata": {
        "id": "InHUthYrBCdw"
      },
      "source": [
        "df = pd.read_csv('/content/drive/MyDrive/K-DIGITAL/dataset/data_officesupplies.csv')"
      ],
      "execution_count": 4,
      "outputs": []
    },
    {
      "cell_type": "code",
      "metadata": {
        "id": "yf1az9IdBCdx",
        "colab": {
          "base_uri": "https://localhost:8080/"
        },
        "outputId": "3648369f-f873-42f8-b028-9f3ac85988a5"
      },
      "source": [
        "df.shape"
      ],
      "execution_count": 5,
      "outputs": [
        {
          "output_type": "execute_result",
          "data": {
            "text/plain": [
              "(43, 6)"
            ]
          },
          "metadata": {
            "tags": []
          },
          "execution_count": 5
        }
      ]
    },
    {
      "cell_type": "markdown",
      "metadata": {
        "id": "rIsedVk4BCdy"
      },
      "source": [
        "#### 데이터 프레임의 구조를 한눈에 살펴 본다:"
      ]
    },
    {
      "cell_type": "code",
      "metadata": {
        "id": "j6P7qJM5BCdz",
        "colab": {
          "base_uri": "https://localhost:8080/"
        },
        "outputId": "8038c3b6-d9d6-40df-fe67-01f823d50630"
      },
      "source": [
        "df.info()"
      ],
      "execution_count": 6,
      "outputs": [
        {
          "output_type": "stream",
          "text": [
            "<class 'pandas.core.frame.DataFrame'>\n",
            "RangeIndex: 43 entries, 0 to 42\n",
            "Data columns (total 6 columns):\n",
            " #   Column      Non-Null Count  Dtype  \n",
            "---  ------      --------------  -----  \n",
            " 0   OrderDate   43 non-null     object \n",
            " 1   Region      43 non-null     object \n",
            " 2   Rep         43 non-null     object \n",
            " 3   Item        43 non-null     object \n",
            " 4   Units       43 non-null     int64  \n",
            " 5   Unit Price  43 non-null     float64\n",
            "dtypes: float64(1), int64(1), object(4)\n",
            "memory usage: 2.1+ KB\n"
          ],
          "name": "stdout"
        }
      ]
    },
    {
      "cell_type": "markdown",
      "metadata": {
        "id": "G5dYb9OMBCd0"
      },
      "source": [
        "#### 필요한 부분을 슬라이싱 해서 가져온다:"
      ]
    },
    {
      "cell_type": "code",
      "metadata": {
        "id": "5AZvOLpUBCd1"
      },
      "source": [
        "west=df.loc[df.Region =='West','Units']\n",
        "central = df.loc[df.Region =='Central','Units']\n",
        "east = df.loc[df.Region =='East','Units']"
      ],
      "execution_count": 7,
      "outputs": []
    },
    {
      "cell_type": "markdown",
      "metadata": {
        "id": "cc4VD4TyBCd2"
      },
      "source": [
        "#### 다중 박스플롯을 그린다:"
      ]
    },
    {
      "cell_type": "code",
      "metadata": {
        "id": "tk7q-cXKBCd3",
        "colab": {
          "base_uri": "https://localhost:8080/",
          "height": 323
        },
        "outputId": "96582b62-63e3-49f3-e70a-d7a3fb9cefd6"
      },
      "source": [
        "plt.boxplot([west,central,east],False,labels = ['West','Central','East'])        \n",
        "plt.show()"
      ],
      "execution_count": 8,
      "outputs": [
        {
          "output_type": "stream",
          "text": [
            "/usr/local/lib/python3.6/dist-packages/numpy/core/_asarray.py:83: VisibleDeprecationWarning: Creating an ndarray from ragged nested sequences (which is a list-or-tuple of lists-or-tuples-or ndarrays with different lengths or shapes) is deprecated. If you meant to do this, you must specify 'dtype=object' when creating the ndarray\n",
            "  return array(a, dtype, copy=False, order=order)\n"
          ],
          "name": "stderr"
        },
        {
          "output_type": "display_data",
          "data": {
            "image/png": "[encoded data removed]",
            "text/plain": [
              "<Figure size 432x288 with 1 Axes>"
            ]
          },
          "metadata": {
            "tags": [],
            "needs_background": "light"
          }
        }
      ]
    },
    {
      "cell_type": "code",
      "metadata": {
        "id": "VFSC_2PWBCd4",
        "colab": {
          "base_uri": "https://localhost:8080/",
          "height": 265
        },
        "outputId": "c2dd6473-f741-437f-91f2-72bd31a343bf"
      },
      "source": [
        "# 박스플롯 한개만 그려본다.\n",
        "# 시리즈 (배열)의 길이가 서로 다름. 그러므로 한개의 데이터 프레임으로 만들 수 없음!\n",
        "df2 = pd.DataFrame(data={'West':list(west)})\n",
        "df2.plot.box()\n",
        "plt.show()"
      ],
      "execution_count": 9,
      "outputs": [
        {
          "output_type": "display_data",
          "data": {
            "image/png": "[encoded data removed]",
            "text/plain": [
              "<Figure size 432x288 with 1 Axes>"
            ]
          },
          "metadata": {
            "tags": [],
            "needs_background": "light"
          }
        }
      ]
    },
    {
      "cell_type": "markdown",
      "metadata": {
        "id": "puCKtYz6BCd5"
      },
      "source": [
        "#### 또 다른 방법:"
      ]
    },
    {
      "cell_type": "code",
      "metadata": {
        "id": "sMaQWg4DBCd6"
      },
      "source": [
        "my_groups = df.groupby('Region')\n",
        "my_list =[]\n",
        "my_names =[]\n",
        "for name, dfb in my_groups:\n",
        "    my_names += [name]\n",
        "    my_list += [dfb.Units]"
      ],
      "execution_count": 10,
      "outputs": []
    },
    {
      "cell_type": "code",
      "metadata": {
        "id": "b3rjTsL8BCd7",
        "colab": {
          "base_uri": "https://localhost:8080/",
          "height": 323
        },
        "outputId": "af641813-fd14-4d4b-ffdc-1e41ee87fcf6"
      },
      "source": [
        "plt.boxplot( my_list, False, labels =my_names)\n",
        "plt.show()"
      ],
      "execution_count": 11,
      "outputs": [
        {
          "output_type": "stream",
          "text": [
            "/usr/local/lib/python3.6/dist-packages/numpy/core/_asarray.py:83: VisibleDeprecationWarning: Creating an ndarray from ragged nested sequences (which is a list-or-tuple of lists-or-tuples-or ndarrays with different lengths or shapes) is deprecated. If you meant to do this, you must specify 'dtype=object' when creating the ndarray\n",
            "  return array(a, dtype, copy=False, order=order)\n"
          ],
          "name": "stderr"
        },
        {
          "output_type": "display_data",
          "data": {
            "image/png": "[encoded data removed]",
            "text/plain": [
              "<Figure size 432x288 with 1 Axes>"
            ]
          },
          "metadata": {
            "tags": [],
            "needs_background": "light"
          }
        }
      ]
    }
  ]
}