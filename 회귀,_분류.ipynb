{
  "nbformat": 4,
  "nbformat_minor": 0,
  "metadata": {
    "colab": {
      "name": "회귀, 분류",
      "provenance": [],
      "collapsed_sections": [],
      "toc_visible": true,
      "include_colab_link": true
    },
    "kernelspec": {
      "name": "python3",
      "display_name": "Python 3"
    }
  },
  "cells": [
    {
      "cell_type": "markdown",
      "metadata": {
        "id": "view-in-github",
        "colab_type": "text"
      },
      "source": [
        "<a href=\"https://colab.research.google.com/github/hyukstory/hyukstory_AI/blob/main/%ED%9A%8C%EA%B7%80%2C_%EB%B6%84%EB%A5%98.ipynb\" target=\"_parent\"><img src=\"https://colab.research.google.com/assets/colab-badge.svg\" alt=\"Open In Colab\"/></a>"
      ]
    },
    {
      "cell_type": "markdown",
      "metadata": {
        "id": "_rDWffdiw8Vt"
      },
      "source": [
        "# 2.회귀\r\n"
      ]
    },
    {
      "cell_type": "markdown",
      "metadata": {
        "id": "Z2CzNsJ6xXe_"
      },
      "source": [
        "선형회귀(Linear)는 데이터의 경향성을 가장 잘 설명하는 하나의 직선을 예측하는 것"
      ]
    },
    {
      "cell_type": "markdown",
      "metadata": {
        "id": "LvuktIub0q1r"
      },
      "source": [
        "## 2.1 선형회귀\r\n"
      ]
    },
    {
      "cell_type": "markdown",
      "metadata": {
        "id": "BXCkVlIH4Mdq"
      },
      "source": [
        "### 최소제곱법 사용하여 회귀선 구하기"
      ]
    },
    {
      "cell_type": "code",
      "metadata": {
        "colab": {
          "base_uri": "https://localhost:8080/",
          "height": 317
        },
        "id": "fFQf-9nvyruG",
        "outputId": "ee755bdd-e684-409c-cff3-7db7f8a0b368"
      },
      "source": [
        "import matplotlib.pyplot as plt\r\n",
        "X = [0.3, -0.78, 1.26, 0.03, 1.11, 0.24, -0.24, -0.47, -0.77, \r\n",
        "     -0.37, -0.85, -0.41, -0.27, 0.02, -0.76, 2.66]\r\n",
        "Y = [12.27, 14.44, 11.87, 18.75, 17.52, 16.37, 19.78, 19.51, \r\n",
        "     12.65, 14.74, 10.72, 21.94, 12.83, 15.51, 17.14, 14.42]\r\n",
        "\r\n",
        "# X, Y 의 평균을 구합니다\r\n",
        "x_bar = sum(x) / len(x)\r\n",
        "y_bar = sum(y) / len(y)\r\n",
        "\r\n",
        "# 최소제곱법으로 a, b 를 구합니다  (잔차의 제곱을 최소화하는 알고리즘)\r\n",
        "a = sum([(y - y_bar) * (x - x_bar) for y, x in list(zip(Y, X))]) / \\\r\n",
        " sum([(x - x_bar) ** 2 for x in X])\r\n",
        "b = y_bar - a  * x_bar\r\n",
        "print('a:', a,'b:', b)\r\n",
        "\r\n",
        "# 그래프를 그리기 위해 회귀선의 x, y 데이터를 구합니다\r\n",
        "line_x = np.arange(min(X), max(X), 0.01)\r\n",
        "line_y = a * line_x  + b\r\n",
        "\r\n",
        "#붉은색 실선으로 회귀선을 그립니다\r\n",
        "plt.plot(line_x, line_y, 'r-')\r\n",
        "plt.plot(X, Y, 'bo')\r\n",
        "plt.xlabel('Population Growth Rate (%)')\r\n",
        "plt.ylabel('Elderly Population Rate (%)')\r\n",
        "plt.show"
      ],
      "execution_count": null,
      "outputs": [
        {
          "output_type": "stream",
          "text": [
            "a: -0.355834147915461 b: 15.669317743971302\n"
          ],
          "name": "stdout"
        },
        {
          "output_type": "execute_result",
          "data": {
            "text/plain": [
              "<function matplotlib.pyplot.show>"
            ]
          },
          "metadata": {
            "tags": []
          },
          "execution_count": 27
        },
        {
          "output_type": "display_data",
          "data": {
            "image/png": "[encoded data removed]",
            "text/plain": [
              "<Figure size 432x288 with 1 Axes>"
            ]
          },
          "metadata": {
            "tags": [],
            "needs_background": "light"
          }
        }
      ]
    },
    {
      "cell_type": "markdown",
      "metadata": {
        "id": "C5PicwPd0vRt"
      },
      "source": [
        "###텐서플로 사용하여 회귀선 구하기"
      ]
    },
    {
      "cell_type": "code",
      "metadata": {
        "colab": {
          "base_uri": "https://localhost:8080/",
          "height": 485
        },
        "id": "lhdFJjPi0yOW",
        "outputId": "27d2ec80-dd8a-4f95-880e-ac31b9c12178"
      },
      "source": [
        "import tensorflow as tf\r\n",
        "import numpy as np\r\n",
        "import matplotlib.pyplot as plt\r\n",
        "import random\r\n",
        "\r\n",
        "X = [0.3, -0.78, 1.26, 0.03, 1.11, 0.24, -0.24, -0.47, -0.77, \r\n",
        "     -0.37, -0.85, -0.41, -0.27, 0.02, -0.76, 2.66]\r\n",
        "Y = [12.27, 14.44, 11.87, 18.75, 17.52, 16.37, 19.78, 19.51, \r\n",
        "     12.65, 14.74, 10.72, 21.94, 12.83, 15.51, 17.14, 14.42]\r\n",
        "\r\n",
        "# a 와 b 를 랜덤한 값으로 초기화합니다\r\n",
        "a = tf.Variable(random.random())\r\n",
        "b = tf.Variable(random.random())\r\n",
        "\r\n",
        "\r\n",
        "# 잔차의 제곱의 평균을 반환하는 함수입니다\r\n",
        "def compute_loss() : \r\n",
        "  y_pred = a * X + b\r\n",
        "  loss = tf.reduce_mean((Y - y_pred) ** 2)\r\n",
        "  return loss\r\n",
        "\r\n",
        "\r\n",
        "optimizer = tf.keras.optimizers.Adam(lr=0.07) # Adam : SGD와 함께 가장 많이 쓰이는 최적화 함수\r\n",
        "\r\n",
        "# 최적화 함수를 학습시킵니다.\r\n",
        "for i in range(1000) :\r\n",
        "  # 잔차의 제곱의 평균을 최소화 합니다\r\n",
        "  optimizer.minimize(compute_loss, var_list = [a,b])\r\n",
        "  \r\n",
        "  if i % 100 == 99:\r\n",
        "    print(i, 'a:', a.numpy(), 'b:', b.numpy(), 'loss:', compute_loss().numpy())\r\n",
        "\r\n",
        "\r\n",
        "# 그래프를 그리기 위해 회귀선의 x, y 데이터를 구합니다\r\n",
        "line_x = np.arange(min(X), max(X), 0.01)\r\n",
        "line_y = a * line_x  + b\r\n",
        "\r\n",
        "#붉은색 실선으로 회귀선을 그립니다\r\n",
        "plt.plot(line_x, line_y, 'r-')\r\n",
        "plt.plot(X, Y, 'bo')\r\n",
        "plt.xlabel('Population Growth Rate (%)')\r\n",
        "plt.ylabel('Elderly Population Rate (%)')\r\n",
        "plt.show"
      ],
      "execution_count": null,
      "outputs": [
        {
          "output_type": "stream",
          "text": [
            "99 a: 0.11074941 b: 6.91883 loss: 86.174225\n",
            "199 a: -0.12683311 b: 11.365241 loss: 28.262909\n",
            "299 a: -0.2625511 b: 13.915895 loss: 12.848162\n",
            "399 a: -0.3248053 b: 15.08607 loss: 10.120193\n",
            "499 a: -0.3474486 b: 15.511694 loss: 9.805592\n",
            "599 a: -0.3540012 b: 15.634869 loss: 9.781988\n",
            "699 a: -0.35551283 b: 15.6632805 loss: 9.780839\n",
            "799 a: -0.3557894 b: 15.66848 loss: 9.780804\n",
            "899 a: -0.35582906 b: 15.669228 loss: 9.780804\n",
            "999 a: -0.35583314 b: 15.669302 loss: 9.780804\n"
          ],
          "name": "stdout"
        },
        {
          "output_type": "execute_result",
          "data": {
            "text/plain": [
              "<function matplotlib.pyplot.show>"
            ]
          },
          "metadata": {
            "tags": []
          },
          "execution_count": 49
        },
        {
          "output_type": "display_data",
          "data": {
            "image/png": "[encoded data removed]",
            "text/plain": [
              "<Figure size 432x288 with 1 Axes>"
            ]
          },
          "metadata": {
            "tags": [],
            "needs_background": "light"
          }
        }
      ]
    },
    {
      "cell_type": "markdown",
      "metadata": {
        "id": "8vocvzWk4X_q"
      },
      "source": [
        "## 2.2 다항회귀"
      ]
    },
    {
      "cell_type": "code",
      "metadata": {
        "colab": {
          "base_uri": "https://localhost:8080/",
          "height": 485
        },
        "id": "vZFp32454Z4L",
        "outputId": "0e750a20-d2f5-4d43-e4db-2a9786424a5e"
      },
      "source": [
        "X = [0.3, -0.78, 1.26, 0.03, 1.11, 0.24, -0.24, -0.47, -0.77, \r\n",
        "     -0.37, -0.85, -0.41, -0.27, 0.02, -0.76, 2.66]\r\n",
        "Y = [12.27, 14.44, 11.87, 18.75, 17.52, 16.37, 19.78, 19.51, \r\n",
        "     12.65, 14.74, 10.72, 21.94, 12.83, 15.51, 17.14, 14.42]\r\n",
        "\r\n",
        "# a 와 b, c를 랜덤한 값으로 초기화합니다\r\n",
        "a = tf.Variable(random.random())\r\n",
        "b = tf.Variable(random.random())\r\n",
        "c = tf.Variable(random.random())\r\n",
        "\r\n",
        "# 잔차의 제곱의 평균을 반환하는 함수입니다\r\n",
        "def compute_loss() : \r\n",
        "  y_pred = a * X*X + b*X + c    # aX^2 + bX + c\r\n",
        "  loss = tf.reduce_mean((Y - y_pred) ** 2)\r\n",
        "  return loss\r\n",
        "\r\n",
        "optimizer = tf.keras.optimizers.Adam(lr=0.07) # Adam : SGD와 함께 가장 많이 쓰이는 최적화 함수\r\n",
        "\r\n",
        "# 최적화 함수를 학습시킵니다.\r\n",
        "for i in range(1000) :\r\n",
        "  # 잔차의 제곱의 평균을 최소화 합니다\r\n",
        "  optimizer.minimize(compute_loss, var_list = [a,b])\r\n",
        "  \r\n",
        "  if i % 100 == 99:\r\n",
        "    print(i, 'a:', a.numpy(), 'b:', b.numpy(), 'loss:', compute_loss().numpy())\r\n",
        "\r\n",
        "\r\n",
        "# 그래프를 그리기 위해 회귀선의 x, y 데이터를 구합니다\r\n",
        "line_x = np.arange(min(X), max(X), 0.01)\r\n",
        "line_y = a * line_x *line_x + b * line_x + c\r\n",
        "\r\n",
        "#붉은색 실선으로 회귀선을 그립니다\r\n",
        "plt.plot(line_x, line_y, 'r-')\r\n",
        "plt.plot(X, Y, 'bo')\r\n",
        "plt.xlabel('Population Growth Rate (%)')\r\n",
        "plt.ylabel('Elderly Population Rate (%)')\r\n",
        "plt.show"
      ],
      "execution_count": null,
      "outputs": [
        {
          "output_type": "stream",
          "text": [
            "99 a: 5.374814 b: -7.118199 loss: 179.02768\n",
            "199 a: 6.8981185 b: -9.909685 loss: 174.18236\n",
            "299 a: 7.076892 b: -10.23885 loss: 174.1247\n",
            "399 a: 7.083216 b: -10.250494 loss: 174.12463\n",
            "499 a: 7.083243 b: -10.250544 loss: 174.12463\n",
            "599 a: 7.083243 b: -10.250544 loss: 174.12463\n",
            "699 a: 7.083243 b: -10.250544 loss: 174.12463\n",
            "799 a: 7.083243 b: -10.250544 loss: 174.12463\n",
            "899 a: 7.083243 b: -10.250544 loss: 174.12463\n",
            "999 a: 7.083243 b: -10.250544 loss: 174.12463\n"
          ],
          "name": "stdout"
        },
        {
          "output_type": "execute_result",
          "data": {
            "text/plain": [
              "<function matplotlib.pyplot.show>"
            ]
          },
          "metadata": {
            "tags": []
          },
          "execution_count": 66
        },
        {
          "output_type": "display_data",
          "data": {
            "image/png": "[encoded data removed]",
            "text/plain": [
              "<Figure size 432x288 with 1 Axes>"
            ]
          },
          "metadata": {
            "tags": [],
            "needs_background": "light"
          }
        }
      ]
    },
    {
      "cell_type": "markdown",
      "metadata": {
        "id": "jAjYcGmQBBGh"
      },
      "source": [
        "## 2.3 딥러닝 네트워크를 이용한 회귀"
      ]
    },
    {
      "cell_type": "code",
      "metadata": {
        "colab": {
          "base_uri": "https://localhost:8080/"
        },
        "id": "nuDvVxpRVkft",
        "outputId": "5a325286-81af-4f5c-d11e-359176d9423b"
      },
      "source": [
        "import tensorflow as tf\r\n",
        "import numpy as np\r\n",
        "\r\n",
        "X = [0.3, -0.78, 1.26, 0.03, 1.11, 0.24, -0.24, -0.47, -0.77, \r\n",
        "     -0.37, -0.85, -0.41, -0.27, 0.02, -0.76, 2.66]\r\n",
        "Y = [12.27, 14.44, 11.87, 18.75, 17.52, 16.37, 19.78, 19.51, \r\n",
        "     12.65, 14.74, 10.72, 21.94, 12.83, 15.51, 17.14, 14.42]\r\n",
        "\r\n",
        "model = tf.keras.Sequential([tf.keras.layers.Dense(units = 6, activation= 'tanh', input_shape = (1,)),\r\n",
        "                             tf.keras.layers.Dense(units = 1)])\r\n",
        "# tanh : 하이퍼볼릭 탄젠트 함수\r\n",
        "\r\n",
        "model.compile(optimizer = tf.keras.optimizers.SGD(lr = 0.1), loss = 'mse' )\r\n",
        "model.summary()"
      ],
      "execution_count": null,
      "outputs": [
        {
          "output_type": "stream",
          "text": [
            "Model: \"sequential_9\"\n",
            "_________________________________________________________________\n",
            "Layer (type)                 Output Shape              Param #   \n",
            "=================================================================\n",
            "dense_26 (Dense)             (None, 6)                 12        \n",
            "_________________________________________________________________\n",
            "dense_27 (Dense)             (None, 1)                 7         \n",
            "=================================================================\n",
            "Total params: 19\n",
            "Trainable params: 19\n",
            "Non-trainable params: 0\n",
            "_________________________________________________________________\n"
          ],
          "name": "stdout"
        }
      ]
    },
    {
      "cell_type": "code",
      "metadata": {
        "colab": {
          "base_uri": "https://localhost:8080/"
        },
        "id": "jvi3zci6WnU0",
        "outputId": "f9cfb13b-a0ca-41de-97aa-8e662ba990a8"
      },
      "source": [
        "# 10회 학습 시키기\r\n",
        "model.fit(X,Y, epochs = 10)"
      ],
      "execution_count": null,
      "outputs": [
        {
          "output_type": "stream",
          "text": [
            "Epoch 1/10\n",
            "1/1 [==============================] - 0s 224ms/step - loss: 258.8816\n",
            "Epoch 2/10\n",
            "1/1 [==============================] - 0s 3ms/step - loss: 119.2733\n",
            "Epoch 3/10\n",
            "1/1 [==============================] - 0s 3ms/step - loss: 9.7192\n",
            "Epoch 4/10\n",
            "1/1 [==============================] - 0s 3ms/step - loss: 9.6221\n",
            "Epoch 5/10\n",
            "1/1 [==============================] - 0s 3ms/step - loss: 9.5816\n",
            "Epoch 6/10\n",
            "1/1 [==============================] - 0s 3ms/step - loss: 9.5572\n",
            "Epoch 7/10\n",
            "1/1 [==============================] - 0s 3ms/step - loss: 9.5386\n",
            "Epoch 8/10\n",
            "1/1 [==============================] - 0s 3ms/step - loss: 9.5208\n",
            "Epoch 9/10\n",
            "1/1 [==============================] - 0s 6ms/step - loss: 9.5016\n",
            "Epoch 10/10\n",
            "1/1 [==============================] - 0s 7ms/step - loss: 9.4797\n"
          ],
          "name": "stdout"
        },
        {
          "output_type": "execute_result",
          "data": {
            "text/plain": [
              "<tensorflow.python.keras.callbacks.History at 0x7f6dfa375860>"
            ]
          },
          "metadata": {
            "tags": []
          },
          "execution_count": 94
        }
      ]
    },
    {
      "cell_type": "code",
      "metadata": {
        "colab": {
          "base_uri": "https://localhost:8080/"
        },
        "id": "vrW96RIjW1Cd",
        "outputId": "b9469b5f-c16e-48cf-be5c-3a6149891ca4"
      },
      "source": [
        "# 학습된 딥러닝 네트워크 확인\r\n",
        "model.predict(X)"
      ],
      "execution_count": null,
      "outputs": [
        {
          "output_type": "execute_result",
          "data": {
            "text/plain": [
              "array([[15.901213],\n",
              "       [15.629948],\n",
              "       [15.414484],\n",
              "       [15.921085],\n",
              "       [15.533545],\n",
              "       [15.910116],\n",
              "       [15.886927],\n",
              "       [15.810919],\n",
              "       [15.637337],\n",
              "       [15.849611],\n",
              "       [15.575123],\n",
              "       [15.835209],\n",
              "       [15.879574],\n",
              "       [15.920809],\n",
              "       [15.644617],\n",
              "       [13.781368]], dtype=float32)"
            ]
          },
          "metadata": {
            "tags": []
          },
          "execution_count": 95
        }
      ]
    },
    {
      "cell_type": "code",
      "metadata": {
        "colab": {
          "base_uri": "https://localhost:8080/",
          "height": 298
        },
        "id": "JKlnv9PHXCkq",
        "outputId": "3da7f8e8-0131-486b-ae7c-7c1fd2633bc9"
      },
      "source": [
        "# 시각화로 확인\r\n",
        "import matplotlib.pyplot as plt\r\n",
        "\r\n",
        "line_x = np.arange(min(X), max(X), 0.01)\r\n",
        "line_y = model.predict(line_x)\r\n",
        "\r\n",
        "plt.plot(line_x, line_y, 'r-')\r\n",
        "plt.plot(X, Y, 'bo')\r\n",
        "plt.xlabel('Population Growth Rate (%)')\r\n",
        "plt.ylabel('Elderly Population Rate (%)')\r\n",
        "plt.show"
      ],
      "execution_count": null,
      "outputs": [
        {
          "output_type": "execute_result",
          "data": {
            "text/plain": [
              "<function matplotlib.pyplot.show>"
            ]
          },
          "metadata": {
            "tags": []
          },
          "execution_count": 96
        },
        {
          "output_type": "display_data",
          "data": {
            "image/png": "[encoded data removed]",
            "text/plain": [
              "<Figure size 432x288 with 1 Axes>"
            ]
          },
          "metadata": {
            "tags": [],
            "needs_background": "light"
          }
        }
      ]
    },
    {
      "cell_type": "markdown",
      "metadata": {
        "id": "k_dvFnt-X_Sy"
      },
      "source": [
        "## 2.4 보스턴 주택 가격 데이터 세트로 실습"
      ]
    },
    {
      "cell_type": "markdown",
      "metadata": {
        "id": "IYLR1gBxYEVA"
      },
      "source": [
        "훈련용 데이터와 테스트 데이터 확인"
      ]
    },
    {
      "cell_type": "code",
      "metadata": {
        "colab": {
          "base_uri": "https://localhost:8080/"
        },
        "id": "YoNCAacZYEto",
        "outputId": "032593b4-7a44-4c6a-897d-4d2caab187d9"
      },
      "source": [
        "from tensorflow.keras.datasets import boston_housing\r\n",
        "(train_X, train_Y), (test_X, test_Y) = boston_housing.load_data()\r\n",
        "\r\n",
        "print(len(train_X), len(test_X))\r\n",
        "print(train_X[0])\r\n",
        "print(train_Y[0])"
      ],
      "execution_count": null,
      "outputs": [
        {
          "output_type": "stream",
          "text": [
            "404 102\n",
            "[  1.23247   0.        8.14      0.        0.538     6.142    91.7\n",
            "   3.9769    4.      307.       21.      396.9      18.72   ]\n",
            "15.2\n"
          ],
          "name": "stdout"
        }
      ]
    },
    {
      "cell_type": "markdown",
      "metadata": {
        "id": "KQMC3ILKYzSR"
      },
      "source": [
        "데이터의 단위가 다양하므로 전처리해서 정규화 실시"
      ]
    },
    {
      "cell_type": "code",
      "metadata": {
        "colab": {
          "base_uri": "https://localhost:8080/"
        },
        "id": "aXYT3sIHY5rz",
        "outputId": "5d6c37b7-3d14-494a-a766-05c513824932"
      },
      "source": [
        "#데이터 전처리 정규화\r\n",
        "x_mean = train_X.mean(axis = 0)\r\n",
        "x_std = train_X.std(axis = 0)\r\n",
        "\r\n",
        "train_X -= x_mean\r\n",
        "train_X /= x_std\r\n",
        "test_X -= x_mean\r\n",
        "test_X /= x_std\r\n",
        "\r\n",
        "y_mean = train_Y.mean(axis = 0)\r\n",
        "y_std = train_Y.std(axis = 0)\r\n",
        "\r\n",
        "train_Y -= y_mean\r\n",
        "train_Y /= y_std\r\n",
        "test_Y -= y_mean\r\n",
        "test_Y /= y_std\r\n",
        "\r\n",
        "print(train_X[0])\r\n",
        "print(train_Y[0])"
      ],
      "execution_count": null,
      "outputs": [
        {
          "output_type": "stream",
          "text": [
            "[-0.27224633 -0.48361547 -0.43576161 -0.25683275 -0.1652266  -0.1764426\n",
            "  0.81306188  0.1166983  -0.62624905 -0.59517003  1.14850044  0.44807713\n",
            "  0.8252202 ]\n",
            "-0.7821526033779157\n"
          ],
          "name": "stdout"
        }
      ]
    },
    {
      "cell_type": "markdown",
      "metadata": {
        "id": "xgS3HvopaLvc"
      },
      "source": [
        "정규화된 데이터로 딥러닝 네트워크 학습 시키기"
      ]
    },
    {
      "cell_type": "code",
      "metadata": {
        "colab": {
          "base_uri": "https://localhost:8080/"
        },
        "id": "jl0eFHJJZ1jG",
        "outputId": "7e0ad1b8-1285-41e9-aad3-aa80c79f9d32"
      },
      "source": [
        "model = tf.keras.Sequential([tf.keras.layers.Dense(units = 52, activation = 'relu', input_shape = (13,)), \r\n",
        "                             tf.keras.layers.Dense(units = 39, activation = 'relu'),\r\n",
        "                             tf.keras.layers.Dense(units = 26, activation = 'relu'),\r\n",
        "                             tf.keras.layers.Dense(units = 1)\r\n",
        "                             ])\r\n",
        "# 데이터가 총 13개 속성이라 13개 차원으로\r\n",
        "\r\n",
        "model.compile(optimizer = tf.keras.optimizers.Adam(lr = 0.07), loss = 'mse' )\r\n",
        "model.summary()"
      ],
      "execution_count": null,
      "outputs": [
        {
          "output_type": "stream",
          "text": [
            "Model: \"sequential_10\"\n",
            "_________________________________________________________________\n",
            "Layer (type)                 Output Shape              Param #   \n",
            "=================================================================\n",
            "dense_28 (Dense)             (None, 52)                728       \n",
            "_________________________________________________________________\n",
            "dense_29 (Dense)             (None, 39)                2067      \n",
            "_________________________________________________________________\n",
            "dense_30 (Dense)             (None, 26)                1040      \n",
            "_________________________________________________________________\n",
            "dense_31 (Dense)             (None, 1)                 27        \n",
            "=================================================================\n",
            "Total params: 3,862\n",
            "Trainable params: 3,862\n",
            "Non-trainable params: 0\n",
            "_________________________________________________________________\n"
          ],
          "name": "stdout"
        }
      ]
    },
    {
      "cell_type": "code",
      "metadata": {
        "colab": {
          "base_uri": "https://localhost:8080/"
        },
        "id": "WjJZgtlda_1z",
        "outputId": "f24f55d2-8d35-4b01-c1a9-7eb001c99406"
      },
      "source": [
        "history = model.fit(train_X,train_Y, epochs= 25, batch_size = 32, validation_split = 0.25)\r\n",
        "# validation_split = 0.25 : 훈련용 데이터의 25%를 검증데이터로 떼서 학습"
      ],
      "execution_count": null,
      "outputs": [
        {
          "output_type": "stream",
          "text": [
            "Epoch 1/25\n",
            "10/10 [==============================] - 0s 16ms/step - loss: 1.6313 - val_loss: 1.0956\n",
            "Epoch 2/25\n",
            "10/10 [==============================] - 0s 5ms/step - loss: 0.5902 - val_loss: 0.5331\n",
            "Epoch 3/25\n",
            "10/10 [==============================] - 0s 5ms/step - loss: 0.4594 - val_loss: 0.4033\n",
            "Epoch 4/25\n",
            "10/10 [==============================] - 0s 5ms/step - loss: 0.3431 - val_loss: 0.4020\n",
            "Epoch 5/25\n",
            "10/10 [==============================] - 0s 5ms/step - loss: 0.2432 - val_loss: 0.3358\n",
            "Epoch 6/25\n",
            "10/10 [==============================] - 0s 5ms/step - loss: 0.2247 - val_loss: 0.2238\n",
            "Epoch 7/25\n",
            "10/10 [==============================] - 0s 5ms/step - loss: 0.1996 - val_loss: 0.2083\n",
            "Epoch 8/25\n",
            "10/10 [==============================] - 0s 5ms/step - loss: 0.1703 - val_loss: 0.2684\n",
            "Epoch 9/25\n",
            "10/10 [==============================] - 0s 6ms/step - loss: 0.1562 - val_loss: 0.2689\n",
            "Epoch 10/25\n",
            "10/10 [==============================] - 0s 5ms/step - loss: 0.1648 - val_loss: 0.2080\n",
            "Epoch 11/25\n",
            "10/10 [==============================] - 0s 5ms/step - loss: 0.1061 - val_loss: 0.1851\n",
            "Epoch 12/25\n",
            "10/10 [==============================] - 0s 5ms/step - loss: 0.1898 - val_loss: 0.5096\n",
            "Epoch 13/25\n",
            "10/10 [==============================] - 0s 5ms/step - loss: 0.2404 - val_loss: 0.4228\n",
            "Epoch 14/25\n",
            "10/10 [==============================] - 0s 5ms/step - loss: 0.2211 - val_loss: 0.3292\n",
            "Epoch 15/25\n",
            "10/10 [==============================] - 0s 5ms/step - loss: 0.1602 - val_loss: 0.3399\n",
            "Epoch 16/25\n",
            "10/10 [==============================] - 0s 5ms/step - loss: 0.1426 - val_loss: 0.2895\n",
            "Epoch 17/25\n",
            "10/10 [==============================] - 0s 6ms/step - loss: 0.1912 - val_loss: 0.2823\n",
            "Epoch 18/25\n",
            "10/10 [==============================] - 0s 5ms/step - loss: 0.1221 - val_loss: 0.2778\n",
            "Epoch 19/25\n",
            "10/10 [==============================] - 0s 5ms/step - loss: 0.1193 - val_loss: 0.2844\n",
            "Epoch 20/25\n",
            "10/10 [==============================] - 0s 5ms/step - loss: 0.2172 - val_loss: 0.2857\n",
            "Epoch 21/25\n",
            "10/10 [==============================] - 0s 5ms/step - loss: 0.1722 - val_loss: 0.2787\n",
            "Epoch 22/25\n",
            "10/10 [==============================] - 0s 5ms/step - loss: 0.1556 - val_loss: 0.2729\n",
            "Epoch 23/25\n",
            "10/10 [==============================] - 0s 5ms/step - loss: 0.1555 - val_loss: 0.2689\n",
            "Epoch 24/25\n",
            "10/10 [==============================] - 0s 5ms/step - loss: 0.1322 - val_loss: 0.2508\n",
            "Epoch 25/25\n",
            "10/10 [==============================] - 0s 6ms/step - loss: 0.1823 - val_loss: 0.2829\n"
          ],
          "name": "stdout"
        }
      ]
    },
    {
      "cell_type": "code",
      "metadata": {
        "colab": {
          "base_uri": "https://localhost:8080/",
          "height": 279
        },
        "id": "THFgQUL7bhZ-",
        "outputId": "1582cb70-3ec5-4bee-9165-dff5e24c0045"
      },
      "source": [
        "import matplotlib.pyplot as plt\r\n",
        "plt.plot(history.history['loss'],'b-', label='loss')\r\n",
        "plt.plot(history.history['val_loss'],'r--', label='val_loss')\r\n",
        "plt.xlabel('Epoch')\r\n",
        "plt.legend()\r\n",
        "plt.show()\r\n",
        "\r\n",
        "\r\n",
        "## 훈련 데이터의 손실은 꾸준히 감소하지만\r\n",
        "## 검증 데이터의 손실은 일정히 감소하지 않는다"
      ],
      "execution_count": null,
      "outputs": [
        {
          "output_type": "display_data",
          "data": {
            "image/png": "[encoded data removed]",
            "text/plain": [
              "<Figure size 432x288 with 1 Axes>"
            ]
          },
          "metadata": {
            "tags": [],
            "needs_background": "light"
          }
        }
      ]
    },
    {
      "cell_type": "markdown",
      "metadata": {
        "id": "w0HnwZzbcm1T"
      },
      "source": [
        "일단 테스트 데이터로 평가"
      ]
    },
    {
      "cell_type": "code",
      "metadata": {
        "colab": {
          "base_uri": "https://localhost:8080/"
        },
        "id": "jmm-HrrAcIK2",
        "outputId": "b8ee5d71-1034-455e-f7a4-6c04dc997546"
      },
      "source": [
        "model.evaluate(test_X, test_Y)\r\n",
        "\r\n",
        "## 손실이 너무 큼"
      ],
      "execution_count": null,
      "outputs": [
        {
          "output_type": "stream",
          "text": [
            "4/4 [==============================] - 0s 2ms/step - loss: 0.1837\n"
          ],
          "name": "stdout"
        },
        {
          "output_type": "execute_result",
          "data": {
            "text/plain": [
              "0.183712899684906"
            ]
          },
          "metadata": {
            "tags": []
          },
          "execution_count": 102
        }
      ]
    },
    {
      "cell_type": "markdown",
      "metadata": {
        "id": "w6_NhR3OdY6N"
      },
      "source": [
        "과적합 되지 않게 콜백 지정"
      ]
    },
    {
      "cell_type": "code",
      "metadata": {
        "colab": {
          "base_uri": "https://localhost:8080/"
        },
        "id": "DveFk7fVdhGb",
        "outputId": "6652d160-603b-4918-c6f7-7c1eed547209"
      },
      "source": [
        "# 모델 재정의 및 학습\r\n",
        "model = tf.keras.Sequential([tf.keras.layers.Dense(units = 52, activation = 'relu', input_shape = (13,)), \r\n",
        "                             tf.keras.layers.Dense(units = 39, activation = 'relu'),\r\n",
        "                             tf.keras.layers.Dense(units = 26, activation = 'relu'),\r\n",
        "                             tf.keras.layers.Dense(units = 1)\r\n",
        "                             ])\r\n",
        "\r\n",
        "model.compile(optimizer = tf.keras.optimizers.Adam(lr = 0.07), loss = 'mse' )\r\n",
        "\r\n",
        "history = model.fit(train_X,train_Y, epochs= 25, batch_size = 32, \r\n",
        "                    validation_split = 0.25,\r\n",
        "                    callbacks = [tf.keras.callbacks.EarlyStopping(patience = 3, monitor = 'val_loss')]\r\n",
        "                    )"
      ],
      "execution_count": null,
      "outputs": [
        {
          "output_type": "stream",
          "text": [
            "Epoch 1/25\n",
            "10/10 [==============================] - 1s 35ms/step - loss: 4.0508 - val_loss: 1.3101\n",
            "Epoch 2/25\n",
            "10/10 [==============================] - 0s 5ms/step - loss: 0.7734 - val_loss: 1.1148\n",
            "Epoch 3/25\n",
            "10/10 [==============================] - 0s 6ms/step - loss: 0.7520 - val_loss: 1.0085\n",
            "Epoch 4/25\n",
            "10/10 [==============================] - 0s 5ms/step - loss: 0.6827 - val_loss: 0.9143\n",
            "Epoch 5/25\n",
            "10/10 [==============================] - 0s 5ms/step - loss: 0.6114 - val_loss: 0.8279\n",
            "Epoch 6/25\n",
            "10/10 [==============================] - 0s 6ms/step - loss: 0.4799 - val_loss: 0.8177\n",
            "Epoch 7/25\n",
            "10/10 [==============================] - 0s 6ms/step - loss: 0.4839 - val_loss: 0.7994\n",
            "Epoch 8/25\n",
            "10/10 [==============================] - 0s 6ms/step - loss: 0.4774 - val_loss: 0.6648\n",
            "Epoch 9/25\n",
            "10/10 [==============================] - 0s 6ms/step - loss: 0.4425 - val_loss: 0.6499\n",
            "Epoch 10/25\n",
            "10/10 [==============================] - 0s 6ms/step - loss: 0.2919 - val_loss: 0.7220\n",
            "Epoch 11/25\n",
            "10/10 [==============================] - 0s 5ms/step - loss: 0.4493 - val_loss: 0.5394\n",
            "Epoch 12/25\n",
            "10/10 [==============================] - 0s 5ms/step - loss: 0.3864 - val_loss: 0.7212\n",
            "Epoch 13/25\n",
            "10/10 [==============================] - 0s 5ms/step - loss: 0.4921 - val_loss: 0.6313\n",
            "Epoch 14/25\n",
            "10/10 [==============================] - 0s 5ms/step - loss: 0.3396 - val_loss: 0.5761\n"
          ],
          "name": "stdout"
        }
      ]
    },
    {
      "cell_type": "markdown",
      "metadata": {
        "id": "YmsO4zr2eqXo"
      },
      "source": [
        "조기 학습 중단 된 회귀 모델 결과 시각화"
      ]
    },
    {
      "cell_type": "code",
      "metadata": {
        "colab": {
          "base_uri": "https://localhost:8080/",
          "height": 279
        },
        "id": "PDkwzsZceU8K",
        "outputId": "b2b84bc9-6d8f-474c-cfd2-8051934d43b7"
      },
      "source": [
        "import matplotlib.pyplot as plt\r\n",
        "plt.plot(history.history['loss'],'b-', label='loss')\r\n",
        "plt.plot(history.history['val_loss'],'r--', label='val_loss')\r\n",
        "plt.xlabel('Epoch')\r\n",
        "plt.legend()\r\n",
        "plt.show()"
      ],
      "execution_count": null,
      "outputs": [
        {
          "output_type": "display_data",
          "data": {
            "image/png": "[encoded data removed]",
            "text/plain": [
              "<Figure size 432x288 with 1 Axes>"
            ]
          },
          "metadata": {
            "tags": [],
            "needs_background": "light"
          }
        }
      ]
    },
    {
      "cell_type": "markdown",
      "metadata": {
        "id": "LudWjgbTesm4"
      },
      "source": [
        "조기 학습 중단된 모델 평가"
      ]
    },
    {
      "cell_type": "code",
      "metadata": {
        "colab": {
          "base_uri": "https://localhost:8080/"
        },
        "id": "VWgACtgIevap",
        "outputId": "cf3f0d0e-6ab0-4cf6-f4ff-31a7674197de"
      },
      "source": [
        "model.evaluate(test_X, test_Y)"
      ],
      "execution_count": null,
      "outputs": [
        {
          "output_type": "stream",
          "text": [
            "4/4 [==============================] - 0s 3ms/step - loss: 0.3960\n"
          ],
          "name": "stdout"
        },
        {
          "output_type": "execute_result",
          "data": {
            "text/plain": [
              "0.39604243636131287"
            ]
          },
          "metadata": {
            "tags": []
          },
          "execution_count": 105
        }
      ]
    },
    {
      "cell_type": "markdown",
      "metadata": {
        "id": "z3hxG-gvxfN7"
      },
      "source": [
        "# 3.분류\r\n"
      ]
    },
    {
      "cell_type": "markdown",
      "metadata": {
        "id": "jTZNoqVxfeSE"
      },
      "source": [
        "## 3.1 이항분류"
      ]
    },
    {
      "cell_type": "markdown",
      "metadata": {
        "id": "S_Mw2SYjfm2T"
      },
      "source": [
        "### 와인 데이터 세트로 이항 분류 해보기"
      ]
    },
    {
      "cell_type": "code",
      "metadata": {
        "colab": {
          "base_uri": "https://localhost:8080/"
        },
        "id": "i6EonQQKfgSS",
        "outputId": "e498a051-5dae-413c-fcec-bc78c34ef1f1"
      },
      "source": [
        "import pandas as pd\r\n",
        "red = pd.read_csv('http://archive.ics.uci.edu/ml/machine-learning-databases/wine-quality/winequality-red.csv', sep=\";\")\r\n",
        "white = pd.read_csv('http://archive.ics.uci.edu/ml/machine-learning-databases/wine-quality/winequality-white.csv', sep=\";\")\r\n",
        "print(red.head())\r\n",
        "print(white.head())"
      ],
      "execution_count": null,
      "outputs": [
        {
          "output_type": "stream",
          "text": [
            "   fixed acidity  volatile acidity  citric acid  ...  sulphates  alcohol  quality\n",
            "0            7.4              0.70         0.00  ...       0.56      9.4        5\n",
            "1            7.8              0.88         0.00  ...       0.68      9.8        5\n",
            "2            7.8              0.76         0.04  ...       0.65      9.8        5\n",
            "3           11.2              0.28         0.56  ...       0.58      9.8        6\n",
            "4            7.4              0.70         0.00  ...       0.56      9.4        5\n",
            "\n",
            "[5 rows x 12 columns]\n",
            "   fixed acidity  volatile acidity  citric acid  ...  sulphates  alcohol  quality\n",
            "0            7.0              0.27         0.36  ...       0.45      8.8        6\n",
            "1            6.3              0.30         0.34  ...       0.49      9.5        6\n",
            "2            8.1              0.28         0.40  ...       0.44     10.1        6\n",
            "3            7.2              0.23         0.32  ...       0.40      9.9        6\n",
            "4            7.2              0.23         0.32  ...       0.40      9.9        6\n",
            "\n",
            "[5 rows x 12 columns]\n"
          ],
          "name": "stdout"
        }
      ]
    },
    {
      "cell_type": "markdown",
      "metadata": {
        "id": "OsC4riuagO9p"
      },
      "source": [
        "레드와인과 화이트와인을 구분 후 두 데이터 프레임을 하나로 합치기"
      ]
    },
    {
      "cell_type": "code",
      "metadata": {
        "colab": {
          "base_uri": "https://localhost:8080/"
        },
        "id": "zxxcm2dwgQZY",
        "outputId": "ebfba6ed-5677-41b7-e905-3d82f0dba04e"
      },
      "source": [
        "# 데이터 라벨링\r\n",
        "red['type'] = 0\r\n",
        "white['type'] = 1\r\n",
        "\r\n",
        "# 데이터 프레임 합치기\r\n",
        "wine = pd.concat([red, white])\r\n",
        "print(wine.head())\r\n",
        "print(wine.tail())\r\n",
        "\r\n",
        "print(wine.info())"
      ],
      "execution_count": null,
      "outputs": [
        {
          "output_type": "stream",
          "text": [
            "   fixed acidity  volatile acidity  citric acid  ...  alcohol  quality  type\n",
            "0            7.4              0.70         0.00  ...      9.4        5     0\n",
            "1            7.8              0.88         0.00  ...      9.8        5     0\n",
            "2            7.8              0.76         0.04  ...      9.8        5     0\n",
            "3           11.2              0.28         0.56  ...      9.8        6     0\n",
            "4            7.4              0.70         0.00  ...      9.4        5     0\n",
            "\n",
            "[5 rows x 13 columns]\n",
            "      fixed acidity  volatile acidity  citric acid  ...  alcohol  quality  type\n",
            "4893            6.2              0.21         0.29  ...     11.2        6     1\n",
            "4894            6.6              0.32         0.36  ...      9.6        5     1\n",
            "4895            6.5              0.24         0.19  ...      9.4        6     1\n",
            "4896            5.5              0.29         0.30  ...     12.8        7     1\n",
            "4897            6.0              0.21         0.38  ...     11.8        6     1\n",
            "\n",
            "[5 rows x 13 columns]\n",
            "<class 'pandas.core.frame.DataFrame'>\n",
            "Int64Index: 6497 entries, 0 to 4897\n",
            "Data columns (total 13 columns):\n",
            " #   Column                Non-Null Count  Dtype  \n",
            "---  ------                --------------  -----  \n",
            " 0   fixed acidity         6497 non-null   float64\n",
            " 1   volatile acidity      6497 non-null   float64\n",
            " 2   citric acid           6497 non-null   float64\n",
            " 3   residual sugar        6497 non-null   float64\n",
            " 4   chlorides             6497 non-null   float64\n",
            " 5   free sulfur dioxide   6497 non-null   float64\n",
            " 6   total sulfur dioxide  6497 non-null   float64\n",
            " 7   density               6497 non-null   float64\n",
            " 8   pH                    6497 non-null   float64\n",
            " 9   sulphates             6497 non-null   float64\n",
            " 10  alcohol               6497 non-null   float64\n",
            " 11  quality               6497 non-null   int64  \n",
            " 12  type                  6497 non-null   int64  \n",
            "dtypes: float64(11), int64(2)\n",
            "memory usage: 710.6 KB\n",
            "None\n"
          ],
          "name": "stdout"
        }
      ]
    },
    {
      "cell_type": "markdown",
      "metadata": {
        "id": "iCHD8rsfhUTD"
      },
      "source": [
        "데이터 정규화"
      ]
    },
    {
      "cell_type": "code",
      "metadata": {
        "colab": {
          "base_uri": "https://localhost:8080/"
        },
        "id": "kIr94xfkho75",
        "outputId": "559a0351-91e2-4134-bfd5-45d136955954"
      },
      "source": [
        "wine_norm = (wine - wine.min()) / (wine.max() - wine.min())\r\n",
        "print(wine_norm.head())\r\n",
        "print(wine_norm.describe())"
      ],
      "execution_count": null,
      "outputs": [
        {
          "output_type": "stream",
          "text": [
            "   fixed acidity  volatile acidity  citric acid  ...   alcohol   quality  type\n",
            "0       0.297521          0.413333     0.000000  ...  0.202899  0.333333   0.0\n",
            "1       0.330579          0.533333     0.000000  ...  0.260870  0.333333   0.0\n",
            "2       0.330579          0.453333     0.024096  ...  0.260870  0.333333   0.0\n",
            "3       0.611570          0.133333     0.337349  ...  0.260870  0.500000   0.0\n",
            "4       0.297521          0.413333     0.000000  ...  0.202899  0.333333   0.0\n",
            "\n",
            "[5 rows x 13 columns]\n",
            "       fixed acidity  volatile acidity  ...      quality         type\n",
            "count    6497.000000       6497.000000  ...  6497.000000  6497.000000\n",
            "mean        0.282257          0.173111  ...     0.469730     0.753886\n",
            "std         0.107143          0.109758  ...     0.145543     0.430779\n",
            "min         0.000000          0.000000  ...     0.000000     0.000000\n",
            "25%         0.214876          0.100000  ...     0.333333     1.000000\n",
            "50%         0.264463          0.140000  ...     0.500000     1.000000\n",
            "75%         0.322314          0.213333  ...     0.500000     1.000000\n",
            "max         1.000000          1.000000  ...     1.000000     1.000000\n",
            "\n",
            "[8 rows x 13 columns]\n"
          ],
          "name": "stdout"
        }
      ]
    },
    {
      "cell_type": "markdown",
      "metadata": {
        "id": "eqwHP8kBiJ1a"
      },
      "source": [
        "데이터 섞은 후 numpy array로 변환"
      ]
    },
    {
      "cell_type": "code",
      "metadata": {
        "colab": {
          "base_uri": "https://localhost:8080/"
        },
        "id": "FmMG5d9ziOcX",
        "outputId": "d115d3e8-a86e-40ee-e5ee-87a3316cc50f"
      },
      "source": [
        "import numpy as np\r\n",
        "wine_shuffle = wine_norm.sample(frac=1)  # frac : 비율  즉, frac=1 이면 모든 데이터를 뽑아서 섞는 것\r\n",
        "print(wine_shuffle.head())\r\n",
        "wine_np = wine_shuffle.to_numpy()\r\n",
        "print(type(wine_np))\r\n",
        "print(wine_np[:5])"
      ],
      "execution_count": null,
      "outputs": [
        {
          "output_type": "stream",
          "text": [
            "      fixed acidity  volatile acidity  citric acid  ...   alcohol   quality  type\n",
            "202        0.256198          0.306667     0.192771  ...  0.231884  0.333333   1.0\n",
            "208        0.247934          0.326667     0.174699  ...  0.318841  0.333333   1.0\n",
            "304        0.289256          0.220000     0.144578  ...  0.275362  0.500000   1.0\n",
            "3877       0.272727          0.133333     0.186747  ...  0.492754  0.333333   1.0\n",
            "1187       0.231405          0.086667     0.228916  ...  0.449275  0.833333   1.0\n",
            "\n",
            "[5 rows x 13 columns]\n",
            "<class 'numpy.ndarray'>\n",
            "[[0.25619835 0.30666667 0.19277108 0.19325153 0.06810631 0.18055556\n",
            "  0.52995392 0.19645267 0.37209302 0.15730337 0.23188406 0.33333333\n",
            "  1.        ]\n",
            " [0.24793388 0.32666667 0.1746988  0.02453988 0.05149502 0.04861111\n",
            "  0.16359447 0.12897629 0.46511628 0.29213483 0.31884058 0.33333333\n",
            "  1.        ]\n",
            " [0.2892562  0.22       0.14457831 0.09509202 0.07973422 0.13888889\n",
            "  0.36175115 0.15018315 0.37209302 0.10674157 0.27536232 0.5\n",
            "  1.        ]\n",
            " [0.27272727 0.13333333 0.18674699 0.01380368 0.0730897  0.06597222\n",
            "  0.21198157 0.0690187  0.33333333 0.15730337 0.49275362 0.33333333\n",
            "  1.        ]\n",
            " [0.23140496 0.08666667 0.22891566 0.02453988 0.0282392  0.13541667\n",
            "  0.22580645 0.08270677 0.41085271 0.1011236  0.44927536 0.83333333\n",
            "  1.        ]]\n"
          ],
          "name": "stdout"
        }
      ]
    },
    {
      "cell_type": "markdown",
      "metadata": {
        "id": "wBFGghvUi1Pi"
      },
      "source": [
        "훈련용 데이터와 테스트 데이터로 나누기"
      ]
    },
    {
      "cell_type": "code",
      "metadata": {
        "colab": {
          "base_uri": "https://localhost:8080/"
        },
        "id": "WG_uylRCi3sh",
        "outputId": "0d0eb994-aa1f-4b55-a1ae-d64013a48501"
      },
      "source": [
        "import tensorflow as tf\r\n",
        "train_idx = int(len(wine_np) * 0.8)  # 80% 데이터만 훈련데이터로 \r\n",
        "print(train_idx)\r\n",
        "\r\n",
        "train_X, train_Y = wine_np[:train_idx, :-1], wine_np[:train_idx, -1]\r\n",
        "test_X, test_Y = wine_np[train_idx:, :-1], wine_np[train_idx:, -1]\r\n",
        "#12개의 기존 속성은 X, 새로 추가한 type 만 Y\r\n",
        "\r\n",
        "print(train_X[0])\r\n",
        "print(train_Y[0])\r\n",
        "print(test_X[0])\r\n",
        "print(test_Y[0])"
      ],
      "execution_count": null,
      "outputs": [
        {
          "output_type": "stream",
          "text": [
            "5197\n",
            "[0.25619835 0.30666667 0.19277108 0.19325153 0.06810631 0.18055556\n",
            " 0.52995392 0.19645267 0.37209302 0.15730337 0.23188406 0.33333333]\n",
            "1.0\n",
            "[0.41322314 0.35333333 0.08433735 0.02760736 0.09634551 0.03125\n",
            " 0.08294931 0.18874108 0.36434109 0.20786517 0.2173913  0.33333333]\n",
            "0.0\n"
          ],
          "name": "stdout"
        }
      ]
    },
    {
      "cell_type": "markdown",
      "metadata": {
        "id": "D_s_IDHukSGU"
      },
      "source": [
        "원-핫 인코딩 방식으로 분류"
      ]
    },
    {
      "cell_type": "code",
      "metadata": {
        "colab": {
          "base_uri": "https://localhost:8080/"
        },
        "id": "VB1UgyIFkShT",
        "outputId": "c1f90acc-6e70-442e-bfd6-e74fc527e5c0"
      },
      "source": [
        "train_Y = tf.keras.utils.to_categorical(train_Y, num_classes = 2)\r\n",
        "test_Y = tf.keras.utils.to_categorical(test_Y, num_classes = 2)\r\n",
        "print(train_Y[0])\r\n",
        "print(test_Y[0])"
      ],
      "execution_count": null,
      "outputs": [
        {
          "output_type": "stream",
          "text": [
            "[0. 1.]\n",
            "[1. 0.]\n"
          ],
          "name": "stdout"
        }
      ]
    },
    {
      "cell_type": "markdown",
      "metadata": {
        "id": "FyAFKAovlAyl"
      },
      "source": [
        "딥러닝 모델 설계"
      ]
    },
    {
      "cell_type": "code",
      "metadata": {
        "colab": {
          "base_uri": "https://localhost:8080/"
        },
        "id": "TbTeL5wilRhZ",
        "outputId": "8447a36c-aed8-4090-c8bc-60ea59598659"
      },
      "source": [
        "import tensorflow as tf\r\n",
        "model = tf.keras.Sequential([tf.keras.layers.Dense(units = 48, activation = 'relu', input_shape = (12,)), \r\n",
        "                             tf.keras.layers.Dense(units = 24, activation = 'relu'),\r\n",
        "                             tf.keras.layers.Dense(units = 12, activation = 'relu'),\r\n",
        "                             tf.keras.layers.Dense(units = 2, activation='softmax') \r\n",
        "                             ])\r\n",
        "# 분류모델이라 마지막 레이어만 softmax\r\n",
        "\r\n",
        "model.compile(optimizer=tf.keras.optimizers.Adam(lr=0.07),\r\n",
        "              loss='categorical_crossentropy',\r\n",
        "              metrics=['accuracy'])\r\n",
        "model.summary()"
      ],
      "execution_count": null,
      "outputs": [
        {
          "output_type": "stream",
          "text": [
            "Model: \"sequential_30\"\n",
            "_________________________________________________________________\n",
            "Layer (type)                 Output Shape              Param #   \n",
            "=================================================================\n",
            "dense_108 (Dense)            (None, 48)                624       \n",
            "_________________________________________________________________\n",
            "dense_109 (Dense)            (None, 24)                1176      \n",
            "_________________________________________________________________\n",
            "dense_110 (Dense)            (None, 12)                300       \n",
            "_________________________________________________________________\n",
            "dense_111 (Dense)            (None, 2)                 26        \n",
            "=================================================================\n",
            "Total params: 2,126\n",
            "Trainable params: 2,126\n",
            "Non-trainable params: 0\n",
            "_________________________________________________________________\n"
          ],
          "name": "stdout"
        }
      ]
    },
    {
      "cell_type": "markdown",
      "metadata": {
        "id": "00axdxWXoTdb"
      },
      "source": [
        "분류 모델 학습"
      ]
    },
    {
      "cell_type": "code",
      "metadata": {
        "colab": {
          "base_uri": "https://localhost:8080/"
        },
        "id": "9udzodZyltS1",
        "outputId": "10808825-3939-4a6a-9efb-1dd2f82d503c"
      },
      "source": [
        "#와인 데이터셋 분류 모델 학습\r\n",
        "history = model.fit(train_X, train_Y, epochs=25, batch_size=32, validation_split=0.25)"
      ],
      "execution_count": null,
      "outputs": [
        {
          "output_type": "stream",
          "text": [
            "Epoch 1/25\n",
            "122/122 [==============================] - 1s 3ms/step - loss: 0.2183 - accuracy: 0.9273 - val_loss: 0.0562 - val_accuracy: 0.9838\n",
            "Epoch 2/25\n",
            "122/122 [==============================] - 0s 2ms/step - loss: 0.0662 - accuracy: 0.9792 - val_loss: 0.0448 - val_accuracy: 0.9877\n",
            "Epoch 3/25\n",
            "122/122 [==============================] - 0s 2ms/step - loss: 0.0622 - accuracy: 0.9838 - val_loss: 0.0364 - val_accuracy: 0.9885\n",
            "Epoch 4/25\n",
            "122/122 [==============================] - 0s 2ms/step - loss: 0.0465 - accuracy: 0.9855 - val_loss: 0.1044 - val_accuracy: 0.9746\n",
            "Epoch 5/25\n",
            "122/122 [==============================] - 0s 2ms/step - loss: 0.0586 - accuracy: 0.9798 - val_loss: 0.0394 - val_accuracy: 0.9885\n",
            "Epoch 6/25\n",
            "122/122 [==============================] - 0s 2ms/step - loss: 0.0507 - accuracy: 0.9847 - val_loss: 0.0317 - val_accuracy: 0.9915\n",
            "Epoch 7/25\n",
            "122/122 [==============================] - 0s 2ms/step - loss: 0.0476 - accuracy: 0.9904 - val_loss: 0.0530 - val_accuracy: 0.9877\n",
            "Epoch 8/25\n",
            "122/122 [==============================] - 0s 2ms/step - loss: 0.0608 - accuracy: 0.9842 - val_loss: 0.0323 - val_accuracy: 0.9900\n",
            "Epoch 9/25\n",
            "122/122 [==============================] - 0s 2ms/step - loss: 0.0575 - accuracy: 0.9838 - val_loss: 0.0300 - val_accuracy: 0.9923\n",
            "Epoch 10/25\n",
            "122/122 [==============================] - 0s 2ms/step - loss: 0.0392 - accuracy: 0.9897 - val_loss: 0.0306 - val_accuracy: 0.9900\n",
            "Epoch 11/25\n",
            "122/122 [==============================] - 0s 2ms/step - loss: 0.0425 - accuracy: 0.9896 - val_loss: 0.0284 - val_accuracy: 0.9931\n",
            "Epoch 12/25\n",
            "122/122 [==============================] - 0s 2ms/step - loss: 0.0395 - accuracy: 0.9923 - val_loss: 0.0314 - val_accuracy: 0.9931\n",
            "Epoch 13/25\n",
            "122/122 [==============================] - 0s 2ms/step - loss: 0.0367 - accuracy: 0.9908 - val_loss: 0.0273 - val_accuracy: 0.9946\n",
            "Epoch 14/25\n",
            "122/122 [==============================] - 0s 2ms/step - loss: 0.0325 - accuracy: 0.9918 - val_loss: 0.0325 - val_accuracy: 0.9931\n",
            "Epoch 15/25\n",
            "122/122 [==============================] - 0s 2ms/step - loss: 0.0676 - accuracy: 0.9794 - val_loss: 0.0714 - val_accuracy: 0.9892\n",
            "Epoch 16/25\n",
            "122/122 [==============================] - 0s 2ms/step - loss: 0.0516 - accuracy: 0.9887 - val_loss: 0.0407 - val_accuracy: 0.9908\n",
            "Epoch 17/25\n",
            "122/122 [==============================] - 0s 2ms/step - loss: 0.0341 - accuracy: 0.9931 - val_loss: 0.0623 - val_accuracy: 0.9931\n",
            "Epoch 18/25\n",
            "122/122 [==============================] - 0s 2ms/step - loss: 0.0327 - accuracy: 0.9936 - val_loss: 0.0455 - val_accuracy: 0.9900\n",
            "Epoch 19/25\n",
            "122/122 [==============================] - 0s 2ms/step - loss: 0.0387 - accuracy: 0.9873 - val_loss: 0.0457 - val_accuracy: 0.9908\n",
            "Epoch 20/25\n",
            "122/122 [==============================] - 0s 2ms/step - loss: 0.0290 - accuracy: 0.9942 - val_loss: 0.0441 - val_accuracy: 0.9946\n",
            "Epoch 21/25\n",
            "122/122 [==============================] - 0s 2ms/step - loss: 0.0351 - accuracy: 0.9912 - val_loss: 0.0459 - val_accuracy: 0.9923\n",
            "Epoch 22/25\n",
            "122/122 [==============================] - 0s 2ms/step - loss: 0.0426 - accuracy: 0.9888 - val_loss: 0.0545 - val_accuracy: 0.9938\n",
            "Epoch 23/25\n",
            "122/122 [==============================] - 0s 2ms/step - loss: 0.0377 - accuracy: 0.9917 - val_loss: 0.1098 - val_accuracy: 0.9800\n",
            "Epoch 24/25\n",
            "122/122 [==============================] - 0s 2ms/step - loss: 0.0464 - accuracy: 0.9874 - val_loss: 0.0367 - val_accuracy: 0.9938\n",
            "Epoch 25/25\n",
            "122/122 [==============================] - 0s 2ms/step - loss: 0.0276 - accuracy: 0.9930 - val_loss: 0.0522 - val_accuracy: 0.9946\n"
          ],
          "name": "stdout"
        }
      ]
    },
    {
      "cell_type": "markdown",
      "metadata": {
        "id": "mjaHejiioOLK"
      },
      "source": [
        "분류 모델 학습 결과 시각화"
      ]
    },
    {
      "cell_type": "code",
      "metadata": {
        "colab": {
          "base_uri": "https://localhost:8080/",
          "height": 283
        },
        "id": "PMlLogQJoVY4",
        "outputId": "18b4c47f-026b-4343-8ace-1fce8d33d3b0"
      },
      "source": [
        "import matplotlib.pyplot as plt\r\n",
        "plt.figure(figsize = (12,4)) #시각화 크기 지정\r\n",
        "\r\n",
        "plt.subplot(1,2,1) #시각화 구역을 설정\r\n",
        "plt.plot(history.history['loss'], 'b-', label= 'loss')\r\n",
        "plt.plot(history.history['val_loss'],'r--', label= 'val_loss')\r\n",
        "plt.xlabel('Epoch')\r\n",
        "plt.legend()\r\n",
        "\r\n",
        "\r\n",
        "plt.subplot(1,2,2)\r\n",
        "plt.plot(history.history['accuracy'], 'g-', label='accuracy')\r\n",
        "plt.plot(history.history['val_accuracy'],'k--', label= 'val_accuracy')\r\n",
        "plt.xlabel('Epoch')\r\n",
        "plt.ylim(0.7, 1)\r\n",
        "plt.legend()\r\n",
        "\r\n",
        "plt.show()"
      ],
      "execution_count": null,
      "outputs": [
        {
          "output_type": "display_data",
          "data": {
            "image/png": "[encoded data removed]",
            "text/plain": [
              "<Figure size 864x288 with 2 Axes>"
            ]
          },
          "metadata": {
            "tags": [],
            "needs_background": "light"
          }
        }
      ]
    },
    {
      "cell_type": "markdown",
      "metadata": {
        "id": "19UO1-TfpMDC"
      },
      "source": [
        "분류 모델 평가"
      ]
    },
    {
      "cell_type": "code",
      "metadata": {
        "colab": {
          "base_uri": "https://localhost:8080/"
        },
        "id": "_Ksa_Ha3pNe6",
        "outputId": "625ea193-744b-49fe-e738-4390572b390e"
      },
      "source": [
        "model.evaluate(test_X, test_Y)"
      ],
      "execution_count": null,
      "outputs": [
        {
          "output_type": "stream",
          "text": [
            "41/41 [==============================] - 0s 974us/step - loss: 0.0523 - accuracy: 0.9892\n"
          ],
          "name": "stdout"
        },
        {
          "output_type": "execute_result",
          "data": {
            "text/plain": [
              "[0.05230163410305977, 0.989230751991272]"
            ]
          },
          "metadata": {
            "tags": []
          },
          "execution_count": 158
        }
      ]
    },
    {
      "cell_type": "markdown",
      "metadata": {
        "id": "d5CnWu84pbeE"
      },
      "source": [
        "## 3.2 다항분류"
      ]
    },
    {
      "cell_type": "markdown",
      "metadata": {
        "id": "o3OdzBiFpdyb"
      },
      "source": [
        "와인 품질 (0 ~ 10)분류"
      ]
    },
    {
      "cell_type": "code",
      "metadata": {
        "colab": {
          "base_uri": "https://localhost:8080/"
        },
        "id": "Zz_ZNkE2pdXY",
        "outputId": "90a092ad-056e-4640-ec2f-31ff775154c4"
      },
      "source": [
        "# 품질을 3 개의 범주(좋음,보통,나쁨)로 재분류\r\n",
        "wine.loc[wine['quality'] <= 5, 'new_quality'] = 0\r\n",
        "wine.loc[wine['quality'] == 6, 'new_quality'] = 1\r\n",
        "wine.loc[wine['quality'] >= 7, 'new_quality'] = 2\r\n",
        "\r\n",
        "print(wine['new_quality'].value_counts())"
      ],
      "execution_count": null,
      "outputs": [
        {
          "output_type": "stream",
          "text": [
            "1.0    2836\n",
            "0.0    2384\n",
            "2.0    1277\n",
            "Name: new_quality, dtype: int64\n"
          ],
          "name": "stdout"
        }
      ]
    },
    {
      "cell_type": "markdown",
      "metadata": {
        "id": "vTqxEBSSq8iQ"
      },
      "source": [
        "정규화 및 데이터 분리"
      ]
    },
    {
      "cell_type": "code",
      "metadata": {
        "id": "8aqpH5_rq7op"
      },
      "source": [
        "del wine['quality']\r\n",
        "\r\n",
        "# 정규화\r\n",
        "wine_norm = (wine - wine.min()) / (wine.max() - wine.min())\r\n",
        "wine_shuffle = wine_norm.sample(frac = 1) # 랜덤으로 섞기\r\n",
        "wine_np = wine_shuffle.to_numpy() #array 전환\r\n",
        "\r\n",
        "train_idx = int(len(wine_np) * 0.8) # 80%만 학습데이터로\r\n",
        "train_X, train_Y = wine_np[:train_idx, :-1], wine_np[:train_idx, -1] # 학습 데이터 X/Y 분할\r\n",
        "test_X, test_Y = wine_np[train_idx:, :-1], wine_np[train_idx:, -1] # 테스트 데이터 X/Y 분할\r\n",
        "train_Y = tf.keras.utils.to_categorical(train_Y, num_classes=3) # 학습 데이터 원 핫 인코딩\r\n",
        "test_Y = tf.keras.utils.to_categorical(test_Y, num_classes=3) # 테스트 데이터 원 핫 인코딩"
      ],
      "execution_count": null,
      "outputs": []
    },
    {
      "cell_type": "markdown",
      "metadata": {
        "id": "V3x_cPIRtGpE"
      },
      "source": [
        "와인 품질 분류 모델 생성 및 학습"
      ]
    },
    {
      "cell_type": "code",
      "metadata": {
        "colab": {
          "base_uri": "https://localhost:8080/"
        },
        "id": "7LOx_mB0tGY3",
        "outputId": "8568cd46-2631-4eba-c458-0ea738b95a57"
      },
      "source": [
        "import tensorflow as tf\r\n",
        "model = tf.keras.Sequential([tf.keras.layers.Dense(units = 48, activation = 'relu', input_shape = (12,)), \r\n",
        "                             tf.keras.layers.Dense(units = 24, activation = 'relu'),\r\n",
        "                             tf.keras.layers.Dense(units = 12, activation = 'relu'),\r\n",
        "                             tf.keras.layers.Dense(units = 3, activation='softmax') \r\n",
        "                             ])\r\n",
        "# 마지막 뉴런 = 3개\r\n",
        "\r\n",
        "model.compile(optimizer=tf.keras.optimizers.Adam(lr=0.03),\r\n",
        "              loss='categorical_crossentropy',\r\n",
        "              metrics=['accuracy'])\r\n",
        "\r\n",
        "history = model.fit(train_X, train_Y, \r\n",
        "                    epochs = 25, batch_size = 32, \r\n",
        "                    validation_split = 0.25)"
      ],
      "execution_count": null,
      "outputs": [
        {
          "output_type": "stream",
          "text": [
            "Epoch 1/25\n",
            "122/122 [==============================] - 1s 3ms/step - loss: 0.4975 - accuracy: 0.8177 - val_loss: 0.4514 - val_accuracy: 0.8231\n",
            "Epoch 2/25\n",
            "122/122 [==============================] - 0s 2ms/step - loss: 0.4143 - accuracy: 0.8163 - val_loss: 0.4298 - val_accuracy: 0.8162\n",
            "Epoch 3/25\n",
            "122/122 [==============================] - 0s 2ms/step - loss: 0.3936 - accuracy: 0.8190 - val_loss: 0.4054 - val_accuracy: 0.8292\n",
            "Epoch 4/25\n",
            "122/122 [==============================] - 0s 2ms/step - loss: 0.4088 - accuracy: 0.8081 - val_loss: 0.4111 - val_accuracy: 0.8231\n",
            "Epoch 5/25\n",
            "122/122 [==============================] - 0s 3ms/step - loss: 0.4081 - accuracy: 0.7928 - val_loss: 0.4263 - val_accuracy: 0.8246\n",
            "Epoch 6/25\n",
            "122/122 [==============================] - 0s 2ms/step - loss: 0.3891 - accuracy: 0.8186 - val_loss: 0.4158 - val_accuracy: 0.8031\n",
            "Epoch 7/25\n",
            "122/122 [==============================] - 0s 2ms/step - loss: 0.3867 - accuracy: 0.8132 - val_loss: 0.4095 - val_accuracy: 0.8031\n",
            "Epoch 8/25\n",
            "122/122 [==============================] - 0s 2ms/step - loss: 0.3925 - accuracy: 0.8022 - val_loss: 0.4072 - val_accuracy: 0.8246\n",
            "Epoch 9/25\n",
            "122/122 [==============================] - 0s 2ms/step - loss: 0.3957 - accuracy: 0.8148 - val_loss: 0.4087 - val_accuracy: 0.8031\n",
            "Epoch 10/25\n",
            "122/122 [==============================] - 0s 2ms/step - loss: 0.3940 - accuracy: 0.8157 - val_loss: 0.4239 - val_accuracy: 0.8031\n",
            "Epoch 11/25\n",
            "122/122 [==============================] - 0s 2ms/step - loss: 0.3985 - accuracy: 0.8065 - val_loss: 0.4114 - val_accuracy: 0.8308\n",
            "Epoch 12/25\n",
            "122/122 [==============================] - 0s 2ms/step - loss: 0.3936 - accuracy: 0.8177 - val_loss: 0.4105 - val_accuracy: 0.8292\n",
            "Epoch 13/25\n",
            "122/122 [==============================] - 0s 2ms/step - loss: 0.3924 - accuracy: 0.8153 - val_loss: 0.4101 - val_accuracy: 0.8162\n",
            "Epoch 14/25\n",
            "122/122 [==============================] - 0s 2ms/step - loss: 0.3846 - accuracy: 0.8250 - val_loss: 0.3997 - val_accuracy: 0.8231\n",
            "Epoch 15/25\n",
            "122/122 [==============================] - 0s 2ms/step - loss: 0.3699 - accuracy: 0.8220 - val_loss: 0.3981 - val_accuracy: 0.8262\n",
            "Epoch 16/25\n",
            "122/122 [==============================] - 0s 2ms/step - loss: 0.3903 - accuracy: 0.8202 - val_loss: 0.4115 - val_accuracy: 0.8185\n",
            "Epoch 17/25\n",
            "122/122 [==============================] - 0s 2ms/step - loss: 0.3666 - accuracy: 0.8285 - val_loss: 0.3938 - val_accuracy: 0.8315\n",
            "Epoch 18/25\n",
            "122/122 [==============================] - 0s 2ms/step - loss: 0.3898 - accuracy: 0.8146 - val_loss: 0.3943 - val_accuracy: 0.8285\n",
            "Epoch 19/25\n",
            "122/122 [==============================] - 0s 2ms/step - loss: 0.3832 - accuracy: 0.8198 - val_loss: 0.4044 - val_accuracy: 0.8031\n",
            "Epoch 20/25\n",
            "122/122 [==============================] - 0s 2ms/step - loss: 0.3904 - accuracy: 0.8101 - val_loss: 0.3957 - val_accuracy: 0.8300\n",
            "Epoch 21/25\n",
            "122/122 [==============================] - 0s 2ms/step - loss: 0.3915 - accuracy: 0.8183 - val_loss: 0.3971 - val_accuracy: 0.8315\n",
            "Epoch 22/25\n",
            "122/122 [==============================] - 0s 2ms/step - loss: 0.3781 - accuracy: 0.8232 - val_loss: 0.4071 - val_accuracy: 0.8331\n",
            "Epoch 23/25\n",
            "122/122 [==============================] - 0s 2ms/step - loss: 0.3976 - accuracy: 0.8197 - val_loss: 0.4079 - val_accuracy: 0.8208\n",
            "Epoch 24/25\n",
            "122/122 [==============================] - 0s 2ms/step - loss: 0.3915 - accuracy: 0.8176 - val_loss: 0.4026 - val_accuracy: 0.8331\n",
            "Epoch 25/25\n",
            "122/122 [==============================] - 0s 2ms/step - loss: 0.3788 - accuracy: 0.8146 - val_loss: 0.3977 - val_accuracy: 0.8300\n"
          ],
          "name": "stdout"
        }
      ]
    }
  ]
}